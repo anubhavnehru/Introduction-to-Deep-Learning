{
  "nbformat": 4,
  "nbformat_minor": 0,
  "metadata": {
    "colab": {
      "provenance": [],
      "gpuType": "T4",
      "include_colab_link": true
    },
    "kernelspec": {
      "name": "python3",
      "display_name": "Python 3"
    },
    "language_info": {
      "name": "python"
    },
    "accelerator": "GPU"
  },
  "cells": [
    {
      "cell_type": "markdown",
      "metadata": {
        "id": "view-in-github",
        "colab_type": "text"
      },
      "source": [
        "<a href=\"https://colab.research.google.com/github/anubhavnehru/Introduction-to-Deep-Learning/blob/main/MIS_285_HW_2_an_mb_sk.ipynb\" target=\"_parent\"><img src=\"https://colab.research.google.com/assets/colab-badge.svg\" alt=\"Open In Colab\"/></a>"
      ]
    },
    {
      "cell_type": "markdown",
      "source": [
        "# MIS 285N Homework 2\n",
        "**Due: Monday, February 5, 11:59 pm**\n",
        "\n",
        "#### MILIND BHATIA (mb67324)\n",
        "#### ANUBHAV NEHRU (an33868)\n",
        "#### SIMRAN KAUR (sk57859)\n",
        "\n",
        "Notebook Link - https://colab.research.google.com/drive/1tzOW9Jq1tyrFlQovT6gA1TCpmS0XQohE?usp=sharing\n",
        "\n",
        "Submit:\n",
        "\n",
        "A pdf of your notebook with solutions.\n",
        "A link to your colab notebook or also upload your .ipynb if not working on colab.\n",
        "\n",
        "# Goals of this Homework\n",
        "\n",
        "There are a number of goals of this notebook:\n",
        "\n",
        "1.   Learning to put together a basic model beyond what we did in the previous notebook. Main emphasis: new layers, including convolution and max pooling.\n",
        "2.   Learning the basics of training.\n",
        "3.   Learning basics of loading data and visualizing.\n",
        "4.   Learning the basics of printing out a model.\n",
        "\n",
        "Also useful to see\n",
        "https://pytorch.org/tutorials/beginner/blitz/cifar10_tutorial.html\n",
        "\n",
        "\n",
        "\n",
        "<img src=\"https://miro.medium.com/max/2510/1*vkQ0hXDaQv57sALXAJquxA.jpeg\" width=1024px/>"
      ],
      "metadata": {
        "id": "JI3k8xslN-dv"
      }
    },
    {
      "cell_type": "code",
      "source": [
        "import torchvision\n",
        "import torchvision.transforms as transforms\n",
        "import torch\n",
        "import torch.nn as nn\n",
        "import torch.nn.functional as F\n",
        "\n",
        "\n",
        "classes = ['plane', 'car', 'bird', 'cat', 'deer', 'dog', 'frog', 'horse', 'ship', 'truck']\n",
        "\n",
        "batch_size = 4\n",
        "\n",
        "# the tutorial calls the dataloader twice -- this code defines a function\n",
        "# that will do this for the train/test data.\n",
        "\n",
        "def fetch_dataloader(batch_size, transform=None, is_train=True):\n",
        "    \"\"\"\n",
        "    We saw the data loaders in the previous hw.\n",
        "    This creates a method for us to get (image, label) pairs.\n",
        "    We can use it so that we do not have to load everything into memory\n",
        "    at once.\n",
        "    \"\"\"\n",
        "    data = torchvision.datasets.CIFAR10(root='./data', train=True, download=True, transform=transform)\n",
        "\n",
        "    # Custom train/val split.\n",
        "    indices = [i for i in range(len(data)) if (i%10 > 0) == is_train]\n",
        "\n",
        "    data = torch.utils.data.Subset(data, indices)\n",
        "    loader = torch.utils.data.DataLoader(data, batch_size=batch_size, shuffle=True, num_workers=2)\n",
        "    return loader\n",
        "\n",
        "\n",
        "train_transform = transforms.Compose(\n",
        "    [transforms.ToTensor(),\n",
        "     transforms.Normalize((0.5, 0.5, 0.5), (0.5, 0.5, 0.5))])\n",
        "\n",
        "val_transform = transforms.Compose(\n",
        "    [transforms.ToTensor(),\n",
        "     transforms.Normalize((0.5, 0.5, 0.5), (0.5, 0.5, 0.5))])\n",
        "\n",
        "data_train = fetch_dataloader(batch_size, train_transform, is_train=True)\n",
        "data_val = fetch_dataloader(batch_size, val_transform, is_train=False)"
      ],
      "metadata": {
        "id": "8p9fen4rODkN",
        "colab": {
          "base_uri": "https://localhost:8080/"
        },
        "outputId": "5329394f-87fe-4746-804b-a620058082a0"
      },
      "execution_count": 1,
      "outputs": [
        {
          "output_type": "stream",
          "name": "stdout",
          "text": [
            "Downloading https://www.cs.toronto.edu/~kriz/cifar-10-python.tar.gz to ./data/cifar-10-python.tar.gz\n"
          ]
        },
        {
          "output_type": "stream",
          "name": "stderr",
          "text": [
            "100%|██████████| 170498071/170498071 [00:04<00:00, 41918963.00it/s]\n"
          ]
        },
        {
          "output_type": "stream",
          "name": "stdout",
          "text": [
            "Extracting ./data/cifar-10-python.tar.gz to ./data\n",
            "Files already downloaded and verified\n"
          ]
        }
      ]
    },
    {
      "cell_type": "markdown",
      "source": [
        "## Problem 1 (nothing to turn in)\n",
        "\n",
        "Read about transforms. These are routinely used when loading images. We've used a particular set of parameters. But you will see many other choices.\n",
        "\n",
        "https://pytorch.org/vision/stable/transforms.html\n"
      ],
      "metadata": {
        "id": "_8Rrhc9mYOCC"
      }
    },
    {
      "cell_type": "markdown",
      "source": [
        "## Problem 2\n",
        "\n",
        "Figure out how to use the data loader to display the data.\n",
        "For example, you could look here\n",
        "\n",
        "https://towardsdatascience.com/beginners-guide-to-loading-image-data-with-pytorch-289c60b7afec\n",
        "and then https://stackoverflow.com/questions/51756581/how-do-i-turn-a-pytorch-dataloader-into-a-numpy-array-to-display-image-data-with\n",
        "\n",
        "or you could look at the pytorch CIFAR10 tutorial\n",
        "\n",
        "https://pytorch.org/tutorials/beginner/blitz/cifar10_tutorial.html"
      ],
      "metadata": {
        "id": "xfBSB388YjYa"
      }
    },
    {
      "cell_type": "code",
      "source": [
        "import matplotlib.pyplot as plt\n",
        "import numpy as np\n",
        "\n",
        "# functions to show an image\n",
        "\n",
        "\n",
        "def imshow(img):\n",
        "    img = img / 2 + 0.5     # unnormalize\n",
        "    npimg = img.numpy()\n",
        "    plt.imshow(np.transpose(npimg, (1, 2, 0)))\n",
        "    plt.show()\n",
        "\n",
        "\n",
        "# get some random training images\n",
        "dataiter = iter(data_train)\n",
        "images, labels = next(dataiter)\n",
        "\n",
        "# show images\n",
        "imshow(torchvision.utils.make_grid(images))\n",
        "# print labels\n",
        "print(' '.join(f'{classes[labels[j]]:5s}' for j in range(batch_size)))"
      ],
      "metadata": {
        "colab": {
          "base_uri": "https://localhost:8080/",
          "height": 210
        },
        "id": "-DPau1hrhTWp",
        "outputId": "17808d9f-c545-4292-a195-154a9063b9c6"
      },
      "execution_count": 2,
      "outputs": [
        {
          "output_type": "display_data",
          "data": {
            "text/plain": [
              "<Figure size 640x480 with 1 Axes>"
            ],
            "image/png": "[encoded data removed]"
          },
          "metadata": {}
        },
        {
          "output_type": "stream",
          "name": "stdout",
          "text": [
            "truck deer  bird  ship \n"
          ]
        }
      ]
    },
    {
      "cell_type": "markdown",
      "source": [
        "## Model Implementation.\n",
        "\n",
        "Now it is time to implement our CNN. You will recognize syntax from the previous HW. However, whereas in the last homework we had only fully connected layers and ReLU layers, here we will use more options. In addition to fully connected and ReLU layers, we want to use:\n",
        "\n",
        "* Convolutional layers: `torch.nn.Conv2d`\n",
        "* Max Pooling Layers:`torch.nn.MaxPool2d`\n",
        "* Average Pooling Layers: `torch.nn.AvgPool2d`\n",
        "\n",
        "Fully connected layers primarily had 3 parameters: input size, output size, and bias.\n",
        "\n",
        "Convolutional layers have many more parameters, as we discussed in class, In particular, recall:\n",
        "\n",
        "* kernel_size\n",
        "* stride\n",
        "* padding\n",
        "* dilation\n",
        "\n",
        "Read about these in the Pytorch documentation:\n",
        "\n",
        "https://pytorch.org/docs/stable/generated/torch.nn.Conv2d.html\n"
      ],
      "metadata": {
        "id": "3sgcXSTLOWDg"
      }
    },
    {
      "cell_type": "markdown",
      "source": [
        "Next we see some basic code, similar in spirit to our previous colab notebook, but, critically, adding a new type of layer: a convolutional layer."
      ],
      "metadata": {
        "id": "XsG9L6AUR_S3"
      }
    },
    {
      "cell_type": "code",
      "source": [
        "# We define two different models, using different syntax.\n",
        "# CNNClassifier is basic code borrowed from Phil Krahenbuhl\n",
        "# ConvNet comes from the pytorch tutorial linked above.\n",
        "#\n",
        "\n",
        "class CNNClassifier(torch.nn.Module):\n",
        "    def __init__(self, input_channels, num_classes):\n",
        "        \"\"\"\n",
        "        Define the layer(s) needed for the model.\n",
        "        Feel free to define additional input arguments.\n",
        "        \"\"\"\n",
        "        super().__init__()\n",
        "        self.conv = nn.Conv2d(input_channels, 16, 7, 2, 3)\n",
        "        self.cls = nn.Linear(16, num_classes)\n",
        "        self.ReLU = nn.ReLU()\n",
        "        # or could do\n",
        "        # self.CNN = nn.Sequential(torch.nn.Conv2d(input_channels, 16, 7, 2, 3), torch.nn.ReLU(),torch.nn.Linear(16, num_classes))\n",
        "\n",
        "    def forward(self, x):\n",
        "        \"\"\"\n",
        "        Calculate the classification score (logits).\n",
        "\n",
        "        Input:\n",
        "            x (float tensor N x 3 x 32 x 32): input images\n",
        "        Output:\n",
        "            y (float tensor N x 10): classification scores (logits) for each class\n",
        "        \"\"\"\n",
        "        x = self.conv(x)\n",
        "\n",
        "        # Add a ReLU\n",
        "        x = self.ReLU(x)\n",
        "        # Add global average pooling\n",
        "        x = x.mean(dim=(2,3))\n",
        "        return self.cls(x)\n",
        "\n",
        "    def predict(self, image):\n",
        "        return self(image).argmax(1)\n",
        "\n",
        "# From the pytorch tutorial linked above.\n",
        "class ConvNet(nn.Module):\n",
        "    def __init__(self):\n",
        "        super().__init__()\n",
        "        self.relu = nn.ReLU()\n",
        "        self.conv1 = nn.Conv2d(3, 6, 5)\n",
        "        self.pool = nn.MaxPool2d(2, 2)\n",
        "        self.conv2 = nn.Conv2d(6, 16, 5)\n",
        "        self.fc1 = nn.Linear(16 * 5 * 5, 120)\n",
        "        self.fc2 = nn.Linear(120, 84)\n",
        "        self.fc3 = nn.Linear(84, 10)\n",
        "\n",
        "    def forward(self, x):\n",
        "        x = self.conv1(x)\n",
        "        x = self.relu(x)\n",
        "        x = self.pool(x)\n",
        "        x = self.conv2(x)\n",
        "        x = self.relu(x)\n",
        "        x = self.pool(x)\n",
        "        x = torch.flatten(x, 1) # flatten all dimensions except batch\n",
        "        x = self.fc1(x)\n",
        "        x = self.relu(x)\n",
        "        x = self.fc2(x)\n",
        "        x = self.relu(x)\n",
        "        x = self.fc3(x)\n",
        "        return x\n",
        "\n",
        "# We can rewrite it equivalently this way\n",
        "class ConvNet2(nn.Module):\n",
        "    def __init__(self):\n",
        "        super().__init__()\n",
        "        self.conv1 = nn.Conv2d(3, 6, 5)\n",
        "        self.pool = nn.MaxPool2d(2, 2)\n",
        "        self.conv2 = nn.Conv2d(6, 16, 5)\n",
        "        self.fc1 = nn.Linear(16 * 5 * 5, 120)\n",
        "        self.fc2 = nn.Linear(120, 84)\n",
        "        self.fc3 = nn.Linear(84, 10)\n",
        "\n",
        "    def forward(self, x):\n",
        "        x = self.pool(F.relu(self.conv1(x)))\n",
        "        x = self.pool(F.relu(self.conv2(x)))\n",
        "        x = torch.flatten(x, 1) # flatten all dimensions except batch\n",
        "        x = F.relu(self.fc1(x))\n",
        "        x = F.relu(self.fc2(x))\n",
        "        x = self.fc3(x)\n",
        "        return x\n",
        "\n",
        "\n",
        "# This way is also equivalent\n",
        "class ConvNet3(nn.Module):\n",
        "    def __init__(self):\n",
        "        super().__init__()\n",
        "        self.relu = nn.ReLU()\n",
        "        self.conv1 = nn.Conv2d(3, 6, 5)\n",
        "        self.pool = nn.MaxPool2d(2, 2)\n",
        "        self.conv2 = nn.Conv2d(6, 16, 5)\n",
        "        self.fc1 = nn.Linear(16 * 5 * 5, 120)\n",
        "        self.fc2 = nn.Linear(120, 84)\n",
        "        self.fc3 = nn.Linear(84, 10)\n",
        "\n",
        "    def forward(self, x):\n",
        "        x = self.pool(self.relu(self.conv1(x)))\n",
        "        x = self.pool(self.relu(self.conv2(x)))\n",
        "        x = torch.flatten(x, 1) # flatten all dimensions except batch\n",
        "        x = self.relu(self.fc1(x))\n",
        "        x = self.relu(self.fc2(x))\n",
        "        x = self.fc3(x)\n",
        "        return x"
      ],
      "metadata": {
        "id": "mfX01eXCOSPl"
      },
      "execution_count": 3,
      "outputs": []
    },
    {
      "cell_type": "markdown",
      "source": [
        "## Model Training and Validation\n"
      ],
      "metadata": {
        "id": "ADZBQqs0O_Pj"
      }
    },
    {
      "cell_type": "code",
      "source": [
        "# Best to use a GPU: change your runtime and select the free GPU\n",
        "# Then we need to load our data onto whatever compute element we're using.\n",
        "device = torch.device(\"cuda:0\" if torch.cuda.is_available() else \"cpu\")\n"
      ],
      "metadata": {
        "id": "ez6sGEy8nPEg"
      },
      "execution_count": 4,
      "outputs": []
    },
    {
      "cell_type": "code",
      "source": [
        "# Now we train the first model.\n",
        "#\n",
        "\n",
        "\n",
        "# Choose a model to train\n",
        "model = CNNClassifier(3, 10)\n",
        "loss_function = nn.CrossEntropyLoss()\n",
        "optimizer = torch.optim.SGD(model.parameters(), lr=0.001, momentum=0.9)\n",
        "device = torch.device('cuda' if torch.cuda.is_available() else 'cpu')\n",
        "model.to(device)\n",
        "model.train()\n",
        "\n",
        "\n",
        "for epoch in range(5):  # loop over the dataset multiple times\n",
        "\n",
        "    running_loss = 0.0\n",
        "    for i, data in enumerate(data_train, 0):\n",
        "        # get the inputs; data is a list of [inputs, labels]\n",
        "        inputs, labels = data\n",
        "        inputs = inputs.to(device)\n",
        "        labels = labels.to(device)\n",
        "\n",
        "        # zero the parameter gradients\n",
        "        optimizer.zero_grad()\n",
        "\n",
        "        # forward + backward + optimize\n",
        "        outputs = model(inputs)\n",
        "        loss = loss_function(outputs, labels)\n",
        "        loss.backward()\n",
        "        optimizer.step()\n",
        "\n",
        "        # print statistics\n",
        "        running_loss += loss.item()\n",
        "        if i % 2000 == 1999:    # print every 2000 mini-batches\n",
        "            print('[%d, %5d] loss: %.3f' %\n",
        "                  (epoch + 1, i + 1, running_loss / 2000))\n",
        "            running_loss = 0.0\n",
        "\n",
        "print('Finished Training')"
      ],
      "metadata": {
        "id": "UUwTRj3QD_Mr",
        "colab": {
          "base_uri": "https://localhost:8080/"
        },
        "outputId": "0f506c3f-49b0-4f29-d623-7481e63c4075"
      },
      "execution_count": 5,
      "outputs": [
        {
          "output_type": "stream",
          "name": "stdout",
          "text": [
            "[1,  2000] loss: 2.228\n",
            "[1,  4000] loss: 2.102\n",
            "[1,  6000] loss: 2.046\n",
            "[1,  8000] loss: 1.999\n",
            "[1, 10000] loss: 1.963\n",
            "[2,  2000] loss: 1.903\n",
            "[2,  4000] loss: 1.892\n",
            "[2,  6000] loss: 1.856\n",
            "[2,  8000] loss: 1.831\n",
            "[2, 10000] loss: 1.821\n",
            "[3,  2000] loss: 1.804\n",
            "[3,  4000] loss: 1.805\n",
            "[3,  6000] loss: 1.786\n",
            "[3,  8000] loss: 1.787\n",
            "[3, 10000] loss: 1.778\n",
            "[4,  2000] loss: 1.755\n",
            "[4,  4000] loss: 1.766\n",
            "[4,  6000] loss: 1.766\n",
            "[4,  8000] loss: 1.770\n",
            "[4, 10000] loss: 1.780\n",
            "[5,  2000] loss: 1.765\n",
            "[5,  4000] loss: 1.758\n",
            "[5,  6000] loss: 1.746\n",
            "[5,  8000] loss: 1.737\n",
            "[5, 10000] loss: 1.743\n",
            "Finished Training\n"
          ]
        }
      ]
    },
    {
      "cell_type": "code",
      "source": [
        "# Let's see how well this trained model performs on a couple data points.\n",
        "dataiter = iter(data_val)\n",
        "images, labels = next(dataiter)\n",
        "\n",
        "# print images\n",
        "imshow(torchvision.utils.make_grid(images))\n",
        "print('GroundTruth: ', ' '.join('%5s' % classes[labels[j]] for j in range(4)))\n",
        "\n",
        "device = torch.device(\"cuda\" if torch.cuda.is_available() else \"cpu\")\n",
        "images, labels = images.to(device), labels.to(device)\n",
        "\n",
        "# and now what our model thinks\n",
        "output = model(images)\n",
        "_, predicted = torch.max(outputs, 1)\n",
        "\n",
        "print('Predicted: ', ' '.join('%5s' % classes[predicted[j]]\n",
        "                              for j in range(4)))"
      ],
      "metadata": {
        "id": "QBpMcMooGGgp",
        "colab": {
          "base_uri": "https://localhost:8080/",
          "height": 228
        },
        "outputId": "bab072d4-7da5-4780-f2d2-b3db04628b38"
      },
      "execution_count": 6,
      "outputs": [
        {
          "output_type": "display_data",
          "data": {
            "text/plain": [
              "<Figure size 640x480 with 1 Axes>"
            ],
            "image/png": "[encoded data removed]"
          },
          "metadata": {}
        },
        {
          "output_type": "stream",
          "name": "stdout",
          "text": [
            "GroundTruth:  horse plane horse  deer\n",
            "Predicted:  plane  frog  deer plane\n"
          ]
        }
      ]
    },
    {
      "cell_type": "markdown",
      "source": [
        "## Problem 3\n",
        "\n",
        "Use your validation data loader (data_val) to assess the accuracy on the entire data set.\n",
        "\n",
        "If you did this correctly, you should find that your accuracy is somewhere in the 30-40% range -- not great, but a lot better than guessing, and much better than we were able to do with trees.  "
      ],
      "metadata": {
        "id": "zOwztLMgnZMs"
      }
    },
    {
      "cell_type": "code",
      "source": [
        "correct = 0\n",
        "total = 0\n",
        "# since we're not training, we don't need to calculate the gradients for our outputs\n",
        "with torch.no_grad():\n",
        "    for data in data_val:\n",
        "        images, labels = data\n",
        "        images, labels = images.to(device), labels.to(device)\n",
        "        # calculate outputs by running images through the network\n",
        "        outputs = model(images)\n",
        "        # the class with the highest energy is what we choose as prediction\n",
        "        _, predicted = torch.max(outputs.data, 1)\n",
        "        total += labels.size(0)\n",
        "        correct += (predicted == labels).sum().item()\n",
        "\n",
        "print(f'Accuracy of the network on the validation dataset: {100 * correct / total} %')"
      ],
      "metadata": {
        "colab": {
          "base_uri": "https://localhost:8080/"
        },
        "id": "4qdjl7ryiWjO",
        "outputId": "b5205cab-3ff1-4e04-b59b-23ee4f377f0c"
      },
      "execution_count": 7,
      "outputs": [
        {
          "output_type": "stream",
          "name": "stdout",
          "text": [
            "Accuracy of the network on the validation dataset: 34.56 %\n"
          ]
        }
      ]
    },
    {
      "cell_type": "markdown",
      "source": [
        "# Time to train the deeper model"
      ],
      "metadata": {
        "id": "8h45uhZ_oBvl"
      }
    },
    {
      "cell_type": "code",
      "source": [
        "# Now we train the second model. We see that it does quite a bit better than the first.\n",
        "#\n",
        "device = torch.device('cuda' if torch.cuda.is_available() else 'cpu')\n",
        "\n",
        "\n",
        "# Choose a model to train\n",
        "model2 = ConvNet() # note that this command resets the parameters\n",
        "model2.to(device)\n",
        "model2.train()\n",
        "\n",
        "# Set the loss function and optimizer\n",
        "loss_function = nn.CrossEntropyLoss()\n",
        "optimizer = torch.optim.SGD(model2.parameters(), lr=0.001, momentum=0.9)\n",
        "device = torch.device('cuda' if torch.cuda.is_available() else 'cpu')\n",
        "\n",
        "\n"
      ],
      "metadata": {
        "id": "7fTVlT9R4kuH"
      },
      "execution_count": 19,
      "outputs": []
    },
    {
      "cell_type": "code",
      "source": [
        "for epoch in range(2):  # loop over the dataset multiple times\n",
        "\n",
        "    running_loss = 0.0\n",
        "    for i, data in enumerate(data_train, 0):\n",
        "        # get the inputs; data is a list of [inputs, labels]\n",
        "        inputs, labels = data\n",
        "        inputs = inputs.to(device)\n",
        "        labels = labels.to(device)\n",
        "\n",
        "        # zero the parameter gradients\n",
        "        optimizer.zero_grad()\n",
        "\n",
        "        # forward + backward + optimize\n",
        "        outputs = model2(inputs)\n",
        "        loss = loss_function(outputs, labels)\n",
        "        loss.backward()\n",
        "        optimizer.step()\n",
        "\n",
        "        # print statistics\n",
        "        running_loss += loss.item()\n",
        "        if i % 2000 == 1999:    # print every 2000 mini-batches\n",
        "            print('[%d, %5d] loss: %.3f' %\n",
        "                  (epoch + 1, i + 1, running_loss / 2000))\n",
        "            running_loss = 0.0\n",
        "\n",
        "print('Finished Training')"
      ],
      "metadata": {
        "id": "Si8PVtbbCYgV",
        "colab": {
          "base_uri": "https://localhost:8080/"
        },
        "outputId": "759bd6f0-f996-4e7c-e494-7f3123f79c1d"
      },
      "execution_count": 20,
      "outputs": [
        {
          "output_type": "stream",
          "name": "stdout",
          "text": [
            "[1,  2000] loss: 2.193\n",
            "[1,  4000] loss: 1.856\n",
            "[1,  6000] loss: 1.677\n",
            "[1,  8000] loss: 1.560\n",
            "[1, 10000] loss: 1.505\n",
            "[2,  2000] loss: 1.410\n",
            "[2,  4000] loss: 1.384\n",
            "[2,  6000] loss: 1.347\n",
            "[2,  8000] loss: 1.327\n",
            "[2, 10000] loss: 1.296\n",
            "Finished Training\n"
          ]
        }
      ]
    },
    {
      "cell_type": "markdown",
      "source": [
        "## Problem 4\n",
        "\n",
        "Repeat what you did for Problem 3 above: use your validation data loader (data_val) to assess the accuracy on the entire data set.\n",
        "\n",
        "If you did this correctly, you should find that your accuracy is somewhere in the 50-60% range. Far from perfect, but still better than how we did above."
      ],
      "metadata": {
        "id": "eF6mZfy-oT0y"
      }
    },
    {
      "cell_type": "code",
      "source": [
        "correct = 0\n",
        "total = 0\n",
        "# since we're not training, we don't need to calculate the gradients for our outputs\n",
        "with torch.no_grad():\n",
        "    for data in data_val:\n",
        "        images, labels = data\n",
        "        images, labels = images.to(device), labels.to(device)\n",
        "        # calculate outputs by running images through the network\n",
        "        outputs = model2(images)\n",
        "        # the class with the highest energy is what we choose as prediction\n",
        "        _, predicted = torch.max(outputs.data, 1)\n",
        "        total += labels.size(0)\n",
        "        correct += (predicted == labels).sum().item()\n",
        "\n",
        "print(f'Accuracy of the network on the validation dataset: {100 * correct / total} %')"
      ],
      "metadata": {
        "colab": {
          "base_uri": "https://localhost:8080/"
        },
        "id": "LTGUVoCPqGug",
        "outputId": "5d5206ba-069f-4ad2-fdc5-64ddff97e632"
      },
      "execution_count": 21,
      "outputs": [
        {
          "output_type": "stream",
          "name": "stdout",
          "text": [
            "Accuracy of the network on the validation dataset: 53.92 %\n"
          ]
        }
      ]
    },
    {
      "cell_type": "markdown",
      "source": [
        "## Problem 5\n",
        "\n",
        "How many parameters does your model have? You can either compute by hand, or much better, use the summary command from torchsummary\n",
        "```\n",
        "from torchsummary import summary\n",
        "```\n",
        "Note that you'll have to figure out how to use use, and also you will have to enter the size of your input.\n",
        "\n",
        "Also try using the command\n",
        "\n",
        "```\n",
        "for name, layer in model2.named_modules():\n",
        "    print(name,layer)\n",
        "```\n",
        "This one is very useful when we want to download someone else's netework, and we need to know what the names of the layers are."
      ],
      "metadata": {
        "id": "xChhktbAot6E"
      }
    },
    {
      "cell_type": "markdown",
      "source": [
        "*Our model has 62,006 parameters*"
      ],
      "metadata": {
        "id": "t-tYiw5f3nw5"
      }
    },
    {
      "cell_type": "code",
      "source": [
        "from torchsummary import summary\n",
        "\n",
        "summary(model2, input_size = (3,32,32))"
      ],
      "metadata": {
        "colab": {
          "base_uri": "https://localhost:8080/"
        },
        "id": "m0e55JoTqOJx",
        "outputId": "a707095c-303c-4f7c-fdfa-e072d3afde95"
      },
      "execution_count": 11,
      "outputs": [
        {
          "output_type": "stream",
          "name": "stdout",
          "text": [
            "----------------------------------------------------------------\n",
            "        Layer (type)               Output Shape         Param #\n",
            "================================================================\n",
            "            Conv2d-1            [-1, 6, 28, 28]             456\n",
            "              ReLU-2            [-1, 6, 28, 28]               0\n",
            "         MaxPool2d-3            [-1, 6, 14, 14]               0\n",
            "            Conv2d-4           [-1, 16, 10, 10]           2,416\n",
            "              ReLU-5           [-1, 16, 10, 10]               0\n",
            "         MaxPool2d-6             [-1, 16, 5, 5]               0\n",
            "            Linear-7                  [-1, 120]          48,120\n",
            "              ReLU-8                  [-1, 120]               0\n",
            "            Linear-9                   [-1, 84]          10,164\n",
            "             ReLU-10                   [-1, 84]               0\n",
            "           Linear-11                   [-1, 10]             850\n",
            "================================================================\n",
            "Total params: 62,006\n",
            "Trainable params: 62,006\n",
            "Non-trainable params: 0\n",
            "----------------------------------------------------------------\n",
            "Input size (MB): 0.01\n",
            "Forward/backward pass size (MB): 0.11\n",
            "Params size (MB): 0.24\n",
            "Estimated Total Size (MB): 0.36\n",
            "----------------------------------------------------------------\n"
          ]
        }
      ]
    },
    {
      "cell_type": "code",
      "source": [
        "for name, layer in model2.named_modules():\n",
        "    print(name,layer)"
      ],
      "metadata": {
        "colab": {
          "base_uri": "https://localhost:8080/"
        },
        "id": "vNzB8ov1qTuC",
        "outputId": "0f571a77-c5c3-4910-e651-6471a2e76ded"
      },
      "execution_count": 12,
      "outputs": [
        {
          "output_type": "stream",
          "name": "stdout",
          "text": [
            " ConvNet(\n",
            "  (relu): ReLU()\n",
            "  (conv1): Conv2d(3, 6, kernel_size=(5, 5), stride=(1, 1))\n",
            "  (pool): MaxPool2d(kernel_size=2, stride=2, padding=0, dilation=1, ceil_mode=False)\n",
            "  (conv2): Conv2d(6, 16, kernel_size=(5, 5), stride=(1, 1))\n",
            "  (fc1): Linear(in_features=400, out_features=120, bias=True)\n",
            "  (fc2): Linear(in_features=120, out_features=84, bias=True)\n",
            "  (fc3): Linear(in_features=84, out_features=10, bias=True)\n",
            ")\n",
            "relu ReLU()\n",
            "conv1 Conv2d(3, 6, kernel_size=(5, 5), stride=(1, 1))\n",
            "pool MaxPool2d(kernel_size=2, stride=2, padding=0, dilation=1, ceil_mode=False)\n",
            "conv2 Conv2d(6, 16, kernel_size=(5, 5), stride=(1, 1))\n",
            "fc1 Linear(in_features=400, out_features=120, bias=True)\n",
            "fc2 Linear(in_features=120, out_features=84, bias=True)\n",
            "fc3 Linear(in_features=84, out_features=10, bias=True)\n"
          ]
        }
      ]
    },
    {
      "cell_type": "markdown",
      "source": [
        "## Problem 6\n",
        "\n",
        "How much can you decrease the error? Try to make your own convolutional neural network for CIFAR-10. Don't make it so big that you can't train it on Colab! You can play around with the parameters of the network and also with the parameters of training (train for longer -- more epochs, possibly using other parameters for step size, momentum, etc.).\n",
        "\n",
        "**We will give 20 lab bonus points to the team with the best accuracy.**"
      ],
      "metadata": {
        "id": "C4NiFZjIrKFD"
      }
    },
    {
      "cell_type": "code",
      "source": [
        "class custom_cnn(nn.Module):\n",
        "    def __init__(self):\n",
        "        super(custom_cnn, self).__init__()\n",
        "\n",
        "        self.conv1 = nn.Sequential(\n",
        "            nn.Conv2d(in_channels=3, out_channels=64, kernel_size=3, padding=1),\n",
        "            nn.BatchNorm2d(64),\n",
        "            nn.ReLU(inplace=True)\n",
        "        )\n",
        "        self.conv2 = nn.Sequential(\n",
        "            nn.Conv2d(in_channels=64, out_channels=128, kernel_size=3, padding=1),\n",
        "            nn.BatchNorm2d(128),\n",
        "            nn.ReLU(inplace=True),\n",
        "            nn.MaxPool2d(2)\n",
        "        )\n",
        "\n",
        "        self.res1 = nn.Sequential(nn.Sequential(\n",
        "            nn.Conv2d(in_channels=128, out_channels=128, kernel_size=3, padding=1),\n",
        "            nn.BatchNorm2d(128),\n",
        "            nn.ReLU(inplace=True)\n",
        "        ), nn.Sequential(\n",
        "            nn.Conv2d(in_channels=128, out_channels=128, kernel_size=3, padding=1),\n",
        "            nn.BatchNorm2d(128),\n",
        "            nn.ReLU(inplace=True))\n",
        "        )\n",
        "\n",
        "        self.conv3 = nn.Sequential(\n",
        "            nn.Conv2d(in_channels=128, out_channels=256, kernel_size=3, padding=1),\n",
        "            nn.BatchNorm2d(256),\n",
        "            nn.ReLU(inplace=True),\n",
        "            nn.MaxPool2d(2)\n",
        "        )\n",
        "        self.conv4 = nn.Sequential(\n",
        "            nn.Conv2d(in_channels=256, out_channels=512, kernel_size=3, padding=1),\n",
        "            nn.BatchNorm2d(512),\n",
        "            nn.ReLU(inplace=True),\n",
        "            nn.MaxPool2d(2)\n",
        "        )\n",
        "\n",
        "        self.res2 = nn.Sequential(nn.Sequential(\n",
        "            nn.Conv2d(in_channels=512, out_channels=512, kernel_size=3, padding=1),\n",
        "            nn.BatchNorm2d(512),\n",
        "            nn.ReLU(inplace=True)\n",
        "        ), nn.Sequential(\n",
        "            nn.Conv2d(in_channels=512, out_channels=512, kernel_size=3, padding=1),\n",
        "            nn.BatchNorm2d(512),\n",
        "            nn.ReLU(inplace=True))\n",
        "        )\n",
        "\n",
        "        self.classifier = nn.Sequential(\n",
        "            nn.MaxPool2d(4),\n",
        "            nn.Flatten(),\n",
        "            nn.Linear(512, 10)\n",
        "        )\n",
        "\n",
        "    def forward(self, x):\n",
        "        x = self.conv1(x)\n",
        "        x = self.conv2(x)\n",
        "        x = self.res1(x) + x\n",
        "        x = self.conv3(x)\n",
        "        x = self.conv4(x)\n",
        "        x = self.res2(x) + x\n",
        "        x = self.classifier(x)\n",
        "\n",
        "        return x"
      ],
      "metadata": {
        "id": "kyo975N8RsVl"
      },
      "execution_count": 15,
      "outputs": []
    },
    {
      "cell_type": "code",
      "source": [
        "# Now we train the second model. We see that it does quite a bit better than the first.\n",
        "#\n",
        "device = torch.device('cuda' if torch.cuda.is_available() else 'cpu')\n",
        "\n",
        "\n",
        "# Choose a model to train\n",
        "model_res = custom_cnn() # note that this command resets the parameters\n",
        "model_res.to(device)\n",
        "model_res.train()\n",
        "\n",
        "# Set the loss function and optimizer\n",
        "loss_function = nn.CrossEntropyLoss()\n",
        "optimizer = torch.optim.Adam(model_res.parameters(), lr=0.001, betas=(0.9, 0.999), eps=1e-8,\n",
        "                  weight_decay=0, amsgrad=False)\n",
        "device = torch.device('cuda' if torch.cuda.is_available() else 'cpu')\n",
        "\n",
        "\n"
      ],
      "metadata": {
        "id": "ew9l6L1aRFwF"
      },
      "execution_count": 16,
      "outputs": []
    },
    {
      "cell_type": "code",
      "source": [
        "for epoch in range(25):  # loop over the dataset multiple times\n",
        "\n",
        "    running_loss = 0.0\n",
        "    for i, data in enumerate(data_train, 0):\n",
        "        # get the inputs; data is a list of [inputs, labels]\n",
        "        inputs, labels = data\n",
        "        inputs = inputs.to(device)\n",
        "        labels = labels.to(device)\n",
        "\n",
        "        # zero the parameter gradients\n",
        "        optimizer.zero_grad()\n",
        "\n",
        "        # forward + backward + optimize\n",
        "        outputs = model_res(inputs)\n",
        "        loss = loss_function(outputs, labels)\n",
        "        loss.backward()\n",
        "        optimizer.step()\n",
        "\n",
        "        # print statistics\n",
        "        running_loss += loss.item()\n",
        "        if i % 2000 == 1999:    # print every 2000 mini-batches\n",
        "            print('[%d, %5d] loss: %.3f' %\n",
        "                  (epoch + 1, i + 1, running_loss / 2000))\n",
        "            running_loss = 0.0\n",
        "\n",
        "print('Finished Training')"
      ],
      "metadata": {
        "colab": {
          "base_uri": "https://localhost:8080/"
        },
        "id": "vIEGDWVfRRMq",
        "outputId": "1fcbbc60-d4bd-433f-ef15-7d9ac0d6cca7"
      },
      "execution_count": 17,
      "outputs": [
        {
          "output_type": "stream",
          "name": "stdout",
          "text": [
            "[1,  2000] loss: 2.162\n",
            "[1,  4000] loss: 1.750\n",
            "[1,  6000] loss: 1.439\n",
            "[1,  8000] loss: 1.231\n",
            "[1, 10000] loss: 1.098\n",
            "[2,  2000] loss: 0.888\n",
            "[2,  4000] loss: 0.843\n",
            "[2,  6000] loss: 0.805\n",
            "[2,  8000] loss: 0.750\n",
            "[2, 10000] loss: 0.730\n",
            "[3,  2000] loss: 0.583\n",
            "[3,  4000] loss: 0.584\n",
            "[3,  6000] loss: 0.550\n",
            "[3,  8000] loss: 0.542\n",
            "[3, 10000] loss: 0.546\n",
            "[4,  2000] loss: 0.368\n",
            "[4,  4000] loss: 0.415\n",
            "[4,  6000] loss: 0.421\n",
            "[4,  8000] loss: 0.394\n",
            "[4, 10000] loss: 0.414\n",
            "[5,  2000] loss: 0.272\n",
            "[5,  4000] loss: 0.282\n",
            "[5,  6000] loss: 0.294\n",
            "[5,  8000] loss: 0.295\n",
            "[5, 10000] loss: 0.294\n",
            "[6,  2000] loss: 0.166\n",
            "[6,  4000] loss: 0.202\n",
            "[6,  6000] loss: 0.196\n",
            "[6,  8000] loss: 0.213\n",
            "[6, 10000] loss: 0.213\n",
            "[7,  2000] loss: 0.125\n",
            "[7,  4000] loss: 0.144\n",
            "[7,  6000] loss: 0.150\n",
            "[7,  8000] loss: 0.158\n",
            "[7, 10000] loss: 0.179\n",
            "[8,  2000] loss: 0.097\n",
            "[8,  4000] loss: 0.111\n",
            "[8,  6000] loss: 0.129\n",
            "[8,  8000] loss: 0.123\n",
            "[8, 10000] loss: 0.141\n",
            "[9,  2000] loss: 0.073\n",
            "[9,  4000] loss: 0.093\n",
            "[9,  6000] loss: 0.110\n",
            "[9,  8000] loss: 0.107\n",
            "[9, 10000] loss: 0.114\n",
            "[10,  2000] loss: 0.074\n",
            "[10,  4000] loss: 0.080\n",
            "[10,  6000] loss: 0.097\n",
            "[10,  8000] loss: 0.090\n",
            "[10, 10000] loss: 0.100\n",
            "[11,  2000] loss: 0.065\n",
            "[11,  4000] loss: 0.086\n",
            "[11,  6000] loss: 0.081\n",
            "[11,  8000] loss: 0.090\n",
            "[11, 10000] loss: 0.087\n",
            "[12,  2000] loss: 0.056\n",
            "[12,  4000] loss: 0.068\n",
            "[12,  6000] loss: 0.069\n",
            "[12,  8000] loss: 0.080\n",
            "[12, 10000] loss: 0.082\n",
            "[13,  2000] loss: 0.058\n",
            "[13,  4000] loss: 0.061\n",
            "[13,  6000] loss: 0.085\n",
            "[13,  8000] loss: 0.063\n",
            "[13, 10000] loss: 0.073\n",
            "[14,  2000] loss: 0.041\n",
            "[14,  4000] loss: 0.061\n",
            "[14,  6000] loss: 0.073\n",
            "[14,  8000] loss: 0.059\n",
            "[14, 10000] loss: 0.078\n",
            "[15,  2000] loss: 0.049\n",
            "[15,  4000] loss: 0.061\n",
            "[15,  6000] loss: 0.064\n",
            "[15,  8000] loss: 0.067\n",
            "[15, 10000] loss: 0.060\n",
            "[16,  2000] loss: 0.045\n",
            "[16,  4000] loss: 0.054\n",
            "[16,  6000] loss: 0.072\n",
            "[16,  8000] loss: 0.057\n",
            "[16, 10000] loss: 0.057\n",
            "[17,  2000] loss: 0.047\n",
            "[17,  4000] loss: 0.048\n",
            "[17,  6000] loss: 0.070\n",
            "[17,  8000] loss: 0.056\n",
            "[17, 10000] loss: 0.058\n",
            "[18,  2000] loss: 0.044\n",
            "[18,  4000] loss: 0.058\n",
            "[18,  6000] loss: 0.051\n",
            "[18,  8000] loss: 0.056\n",
            "[18, 10000] loss: 0.065\n",
            "[19,  2000] loss: 0.047\n",
            "[19,  4000] loss: 0.047\n",
            "[19,  6000] loss: 0.050\n",
            "[19,  8000] loss: 0.053\n",
            "[19, 10000] loss: 0.052\n",
            "[20,  2000] loss: 0.043\n",
            "[20,  4000] loss: 0.050\n",
            "[20,  6000] loss: 0.049\n",
            "[20,  8000] loss: 0.049\n",
            "[20, 10000] loss: 0.055\n",
            "[21,  2000] loss: 0.042\n",
            "[21,  4000] loss: 0.048\n",
            "[21,  6000] loss: 0.043\n",
            "[21,  8000] loss: 0.049\n",
            "[21, 10000] loss: 0.060\n",
            "[22,  2000] loss: 0.044\n",
            "[22,  4000] loss: 0.049\n",
            "[22,  6000] loss: 0.044\n",
            "[22,  8000] loss: 0.053\n",
            "[22, 10000] loss: 0.048\n",
            "[23,  2000] loss: 0.045\n",
            "[23,  4000] loss: 0.048\n",
            "[23,  6000] loss: 0.045\n",
            "[23,  8000] loss: 0.042\n",
            "[23, 10000] loss: 0.046\n",
            "[24,  2000] loss: 0.045\n",
            "[24,  4000] loss: 0.049\n",
            "[24,  6000] loss: 0.045\n",
            "[24,  8000] loss: 0.052\n",
            "[24, 10000] loss: 0.044\n",
            "[25,  2000] loss: 0.039\n",
            "[25,  4000] loss: 0.048\n",
            "[25,  6000] loss: 0.044\n",
            "[25,  8000] loss: 0.040\n",
            "[25, 10000] loss: 0.047\n",
            "Finished Training\n"
          ]
        }
      ]
    },
    {
      "cell_type": "code",
      "source": [
        "correct = 0\n",
        "total = 0\n",
        "# since we're not training, we don't need to calculate the gradients for our outputs\n",
        "with torch.no_grad():\n",
        "    for data in data_val:\n",
        "        images, labels = data\n",
        "        images, labels = images.to(device), labels.to(device)\n",
        "        # calculate outputs by running images through the network\n",
        "        outputs = model_res(images)\n",
        "        # the class with the highest energy is what we choose as prediction\n",
        "        _, predicted = torch.max(outputs.data, 1)\n",
        "        total += labels.size(0)\n",
        "        correct += (predicted == labels).sum().item()\n",
        "\n",
        "print(f'Accuracy of the network on the validation dataset: {100 * correct / total} %')"
      ],
      "metadata": {
        "colab": {
          "base_uri": "https://localhost:8080/"
        },
        "id": "x1GcUrzCRgA3",
        "outputId": "1eb9c084-f4fd-4143-8d41-d0bbcf5a779a"
      },
      "execution_count": 18,
      "outputs": [
        {
          "output_type": "stream",
          "name": "stdout",
          "text": [
            "Accuracy of the network on the validation dataset: 83.84 %\n"
          ]
        }
      ]
    },
    {
      "cell_type": "code",
      "source": [],
      "metadata": {
        "id": "JpCpSVyd8Ty6"
      },
      "execution_count": null,
      "outputs": []
    },
    {
      "cell_type": "code",
      "source": [],
      "metadata": {
        "id": "kUx2Zt168Tu6"
      },
      "execution_count": null,
      "outputs": []
    },
    {
      "cell_type": "code",
      "source": [],
      "metadata": {
        "id": "rojF9_KC8TrZ"
      },
      "execution_count": null,
      "outputs": []
    },
    {
      "cell_type": "code",
      "source": [],
      "metadata": {
        "id": "N-BWDN0c8Too"
      },
      "execution_count": null,
      "outputs": []
    },
    {
      "cell_type": "code",
      "source": [],
      "metadata": {
        "id": "1wrtJDZ58Tdr"
      },
      "execution_count": null,
      "outputs": []
    }
  ]
}