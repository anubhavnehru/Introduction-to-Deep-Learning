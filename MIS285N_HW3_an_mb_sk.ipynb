{
  "cells": [
    {
      "cell_type": "markdown",
      "metadata": {
        "id": "view-in-github",
        "colab_type": "text"
      },
      "source": [
        "<a href=\"https://colab.research.google.com/github/anubhavnehru/Introduction-to-Deep-Learning/blob/main/MIS285N_HW3_an_mb_sk.ipynb\" target=\"_parent\"><img src=\"https://colab.research.google.com/assets/colab-badge.svg\" alt=\"Open In Colab\"/></a>"
      ]
    },
    {
      "cell_type": "markdown",
      "metadata": {
        "id": "HwFfnQgbXJ_F"
      },
      "source": [
        "# MIS 285N Homework 3\n",
        "**Due: Thursday, February 15, 11:59 pm**\n",
        "\n",
        "#### MILIND BHATIA (mb67324)\n",
        "#### ANUBHAV NEHRU (an33868)\n",
        "#### SIMRAN KAUR (sk57859)\n",
        "\n",
        "Notebook Link - https://colab.research.google.com/drive/1GQBnLx83XOku1542maCWH74H17LT4yVN?usp=sharing&authuser=1\n",
        "\n",
        "\n",
        "Submit:\n",
        "\n",
        "A pdf of your notebook with solutions.\n",
        "A link to your colab notebook or also upload your .ipynb if not working on colab.\n",
        "\n",
        "# Goals of this Homework: Fine Tuning and Transfer Learning\n",
        "\n",
        "The goal of this colab notebook and homework is to get down the basics of Transfer learning, and harnessing the power of pre-trained notebooks. Along the way, we get experience with creating and labeling data sets, and a number of other Python tools.\n",
        "\n",
        "Specifically, we do the following:\n",
        "\n",
        "* In this colab notebook, we create our own labeled image data set, with calls to the Bing API. We use this to download images with user-specified labels, into train and test directories.\n",
        "\n",
        "* We preprocess all the images and use the directory names as lables to create our training and testing data sets.\n",
        "\n",
        "* Then we download a pre-trained convolutional neural network from Pytorch. There is wide selection here. These have been trained on ImageNet. See references below.\n",
        "\n",
        "* Then we add a new last layer, and train. Note that the last layer we add has to have the right size, namely, the number of classes in our data.\n",
        "\n",
        "* Things to play with: Choosing different pre-trained models; Fine tuning the entire network vs freezing and fine tuning only the last layer or layers; Possibly adding more of our own layers at the end. (See the last optional problem at the end).\n",
        "\n",
        "\n",
        "Some references:\n",
        "\n",
        "The bing image downloader package from here https://pypi.org/project/bing-image-downloader/\n"
      ]
    },
    {
      "cell_type": "markdown",
      "metadata": {
        "id": "QxSFt4vWr7Bl"
      },
      "source": [
        "# The following will allow us to call the Bing Image Downloader"
      ]
    },
    {
      "cell_type": "code",
      "execution_count": 2,
      "metadata": {
        "colab": {
          "base_uri": "https://localhost:8080/"
        },
        "id": "AHSCfFin4A9F",
        "outputId": "75d879b8-5859-498d-dd77-3cb4beb63ca1"
      },
      "outputs": [
        {
          "output_type": "stream",
          "name": "stdout",
          "text": [
            "Collecting bing-image-downloader\n",
            "  Downloading bing_image_downloader-1.1.2-py3-none-any.whl (5.9 kB)\n",
            "Installing collected packages: bing-image-downloader\n",
            "Successfully installed bing-image-downloader-1.1.2\n"
          ]
        }
      ],
      "source": [
        "!pip install bing-image-downloader\n"
      ]
    },
    {
      "cell_type": "code",
      "execution_count": 3,
      "metadata": {
        "colab": {
          "base_uri": "https://localhost:8080/"
        },
        "id": "envKo0eyXGK3",
        "outputId": "dceb88cc-cddb-46e6-c080-0dad7d247157"
      },
      "outputs": [
        {
          "output_type": "execute_result",
          "data": {
            "text/plain": [
              "<contextlib.ExitStack at 0x7e3ad3ca93c0>"
            ]
          },
          "metadata": {},
          "execution_count": 3
        }
      ],
      "source": [
        "from __future__ import print_function, division\n",
        "\n",
        "import torch\n",
        "import torch.nn as nn\n",
        "import torch.optim as optim\n",
        "from torch.optim import lr_scheduler\n",
        "import numpy as np\n",
        "import torchvision\n",
        "from torchvision import datasets, models, transforms\n",
        "import time\n",
        "import os\n",
        "import copy\n",
        "import requests\n",
        "from bing_image_downloader import downloader\n",
        "import matplotlib.pyplot as plt\n",
        "import matplotlib.image as mpimg\n",
        "import math\n",
        "\n",
        "plt.ion()   # interactive mode\n"
      ]
    },
    {
      "cell_type": "markdown",
      "metadata": {
        "id": "ZguqCTTj8pl3"
      },
      "source": [
        "# Downloading the images we need"
      ]
    },
    {
      "cell_type": "code",
      "execution_count": 4,
      "metadata": {
        "id": "SlryPce8MXC5"
      },
      "outputs": [],
      "source": [
        "# These are the functions we need for asking for query terms, number of images\n",
        "# and the fraction of train/test split\n",
        "def get_query_terms():\n",
        "    \"\"\"Ask the user for a list of query terms.\"\"\"\n",
        "    queries = input(\"Enter query terms separated by commas: \").split(',')\n",
        "    return [query.strip() for query in queries]\n",
        "\n",
        "\n",
        "def get_positive_integers():\n",
        "    \"\"\"Ask the user for a list of positive integers.\"\"\"\n",
        "    while True:\n",
        "        numbers = input(\"Enter positive integers corresponding to each query, separated by commas: \").split(',')\n",
        "        try:\n",
        "            # Convert string inputs to integers\n",
        "            numbers = [int(num.strip()) for num in numbers]\n",
        "\n",
        "            # Check if all numbers are positive\n",
        "            if all(num > 0 for num in numbers):\n",
        "                return numbers\n",
        "            else:\n",
        "                print(\"All numbers must be positive. Please try again.\")\n",
        "        except ValueError:\n",
        "            print(\"Invalid input. Please enter integers only.\")\n",
        "\n",
        "\n",
        "def get_train_test_proportion():\n",
        "    \"\"\"Ask the user for a number between 0 and 1 and ensure it is in that range.\"\"\"\n",
        "    while True:\n",
        "        try:\n",
        "            # Ask the user for a number and try to convert it to a float\n",
        "            num = float(input(\"What fraction of the data should be training? For example, enter 0.75 for 75 percent: \"))\n",
        "\n",
        "            # Check if the number is between 0 and 1 (inclusive)\n",
        "            if 0 <= num <= 1:\n",
        "                return num\n",
        "            else:\n",
        "                print(\"The number must be between 0 and 1. Please try again.\")\n",
        "        except ValueError:\n",
        "            print(\"Invalid input. Please enter a valid number between 0 and 1.\")"
      ]
    },
    {
      "cell_type": "markdown",
      "metadata": {
        "id": "0g4tRkN3ve4N"
      },
      "source": [
        "# Problem 0\n",
        "\n",
        "Run the above code, to make your own data set. Choose terms that aren't already one of the 1000 classes in the Imagenet dataset.\n",
        "\n",
        "I recommend starting small: 2 or 3 different terms, and maybe 100-200 images max from each."
      ]
    },
    {
      "cell_type": "code",
      "execution_count": 6,
      "metadata": {
        "colab": {
          "base_uri": "https://localhost:8080/"
        },
        "id": "O37G06MWMxDv",
        "outputId": "f098b517-1724-4e32-96c9-c17095ec48fa"
      },
      "outputs": [
        {
          "output_type": "stream",
          "name": "stdout",
          "text": [
            "Enter query terms separated by commas: iphone, taj mahal, ferrari\n",
            "Enter positive integers corresponding to each query, separated by commas: 200,200,200\n",
            "What fraction of the data should be training? For example, enter 0.75 for 75 percent: 0.75\n",
            "[%] Downloading Images to /content/dataset/train/iphone\n",
            "[Error]Invalid image, not saving https://img.android.com.pl/images/user-images/2018/02/trio-iphones-ios.jpg\n",
            "\n",
            "[!] Issue getting: https://img.android.com.pl/images/user-images/2018/02/trio-iphones-ios.jpg\n",
            "[!] Error:: Invalid image, not saving https://img.android.com.pl/images/user-images/2018/02/trio-iphones-ios.jpg\n",
            "\n",
            "[!] Issue getting: https://www.proshop.dk/Images/915x900/2295074_72893048818f.jpg\n",
            "[!] Error:: HTTP Error 403: Forbidden\n",
            "[!] Issue getting: https://currys-ssl.cdn.dixons.com/inspiration/content-media/iphone x(1).jpg\n",
            "[!] Error:: URL can't contain control characters. '/inspiration/content-media/iphone x(1).jpg' (found at least ' ')\n",
            "[!] Issue getting: http://gamer-tech.co.uk/img/cms/York iPhone Repair/iPhone 6 Repair York.png\n",
            "[!] Error:: URL can't contain control characters. '/img/cms/York iPhone Repair/iPhone 6 Repair York.png' (found at least ' ')\n",
            "[Error]Invalid image, not saving https://i.imgur.com/8ZNs8mR.jpg\n",
            "\n",
            "[!] Issue getting: https://i.imgur.com/8ZNs8mR.jpg\n",
            "[!] Error:: Invalid image, not saving https://i.imgur.com/8ZNs8mR.jpg\n",
            "\n",
            "[!] Issue getting: https://www.marketingdirecto.com/wp-content/uploads/2013/06/iphone-5-021012.jpg\n",
            "[!] Error:: HTTP Error 520: \n",
            "[!] Issue getting: https://i.redd.it/njweuw9bf3w01.jpg\n",
            "[!] Error:: HTTP Error 403: Blocked\n",
            "[!] Issue getting: https://blogdoiphone.com/wp-content/uploads/2010/05/iPhone-4G-clone.jpg\n",
            "[!] Error:: HTTP Error 403: Forbidden\n",
            "[!] Issue getting: http://www.blogdoiphone.com/wp-content/uploads/2010/05/iPhone-4G-clone2.jpg\n",
            "[!] Error:: HTTP Error 403: Forbidden\n",
            "[Error]Invalid image, not saving http://images.clipartpanda.com/iphone-clipart-smartphone.svg\n",
            "\n",
            "[!] Issue getting: http://images.clipartpanda.com/iphone-clipart-smartphone.svg\n",
            "[!] Error:: Invalid image, not saving http://images.clipartpanda.com/iphone-clipart-smartphone.svg\n",
            "\n",
            "[Error]Invalid image, not saving https://img.alicdn.com/imgextra/i1/6000000003782/TB267mtrHwrBKNjSZPcXXXpapXa_!!6000000003782-0-tbvideo.jpg\n",
            "\n",
            "[!] Issue getting: https://img.alicdn.com/imgextra/i1/6000000003782/TB267mtrHwrBKNjSZPcXXXpapXa_!!6000000003782-0-tbvideo.jpg\n",
            "[!] Error:: Invalid image, not saving https://img.alicdn.com/imgextra/i1/6000000003782/TB267mtrHwrBKNjSZPcXXXpapXa_!!6000000003782-0-tbvideo.jpg\n",
            "\n",
            "[Error]Invalid image, not saving https://cdn.cultofmac.com/wp-content/uploads/misc/gif/fcc-iphone-070517-3.jpg\n",
            "\n",
            "[!] Issue getting: https://cdn.cultofmac.com/wp-content/uploads/misc/gif/fcc-iphone-070517-3.jpg\n",
            "[!] Error:: Invalid image, not saving https://cdn.cultofmac.com/wp-content/uploads/misc/gif/fcc-iphone-070517-3.jpg\n",
            "\n",
            "[Error]Invalid image, not saving https://lookaside.fbsbx.com/lookaside/crawler/media/?media_id=363911360984948\n",
            "\n",
            "[!] Issue getting: https://lookaside.fbsbx.com/lookaside/crawler/media/?media_id=363911360984948\n",
            "[!] Error:: Invalid image, not saving https://lookaside.fbsbx.com/lookaside/crawler/media/?media_id=363911360984948\n",
            "\n",
            "[Error]Invalid image, not saving https://lookaside.fbsbx.com/lookaside/crawler/media/?media_id=302089259947094\n",
            "\n",
            "[!] Issue getting: https://lookaside.fbsbx.com/lookaside/crawler/media/?media_id=302089259947094\n",
            "[!] Error:: Invalid image, not saving https://lookaside.fbsbx.com/lookaside/crawler/media/?media_id=302089259947094\n",
            "\n",
            "\n",
            "\n",
            "[%] Done. Downloaded 150 images.\n",
            "[%] Downloading Images to /content/dataset/test/iphone\n",
            "[Error]Invalid image, not saving https://img.android.com.pl/images/user-images/2018/02/trio-iphones-ios.jpg\n",
            "\n",
            "[!] Issue getting: https://img.android.com.pl/images/user-images/2018/02/trio-iphones-ios.jpg\n",
            "[!] Error:: Invalid image, not saving https://img.android.com.pl/images/user-images/2018/02/trio-iphones-ios.jpg\n",
            "\n",
            "[!] Issue getting: https://currys-ssl.cdn.dixons.com/inspiration/content-media/iphone x(1).jpg\n",
            "[!] Error:: URL can't contain control characters. '/inspiration/content-media/iphone x(1).jpg' (found at least ' ')\n",
            "[!] Issue getting: https://www.proshop.dk/Images/915x900/2295074_72893048818f.jpg\n",
            "[!] Error:: HTTP Error 403: Forbidden\n",
            "\n",
            "\n",
            "[%] Done. Downloaded 50 images.\n",
            "[%] Downloading Images to /content/dataset/train/taj mahal\n",
            "[!] Issue getting: https://lonelyplanetwpnews.imgix.net/2018/01/taj-mahal-visitor-limits.jpg\n",
            "[!] Error:: HTTP Error 410: Gone\n",
            "[Error]Invalid image, not saving https://taajmahal.files.wordpress.com/2014/01/taj-mahal2.jpg\n",
            "\n",
            "[!] Issue getting: https://taajmahal.files.wordpress.com/2014/01/taj-mahal2.jpg\n",
            "[!] Error:: Invalid image, not saving https://taajmahal.files.wordpress.com/2014/01/taj-mahal2.jpg\n",
            "\n",
            "[!] Issue getting: https://www.setaswall.com/wp-content/uploads/2017/08/Taj-Mahal-Wallpaper-13-2560x1600.jpg\n",
            "[!] Error:: HTTP Error 403: Forbidden\n",
            "[!] Issue getting: http://cdn-image.travelandleisure.com/sites/default/files/styles/1600x1000/public/1485976773/taj-mahal-agra-india-TAJ0217.jpg?itok=pDXPhShM\n",
            "[!] Error:: <urlopen error [Errno -2] Name or service not known>\n",
            "[!] Issue getting: http://travel.bf-1.com/wp-content/uploads/2010/01/taj-mahal.jpg\n",
            "[!] Error:: HTTP Error 404: Not Found\n",
            "[Error]Invalid image, not saving http://i.telegraph.co.uk/multimedia/archive/02722/taj-mahal-deal_2722393b.jpg\n",
            "\n",
            "[!] Issue getting: http://i.telegraph.co.uk/multimedia/archive/02722/taj-mahal-deal_2722393b.jpg\n",
            "[!] Error:: Invalid image, not saving http://i.telegraph.co.uk/multimedia/archive/02722/taj-mahal-deal_2722393b.jpg\n",
            "\n",
            "[Error]Invalid image, not saving https://worldinsidepictures.com/wp-content/uploads/2018/09/taj-mahal.jpg\n",
            "\n",
            "[!] Issue getting: https://worldinsidepictures.com/wp-content/uploads/2018/09/taj-mahal.jpg\n",
            "[!] Error:: Invalid image, not saving https://worldinsidepictures.com/wp-content/uploads/2018/09/taj-mahal.jpg\n",
            "\n",
            "[!] Issue getting: http://2.bp.blogspot.com/-aW15ID6mjPM/UKtdHq4oKnI/AAAAAAAAAEU/9E7UXsFmFQ8/s1600/1303020168_taj_mahal_00.jpg\n",
            "[!] Error:: HTTP Error 404: Not Found\n",
            "[Error]Invalid image, not saving http://girandoomundo.files.wordpress.com/2011/08/taj_mahal_21.jpg\n",
            "\n",
            "[!] Issue getting: http://girandoomundo.files.wordpress.com/2011/08/taj_mahal_21.jpg\n",
            "[!] Error:: Invalid image, not saving http://girandoomundo.files.wordpress.com/2011/08/taj_mahal_21.jpg\n",
            "\n",
            "[Error]Invalid image, not saving http://i575.photobucket.com/albums/ss200/sidd-rishi/TajMahal.jpg\n",
            "\n",
            "[!] Issue getting: http://i575.photobucket.com/albums/ss200/sidd-rishi/TajMahal.jpg\n",
            "[!] Error:: Invalid image, not saving http://i575.photobucket.com/albums/ss200/sidd-rishi/TajMahal.jpg\n",
            "\n",
            "[!] Issue getting: https://www.nationalgeographic.com/content/dam/travel/photos/000/930/93080.ngsversion.1482510710570.adapt.1900.1.jpg\n",
            "[!] Error:: HTTP Error 404: Not Found\n",
            "[Error]Invalid image, not saving http://1blogmode.files.wordpress.com/2011/03/taj_mahal_reflection.jpg\n",
            "\n",
            "[!] Issue getting: http://1blogmode.files.wordpress.com/2011/03/taj_mahal_reflection.jpg\n",
            "[!] Error:: Invalid image, not saving http://1blogmode.files.wordpress.com/2011/03/taj_mahal_reflection.jpg\n",
            "\n",
            "[Error]Invalid image, not saving http://jofinindia.files.wordpress.com/2012/10/img_6141-taj-mahal.jpg\n",
            "\n",
            "[!] Issue getting: http://jofinindia.files.wordpress.com/2012/10/img_6141-taj-mahal.jpg\n",
            "[!] Error:: Invalid image, not saving http://jofinindia.files.wordpress.com/2012/10/img_6141-taj-mahal.jpg\n",
            "\n",
            "[!] Issue getting: https://www.yomaullman.com/Places/album/slides/Taj Mahal.jpg\n",
            "[!] Error:: URL can't contain control characters. '/Places/album/slides/Taj Mahal.jpg' (found at least ' ')\n",
            "[Error]Invalid image, not saving http://www.amazingplacesonearth.com/wp-content/uploads/2013/01/Taj-Mahal-India-.jpg\n",
            "\n",
            "[!] Issue getting: http://www.amazingplacesonearth.com/wp-content/uploads/2013/01/Taj-Mahal-India-.jpg\n",
            "[!] Error:: Invalid image, not saving http://www.amazingplacesonearth.com/wp-content/uploads/2013/01/Taj-Mahal-India-.jpg\n",
            "\n",
            "[!] Issue getting: https://blogger.googleusercontent.com/img/b/R29vZ2xl/AVvXsEhSl6QXF1wviFrLll9b9431R_dNDoIxoYzIldk-Y21idGjZxlaIIRIWwyMSnnbUGYz52zxG2FJCXIEG2QD372k-80kghQZb8oHX4a7KG4v5rhJoBdLsXlR4d3z5082pmH27W4wlJGgFFTwwNZQz1P82kQanUw-Xi6qt3XFrrjXp4z_He18TH-Nnz3cA/s4098/Best places to visit in India in June.jpg\n",
            "[!] Error:: URL can't contain control characters. '/img/b/R29vZ2xl/AVvXsEhSl6QXF1wviFrLll9b9431R_dNDoIxoYzIldk-Y21idGjZxlaIIRIWwyMSnnbUGYz52zxG2FJCXIEG2QD372k-80kghQZb8oHX4a7KG4v5rhJoBdLsXlR4d3z5082pmH27W4wlJGgFFTwwNZQz1P82kQanUw-Xi6qt3XFrrjXp4z_He18TH-Nnz3cA/s4098/Best places to visit in India in June.jpg' (found at least ' ')\n",
            "[!] Issue getting: https://mobcup.net/w/xeds90zk\n",
            "[!] Error:: HTTP Error 503: Service Unavailable\n",
            "[Error]Invalid image, not saving http://7-themes.com/data_images/out/74/7026896-taj-mahal.jpg\n",
            "\n",
            "[!] Issue getting: http://7-themes.com/data_images/out/74/7026896-taj-mahal.jpg\n",
            "[!] Error:: Invalid image, not saving http://7-themes.com/data_images/out/74/7026896-taj-mahal.jpg\n",
            "\n",
            "[Error]Invalid image, not saving http://7-themes.com/data_images/out/49/6939421-taj-mahal-images.jpg\n",
            "\n",
            "[!] Issue getting: http://7-themes.com/data_images/out/49/6939421-taj-mahal-images.jpg\n",
            "[!] Error:: Invalid image, not saving http://7-themes.com/data_images/out/49/6939421-taj-mahal-images.jpg\n",
            "\n",
            "[Error]Invalid image, not saving https://upload.wikimedia.org/wikipedia/commons/thumb/a/a2/Taj_Mahal_Exterior.jpg/250px-Taj_Mahal_Exterior.jpg\n",
            "\n",
            "[!] Issue getting: https://upload.wikimedia.org/wikipedia/commons/thumb/a/a2/Taj_Mahal_Exterior.jpg/250px-Taj_Mahal_Exterior.jpg\n",
            "[!] Error:: Invalid image, not saving https://upload.wikimedia.org/wikipedia/commons/thumb/a/a2/Taj_Mahal_Exterior.jpg/250px-Taj_Mahal_Exterior.jpg\n",
            "\n",
            "[Error]Invalid image, not saving https://overlandtraveller.files.wordpress.com/2009/08/p1040364_11.jpg\n",
            "\n",
            "[!] Issue getting: https://overlandtraveller.files.wordpress.com/2009/08/p1040364_11.jpg\n",
            "[!] Error:: Invalid image, not saving https://overlandtraveller.files.wordpress.com/2009/08/p1040364_11.jpg\n",
            "\n",
            "[Error]Invalid image, not saving http://www.islamicity.com/culture/taj/tajs.JPG\n",
            "\n",
            "[!] Issue getting: http://www.islamicity.com/culture/taj/tajs.JPG\n",
            "[!] Error:: Invalid image, not saving http://www.islamicity.com/culture/taj/tajs.JPG\n",
            "\n",
            "[Error]Invalid image, not saving http://upload.wikimedia.org/wikipedia/commons/thumb/f/f5/Taj_Mahal_2012.jpg/280px-Taj_Mahal_2012.jpg\n",
            "\n",
            "[!] Issue getting: http://upload.wikimedia.org/wikipedia/commons/thumb/f/f5/Taj_Mahal_2012.jpg/280px-Taj_Mahal_2012.jpg\n",
            "[!] Error:: Invalid image, not saving http://upload.wikimedia.org/wikipedia/commons/thumb/f/f5/Taj_Mahal_2012.jpg/280px-Taj_Mahal_2012.jpg\n",
            "\n",
            "[Error]Invalid image, not saving https://besttimetovisitindia.files.wordpress.com/2013/04/taj-mahal-visiting-hours-5.jpg\n",
            "\n",
            "[!] Issue getting: https://besttimetovisitindia.files.wordpress.com/2013/04/taj-mahal-visiting-hours-5.jpg\n",
            "[!] Error:: Invalid image, not saving https://besttimetovisitindia.files.wordpress.com/2013/04/taj-mahal-visiting-hours-5.jpg\n",
            "\n",
            "[!] Issue getting: http://farm6.static.flickr.com/5534/10315186394_09df092201.jpg\n",
            "[!] Error:: HTTP Error 502: Bad Gateway\n",
            "[!] Issue getting: http://farm2.staticflickr.com/1251/1359009966_f328a37a6a_z.jpg?zz=1\n",
            "[!] Error:: HTTP Error 502: Bad Gateway\n",
            "[Error]Invalid image, not saving http://www.oocities.org/pipeline/4966/mahal.jpg\n",
            "\n",
            "[!] Issue getting: http://www.oocities.org/pipeline/4966/mahal.jpg\n",
            "[!] Error:: Invalid image, not saving http://www.oocities.org/pipeline/4966/mahal.jpg\n",
            "\n",
            "[Error]Invalid image, not saving http://www.michellesugarart.co.uk/img/taj_mahal.jpg\n",
            "\n",
            "[!] Issue getting: http://www.michellesugarart.co.uk/img/taj_mahal.jpg\n",
            "[!] Error:: Invalid image, not saving http://www.michellesugarart.co.uk/img/taj_mahal.jpg\n",
            "\n",
            "[Error]Invalid image, not saving http://7-themes.com/data_images/out/43/6916083-taj-mahal-wallpaper.jpg\n",
            "\n",
            "[!] Issue getting: http://7-themes.com/data_images/out/43/6916083-taj-mahal-wallpaper.jpg\n",
            "[!] Error:: Invalid image, not saving http://7-themes.com/data_images/out/43/6916083-taj-mahal-wallpaper.jpg\n",
            "\n",
            "[Error]Invalid image, not saving http://7-themes.com/data_images/out/64/6991229-taj-mahal-at-sunset.jpg\n",
            "\n",
            "[!] Issue getting: http://7-themes.com/data_images/out/64/6991229-taj-mahal-at-sunset.jpg\n",
            "[!] Error:: Invalid image, not saving http://7-themes.com/data_images/out/64/6991229-taj-mahal-at-sunset.jpg\n",
            "\n",
            "\n",
            "\n",
            "[%] Done. Downloaded 150 images.\n",
            "[%] Downloading Images to /content/dataset/test/taj mahal\n",
            "[!] Issue getting: https://lonelyplanetwpnews.imgix.net/2018/01/taj-mahal-visitor-limits.jpg\n",
            "[!] Error:: HTTP Error 410: Gone\n",
            "[Error]Invalid image, not saving https://taajmahal.files.wordpress.com/2014/01/taj-mahal2.jpg\n",
            "\n",
            "[!] Issue getting: https://taajmahal.files.wordpress.com/2014/01/taj-mahal2.jpg\n",
            "[!] Error:: Invalid image, not saving https://taajmahal.files.wordpress.com/2014/01/taj-mahal2.jpg\n",
            "\n",
            "[!] Issue getting: https://www.setaswall.com/wp-content/uploads/2017/08/Taj-Mahal-Wallpaper-13-2560x1600.jpg\n",
            "[!] Error:: HTTP Error 403: Forbidden\n",
            "[!] Issue getting: http://travel.bf-1.com/wp-content/uploads/2010/01/taj-mahal.jpg\n",
            "[!] Error:: HTTP Error 404: Not Found\n",
            "[Error]Invalid image, not saving http://i.telegraph.co.uk/multimedia/archive/02722/taj-mahal-deal_2722393b.jpg\n",
            "\n",
            "[!] Issue getting: http://i.telegraph.co.uk/multimedia/archive/02722/taj-mahal-deal_2722393b.jpg\n",
            "[!] Error:: Invalid image, not saving http://i.telegraph.co.uk/multimedia/archive/02722/taj-mahal-deal_2722393b.jpg\n",
            "\n",
            "[Error]Invalid image, not saving https://worldinsidepictures.com/wp-content/uploads/2018/09/taj-mahal.jpg\n",
            "\n",
            "[!] Issue getting: https://worldinsidepictures.com/wp-content/uploads/2018/09/taj-mahal.jpg\n",
            "[!] Error:: Invalid image, not saving https://worldinsidepictures.com/wp-content/uploads/2018/09/taj-mahal.jpg\n",
            "\n",
            "\n",
            "\n",
            "[%] Done. Downloaded 50 images.\n",
            "[%] Downloading Images to /content/dataset/train/ferrari\n",
            "[Error]Invalid image, not saving https://img.gta5-mods.com/q95/images/ferrari-laferrari-aperta-2017-china_dazu/4ef7b7-1.jpg\n",
            "\n",
            "[!] Issue getting: https://img.gta5-mods.com/q95/images/ferrari-laferrari-aperta-2017-china_dazu/4ef7b7-1.jpg\n",
            "[!] Error:: Invalid image, not saving https://img.gta5-mods.com/q95/images/ferrari-laferrari-aperta-2017-china_dazu/4ef7b7-1.jpg\n",
            "\n",
            "[!] Issue getting: https://www.wallpaperup.com/uploads/wallpapers/2015/08/14/776653/adde435a10239b997c10829c25379fc1.jpg\n",
            "[!] Error:: <urlopen error timed out>\n",
            "[Error]Invalid image, not saving https://hdqwalls.com/wallpapers/la-ferrari-rear-view-7c.jpg\n",
            "\n",
            "[!] Issue getting: https://hdqwalls.com/wallpapers/la-ferrari-rear-view-7c.jpg\n",
            "[!] Error:: Invalid image, not saving https://hdqwalls.com/wallpapers/la-ferrari-rear-view-7c.jpg\n",
            "\n",
            "[!] Issue getting: https://www.motortrend.com/uploads/sites/10/2015/11/2012-ferrari-california-convertible-angular-front.png\n",
            "[!] Error:: HTTP Error 403: Forbidden\n",
            "[!] Issue getting: https://i.redd.it/fkem2cya7s561.jpg\n",
            "[!] Error:: HTTP Error 403: Blocked\n",
            "[!] Issue getting: https://ugc.kn3.net/i/origin/http://www.zastavki.com/pictures/1920x1200/2010/Auto_Ferrari_Others_Ferrari_Ferrari_Italia_024536_.jpg\n",
            "[!] Error:: HTTP Error 403: Forbidden\n",
            "[Error]Invalid image, not saving http://topautomag.com/wp-content/uploads/2013/06/2014-Ferrari-458-Italia-Price.jpg\n",
            "\n",
            "[!] Issue getting: http://topautomag.com/wp-content/uploads/2013/06/2014-Ferrari-458-Italia-Price.jpg\n",
            "[!] Error:: Invalid image, not saving http://topautomag.com/wp-content/uploads/2013/06/2014-Ferrari-458-Italia-Price.jpg\n",
            "\n",
            "[Error]Invalid image, not saving http://storage0.dms.mpinteractiv.ro/media/2/41/1815/10639021/12/ferrari-laferrari-20.jpg\n",
            "\n",
            "[!] Issue getting: http://storage0.dms.mpinteractiv.ro/media/2/41/1815/10639021/12/ferrari-laferrari-20.jpg\n",
            "[!] Error:: Invalid image, not saving http://storage0.dms.mpinteractiv.ro/media/2/41/1815/10639021/12/ferrari-laferrari-20.jpg\n",
            "\n",
            "[Error]Invalid image, not saving http://storage0.dms.mpinteractiv.ro/media/2/41/1815/10639021/18/ferrari-laferrari-31.jpg\n",
            "\n",
            "[!] Issue getting: http://storage0.dms.mpinteractiv.ro/media/2/41/1815/10639021/18/ferrari-laferrari-31.jpg\n",
            "[!] Error:: Invalid image, not saving http://storage0.dms.mpinteractiv.ro/media/2/41/1815/10639021/18/ferrari-laferrari-31.jpg\n",
            "\n",
            "[!] Issue getting: http://www.canim.net/araba/images/Ferrari_172-1024.jpg\n",
            "[!] Error:: HTTP Error 404: Not Found\n",
            "[!] Issue getting: http://upload.wikimedia.org/wikipedia/commons/f/f0/Ferrari_Formula_1_lineup_at_the_Nürburgring.jpg\n",
            "[!] Error:: 'ascii' codec can't encode character '\\xfc' in position 61: ordinal not in range(128)\n",
            "[!] Issue getting: https://media.evo.co.uk/image/private/s--BG5IwTXQ--/v1611940340/evo/2021/01/Enzo Ferrari-8.jpg\n",
            "[!] Error:: URL can't contain control characters. '/image/private/s--BG5IwTXQ--/v1611940340/evo/2021/01/Enzo Ferrari-8.jpg' (found at least ' ')\n",
            "[Error]Invalid image, not saving https://i193.photobucket.com/albums/z112/vettels2/ferrari-599-gto-xl.jpg\n",
            "\n",
            "[!] Issue getting: https://i193.photobucket.com/albums/z112/vettels2/ferrari-599-gto-xl.jpg\n",
            "[!] Error:: Invalid image, not saving https://i193.photobucket.com/albums/z112/vettels2/ferrari-599-gto-xl.jpg\n",
            "\n",
            "[!] Issue getting: http://www.fullfondos.com/autos/Ferrari/Ferrari.jpg\n",
            "[!] Error:: <urlopen error [SSL: CERTIFICATE_VERIFY_FAILED] certificate verify failed: Hostname mismatch, certificate is not valid for 'www.fullfondos.com'. (_ssl.c:1007)>\n",
            "[Error]Invalid image, not saving https://cdn.motorsport.com/images/mgl/YEQaRjGY/s1000/carlos-sainz-ferrari-sf-23.jpg\n",
            "\n",
            "[!] Issue getting: https://cdn.motorsport.com/images/mgl/YEQaRjGY/s1000/carlos-sainz-ferrari-sf-23.jpg\n",
            "[!] Error:: Invalid image, not saving https://cdn.motorsport.com/images/mgl/YEQaRjGY/s1000/carlos-sainz-ferrari-sf-23.jpg\n",
            "\n",
            "[!] Issue getting: http://www.canim.net/araba/images/Ferrari_179-1024.jpg\n",
            "[!] Error:: HTTP Error 404: Not Found\n",
            "[!] Issue getting: http://www.canim.net/araba/images/Ferrari-Enzo6-1024.jpg\n",
            "[!] Error:: HTTP Error 404: Not Found\n",
            "\n",
            "\n",
            "[%] Done. Downloaded 150 images.\n",
            "[%] Downloading Images to /content/dataset/test/ferrari\n",
            "[Error]Invalid image, not saving https://img.gta5-mods.com/q95/images/ferrari-laferrari-aperta-2017-china_dazu/4ef7b7-1.jpg\n",
            "\n",
            "[!] Issue getting: https://img.gta5-mods.com/q95/images/ferrari-laferrari-aperta-2017-china_dazu/4ef7b7-1.jpg\n",
            "[!] Error:: Invalid image, not saving https://img.gta5-mods.com/q95/images/ferrari-laferrari-aperta-2017-china_dazu/4ef7b7-1.jpg\n",
            "\n",
            "[Error]Invalid image, not saving https://hdqwalls.com/wallpapers/la-ferrari-rear-view-7c.jpg\n",
            "\n",
            "[!] Issue getting: https://hdqwalls.com/wallpapers/la-ferrari-rear-view-7c.jpg\n",
            "[!] Error:: Invalid image, not saving https://hdqwalls.com/wallpapers/la-ferrari-rear-view-7c.jpg\n",
            "\n",
            "\n",
            "\n",
            "[%] Done. Downloaded 50 images.\n"
          ]
        }
      ],
      "source": [
        "# Now we get the queries\n",
        "queries = get_query_terms()\n",
        "# And the number of each\n",
        "numbers = get_positive_integers()\n",
        "# And the fraction of training data\n",
        "frac_train = get_train_test_proportion()\n",
        "# Check if number of queries matches number of positive integers\n",
        "if len(queries) != len(numbers):\n",
        "  print(\"Number of queries and integers do not match!\")\n",
        "\n",
        "for query, n in zip(queries, numbers):\n",
        "  n_tr = int(math.floor(n*frac_train))\n",
        "  downloader.download(query, limit=n_tr, output_dir='dataset/train', adult_filter_off=True, force_replace=False,timeout=60, verbose=False)\n",
        "  n_test = int(math.floor(n * (1-frac_train)))\n",
        "  downloader.download(query, limit=n_test, output_dir='dataset/test', adult_filter_off=True, force_replace=False, timeout=60, verbose=False)\n"
      ]
    },
    {
      "cell_type": "markdown",
      "metadata": {
        "id": "F5lbtgMdqmPi"
      },
      "source": [
        "# Let's make sure we downloaded enough of each"
      ]
    },
    {
      "cell_type": "code",
      "execution_count": 7,
      "metadata": {
        "colab": {
          "base_uri": "https://localhost:8080/"
        },
        "id": "LVrD8wGrqCpF",
        "outputId": "839de0e3-6144-4bb9-8cc7-ae219e94e5be"
      },
      "outputs": [
        {
          "output_type": "stream",
          "name": "stdout",
          "text": [
            "dataset: 608 files\n",
            "  test: 150 files\n",
            "    taj mahal: 50 files\n",
            "    iphone: 50 files\n",
            "    ferrari: 50 files\n",
            "  train: 458 files\n",
            "    taj mahal: 150 files\n",
            "    iphone: 150 files\n",
            "    ferrari: 150 files\n"
          ]
        }
      ],
      "source": [
        "import os\n",
        "\n",
        "def count_files_in_directory(directory, prefix=\"\"):\n",
        "    \"\"\"\n",
        "    Recursively counts the number of files in each directory and subdirectory.\n",
        "\n",
        "    Args:\n",
        "    - directory: The directory path to start counting from.\n",
        "    - prefix: A string used for indentation to visualize the folder structure.\n",
        "    \"\"\"\n",
        "    num_files = sum([len(files) for r, d, files in os.walk(directory)])\n",
        "    print(f\"{prefix}{os.path.basename(directory)}: {num_files} files\")\n",
        "\n",
        "    for subdir in next(os.walk(directory))[1]:  # List subdirectories of the current directory\n",
        "        path = os.path.join(directory, subdir)  # Full path of the subdirectory\n",
        "        count_files_in_directory(path, prefix + \"  \")  # Recursively count in this subdirectory\n",
        "\n",
        "# Path to the dataset directory\n",
        "dataset_dir = './dataset'\n",
        "\n",
        "# Start the recursive count\n",
        "count_files_in_directory(dataset_dir)\n"
      ]
    },
    {
      "cell_type": "markdown",
      "metadata": {
        "id": "wM_jg2OJZrrE"
      },
      "source": [
        "# Preprocessing the data\n",
        "\n",
        "Now that we've downloaded the data we want, we do some basic preprocessing with functions from Torchvision.\n",
        "\n",
        "For the training data, we normalize and also use some data augmentation.\n",
        "\n",
        "For the validation set, we just normalize.\n",
        "\n",
        "# Problem 1 (Nothing to turn in)\n",
        "Read about this here: https://pytorch.org/vision/stable/transforms.html"
      ]
    },
    {
      "cell_type": "markdown",
      "metadata": {
        "id": "-A2YcP-DsrJa"
      },
      "source": [
        "# We made dataloaders out of our training and testing data"
      ]
    },
    {
      "cell_type": "code",
      "execution_count": 8,
      "metadata": {
        "id": "86War1vrEEt3"
      },
      "outputs": [],
      "source": [
        "\n",
        "# Data augmentation and normalization for training\n",
        "# Just normalization for validation\n",
        "\n",
        "# The directory that contains the data\n",
        "data_dir = 'dataset'\n",
        "\n",
        "# Now we apply the usual transformations\n",
        "data_transforms = {\n",
        "    'train': transforms.Compose([\n",
        "        transforms.RandomResizedCrop(224),\n",
        "        transforms.RandomHorizontalFlip(),\n",
        "        transforms.ToTensor(),\n",
        "        transforms.Normalize([0.485, 0.456, 0.406], [0.229, 0.224, 0.225])\n",
        "    ]),\n",
        "    'test': transforms.Compose([\n",
        "        transforms.Resize(256),\n",
        "        transforms.CenterCrop(224),\n",
        "        transforms.ToTensor(),\n",
        "        transforms.Normalize([0.485, 0.456, 0.406], [0.229, 0.224, 0.225])\n",
        "    ]),\n",
        "}\n",
        "image_datasets = {x: datasets.ImageFolder(os.path.join(data_dir, x),\n",
        "                                          data_transforms[x])\n",
        "                  for x in ['train', 'test']}\n",
        "dataloaders = {x: torch.utils.data.DataLoader(image_datasets[x], batch_size=4,\n",
        "                                             shuffle=True, num_workers=2)\n",
        "              for x in ['train', 'test']}\n",
        "dataset_sizes = {x: len(image_datasets[x]) for x in ['train', 'test']}\n",
        "class_names = image_datasets['train'].classes\n",
        "\n",
        "device = torch.device(\"cuda:0\" if torch.cuda.is_available() else \"cpu\")"
      ]
    },
    {
      "cell_type": "markdown",
      "metadata": {
        "id": "Xlzo1o99shqr"
      },
      "source": [
        "# Problem 2\n",
        "Write code that calls the dataloaders and displays some number of images, with their true labels."
      ]
    },
    {
      "cell_type": "code",
      "execution_count": 9,
      "metadata": {
        "colab": {
          "base_uri": "https://localhost:8080/",
          "height": 207
        },
        "id": "k5cp_mLPNj-x",
        "outputId": "2d5499ea-14c0-46f1-e089-6f4835179492"
      },
      "outputs": [
        {
          "output_type": "display_data",
          "data": {
            "text/plain": [
              "<Figure size 640x480 with 1 Axes>"
            ],
            "image/png": "[encoded data removed]"
          },
          "metadata": {}
        }
      ],
      "source": [
        "# Function to display images\n",
        "def imshow(inp, title=None):\n",
        "    \"\"\"Imshow for Tensor.\"\"\"\n",
        "    inp = inp.numpy().transpose((1, 2, 0))\n",
        "    mean = np.array([0.485, 0.456, 0.406])\n",
        "    std = np.array([0.229, 0.224, 0.225])\n",
        "    inp = std * inp + mean\n",
        "    inp = np.clip(inp, 0, 1)\n",
        "    plt.imshow(inp)\n",
        "    if title is not None:\n",
        "        plt.title(title)\n",
        "    plt.pause(0.001)  # pause a bit so that plots are updated\n",
        "\n",
        "\n",
        "# Get a batch of training data\n",
        "inputs, classes = next(iter(dataloaders['train']))\n",
        "\n",
        "# Make a grid from batch\n",
        "out = torchvision.utils.make_grid(inputs)\n",
        "\n",
        "imshow(out, title=[class_names[x] for x in classes])\n"
      ]
    },
    {
      "cell_type": "markdown",
      "metadata": {
        "id": "uHrIuplTc2Ru"
      },
      "source": [
        "# Download a pre-trained model\n",
        "\n",
        "We will now download a pretrained model that has been trained on Imagenet. I recomend starting with Resnet18. See here for other larger or smaller pre-trained modfels https://pytorch.org/vision/stable/models.html"
      ]
    },
    {
      "cell_type": "code",
      "execution_count": 11,
      "metadata": {
        "id": "m3vyGOX3RYhs",
        "colab": {
          "base_uri": "https://localhost:8080/"
        },
        "outputId": "285aa652-ac35-49fa-e339-433e729d22ff"
      },
      "outputs": [
        {
          "output_type": "stream",
          "name": "stderr",
          "text": [
            "Downloading: \"https://download.pytorch.org/models/resnet18-f37072fd.pth\" to /root/.cache/torch/hub/checkpoints/resnet18-f37072fd.pth\n",
            "100%|██████████| 44.7M/44.7M [00:00<00:00, 81.7MB/s]\n"
          ]
        }
      ],
      "source": [
        "# Now we load a pre-trained model, and replace the last layer with a non-initialized linear layer.\n",
        "# Now we load a pre-trained model, and replace the last layer with a non-initialized linear layer.\n",
        "\n",
        "device = torch.device(\"cuda\" if torch.cuda.is_available() else \"cpu\")\n",
        "\n",
        "\n",
        "\n",
        "# This command loads a pre-trained model\n",
        "model_ft = models.resnet18(weights = models.ResNet18_Weights.DEFAULT)\n",
        "\n",
        "# Move the model to the appropriate device\n",
        "model_ft = model_ft.to(device)\n"
      ]
    },
    {
      "cell_type": "markdown",
      "metadata": {
        "id": "13GbkGRTtcaZ"
      },
      "source": [
        "# Problem 3\n",
        "\n",
        "Redefine the last layer of your neural network (called model_ft) to be a linear (fully connected layer) whose input size is whatever the input size is of the the current last layer, and whose output size is the number of labels your new data set has.\n",
        "\n",
        "You need to figure out how to do this. It's not too difficult. You need will use similar commands as you used in the last 2 homeworks in order to define a linear layer. The key will be to find out what the last layer is called, and also to find out what is its input size, so that you can properly define the size of the last fully connected (linear) layer."
      ]
    },
    {
      "cell_type": "code",
      "execution_count": 12,
      "metadata": {
        "colab": {
          "base_uri": "https://localhost:8080/"
        },
        "id": "uvKvxYrE3ieE",
        "outputId": "37c176d8-0883-418c-e4c9-8b9ecc41606e"
      },
      "outputs": [
        {
          "output_type": "stream",
          "name": "stdout",
          "text": [
            "----------------------------------------------------------------\n",
            "        Layer (type)               Output Shape         Param #\n",
            "================================================================\n",
            "            Conv2d-1         [-1, 64, 112, 112]           9,408\n",
            "       BatchNorm2d-2         [-1, 64, 112, 112]             128\n",
            "              ReLU-3         [-1, 64, 112, 112]               0\n",
            "         MaxPool2d-4           [-1, 64, 56, 56]               0\n",
            "            Conv2d-5           [-1, 64, 56, 56]          36,864\n",
            "       BatchNorm2d-6           [-1, 64, 56, 56]             128\n",
            "              ReLU-7           [-1, 64, 56, 56]               0\n",
            "            Conv2d-8           [-1, 64, 56, 56]          36,864\n",
            "       BatchNorm2d-9           [-1, 64, 56, 56]             128\n",
            "             ReLU-10           [-1, 64, 56, 56]               0\n",
            "       BasicBlock-11           [-1, 64, 56, 56]               0\n",
            "           Conv2d-12           [-1, 64, 56, 56]          36,864\n",
            "      BatchNorm2d-13           [-1, 64, 56, 56]             128\n",
            "             ReLU-14           [-1, 64, 56, 56]               0\n",
            "           Conv2d-15           [-1, 64, 56, 56]          36,864\n",
            "      BatchNorm2d-16           [-1, 64, 56, 56]             128\n",
            "             ReLU-17           [-1, 64, 56, 56]               0\n",
            "       BasicBlock-18           [-1, 64, 56, 56]               0\n",
            "           Conv2d-19          [-1, 128, 28, 28]          73,728\n",
            "      BatchNorm2d-20          [-1, 128, 28, 28]             256\n",
            "             ReLU-21          [-1, 128, 28, 28]               0\n",
            "           Conv2d-22          [-1, 128, 28, 28]         147,456\n",
            "      BatchNorm2d-23          [-1, 128, 28, 28]             256\n",
            "           Conv2d-24          [-1, 128, 28, 28]           8,192\n",
            "      BatchNorm2d-25          [-1, 128, 28, 28]             256\n",
            "             ReLU-26          [-1, 128, 28, 28]               0\n",
            "       BasicBlock-27          [-1, 128, 28, 28]               0\n",
            "           Conv2d-28          [-1, 128, 28, 28]         147,456\n",
            "      BatchNorm2d-29          [-1, 128, 28, 28]             256\n",
            "             ReLU-30          [-1, 128, 28, 28]               0\n",
            "           Conv2d-31          [-1, 128, 28, 28]         147,456\n",
            "      BatchNorm2d-32          [-1, 128, 28, 28]             256\n",
            "             ReLU-33          [-1, 128, 28, 28]               0\n",
            "       BasicBlock-34          [-1, 128, 28, 28]               0\n",
            "           Conv2d-35          [-1, 256, 14, 14]         294,912\n",
            "      BatchNorm2d-36          [-1, 256, 14, 14]             512\n",
            "             ReLU-37          [-1, 256, 14, 14]               0\n",
            "           Conv2d-38          [-1, 256, 14, 14]         589,824\n",
            "      BatchNorm2d-39          [-1, 256, 14, 14]             512\n",
            "           Conv2d-40          [-1, 256, 14, 14]          32,768\n",
            "      BatchNorm2d-41          [-1, 256, 14, 14]             512\n",
            "             ReLU-42          [-1, 256, 14, 14]               0\n",
            "       BasicBlock-43          [-1, 256, 14, 14]               0\n",
            "           Conv2d-44          [-1, 256, 14, 14]         589,824\n",
            "      BatchNorm2d-45          [-1, 256, 14, 14]             512\n",
            "             ReLU-46          [-1, 256, 14, 14]               0\n",
            "           Conv2d-47          [-1, 256, 14, 14]         589,824\n",
            "      BatchNorm2d-48          [-1, 256, 14, 14]             512\n",
            "             ReLU-49          [-1, 256, 14, 14]               0\n",
            "       BasicBlock-50          [-1, 256, 14, 14]               0\n",
            "           Conv2d-51            [-1, 512, 7, 7]       1,179,648\n",
            "      BatchNorm2d-52            [-1, 512, 7, 7]           1,024\n",
            "             ReLU-53            [-1, 512, 7, 7]               0\n",
            "           Conv2d-54            [-1, 512, 7, 7]       2,359,296\n",
            "      BatchNorm2d-55            [-1, 512, 7, 7]           1,024\n",
            "           Conv2d-56            [-1, 512, 7, 7]         131,072\n",
            "      BatchNorm2d-57            [-1, 512, 7, 7]           1,024\n",
            "             ReLU-58            [-1, 512, 7, 7]               0\n",
            "       BasicBlock-59            [-1, 512, 7, 7]               0\n",
            "           Conv2d-60            [-1, 512, 7, 7]       2,359,296\n",
            "      BatchNorm2d-61            [-1, 512, 7, 7]           1,024\n",
            "             ReLU-62            [-1, 512, 7, 7]               0\n",
            "           Conv2d-63            [-1, 512, 7, 7]       2,359,296\n",
            "      BatchNorm2d-64            [-1, 512, 7, 7]           1,024\n",
            "             ReLU-65            [-1, 512, 7, 7]               0\n",
            "       BasicBlock-66            [-1, 512, 7, 7]               0\n",
            "AdaptiveAvgPool2d-67            [-1, 512, 1, 1]               0\n",
            "           Linear-68                 [-1, 1000]         513,000\n",
            "================================================================\n",
            "Total params: 11,689,512\n",
            "Trainable params: 11,689,512\n",
            "Non-trainable params: 0\n",
            "----------------------------------------------------------------\n",
            "Input size (MB): 0.57\n",
            "Forward/backward pass size (MB): 62.79\n",
            "Params size (MB): 44.59\n",
            "Estimated Total Size (MB): 107.96\n",
            "----------------------------------------------------------------\n"
          ]
        }
      ],
      "source": [
        "from torchsummary import summary\n",
        "\n",
        "# Assuming model_ft is your model\n",
        "summary(model_ft, input_size=(3, 224, 224))\n"
      ]
    },
    {
      "cell_type": "code",
      "execution_count": 13,
      "metadata": {
        "colab": {
          "base_uri": "https://localhost:8080/"
        },
        "id": "QuKYWJz01vSW",
        "outputId": "c19c2892-9188-4e43-c160-7b8fb879d6b3"
      },
      "outputs": [
        {
          "output_type": "stream",
          "name": "stdout",
          "text": [
            " ResNet(\n",
            "  (conv1): Conv2d(3, 64, kernel_size=(7, 7), stride=(2, 2), padding=(3, 3), bias=False)\n",
            "  (bn1): BatchNorm2d(64, eps=1e-05, momentum=0.1, affine=True, track_running_stats=True)\n",
            "  (relu): ReLU(inplace=True)\n",
            "  (maxpool): MaxPool2d(kernel_size=3, stride=2, padding=1, dilation=1, ceil_mode=False)\n",
            "  (layer1): Sequential(\n",
            "    (0): BasicBlock(\n",
            "      (conv1): Conv2d(64, 64, kernel_size=(3, 3), stride=(1, 1), padding=(1, 1), bias=False)\n",
            "      (bn1): BatchNorm2d(64, eps=1e-05, momentum=0.1, affine=True, track_running_stats=True)\n",
            "      (relu): ReLU(inplace=True)\n",
            "      (conv2): Conv2d(64, 64, kernel_size=(3, 3), stride=(1, 1), padding=(1, 1), bias=False)\n",
            "      (bn2): BatchNorm2d(64, eps=1e-05, momentum=0.1, affine=True, track_running_stats=True)\n",
            "    )\n",
            "    (1): BasicBlock(\n",
            "      (conv1): Conv2d(64, 64, kernel_size=(3, 3), stride=(1, 1), padding=(1, 1), bias=False)\n",
            "      (bn1): BatchNorm2d(64, eps=1e-05, momentum=0.1, affine=True, track_running_stats=True)\n",
            "      (relu): ReLU(inplace=True)\n",
            "      (conv2): Conv2d(64, 64, kernel_size=(3, 3), stride=(1, 1), padding=(1, 1), bias=False)\n",
            "      (bn2): BatchNorm2d(64, eps=1e-05, momentum=0.1, affine=True, track_running_stats=True)\n",
            "    )\n",
            "  )\n",
            "  (layer2): Sequential(\n",
            "    (0): BasicBlock(\n",
            "      (conv1): Conv2d(64, 128, kernel_size=(3, 3), stride=(2, 2), padding=(1, 1), bias=False)\n",
            "      (bn1): BatchNorm2d(128, eps=1e-05, momentum=0.1, affine=True, track_running_stats=True)\n",
            "      (relu): ReLU(inplace=True)\n",
            "      (conv2): Conv2d(128, 128, kernel_size=(3, 3), stride=(1, 1), padding=(1, 1), bias=False)\n",
            "      (bn2): BatchNorm2d(128, eps=1e-05, momentum=0.1, affine=True, track_running_stats=True)\n",
            "      (downsample): Sequential(\n",
            "        (0): Conv2d(64, 128, kernel_size=(1, 1), stride=(2, 2), bias=False)\n",
            "        (1): BatchNorm2d(128, eps=1e-05, momentum=0.1, affine=True, track_running_stats=True)\n",
            "      )\n",
            "    )\n",
            "    (1): BasicBlock(\n",
            "      (conv1): Conv2d(128, 128, kernel_size=(3, 3), stride=(1, 1), padding=(1, 1), bias=False)\n",
            "      (bn1): BatchNorm2d(128, eps=1e-05, momentum=0.1, affine=True, track_running_stats=True)\n",
            "      (relu): ReLU(inplace=True)\n",
            "      (conv2): Conv2d(128, 128, kernel_size=(3, 3), stride=(1, 1), padding=(1, 1), bias=False)\n",
            "      (bn2): BatchNorm2d(128, eps=1e-05, momentum=0.1, affine=True, track_running_stats=True)\n",
            "    )\n",
            "  )\n",
            "  (layer3): Sequential(\n",
            "    (0): BasicBlock(\n",
            "      (conv1): Conv2d(128, 256, kernel_size=(3, 3), stride=(2, 2), padding=(1, 1), bias=False)\n",
            "      (bn1): BatchNorm2d(256, eps=1e-05, momentum=0.1, affine=True, track_running_stats=True)\n",
            "      (relu): ReLU(inplace=True)\n",
            "      (conv2): Conv2d(256, 256, kernel_size=(3, 3), stride=(1, 1), padding=(1, 1), bias=False)\n",
            "      (bn2): BatchNorm2d(256, eps=1e-05, momentum=0.1, affine=True, track_running_stats=True)\n",
            "      (downsample): Sequential(\n",
            "        (0): Conv2d(128, 256, kernel_size=(1, 1), stride=(2, 2), bias=False)\n",
            "        (1): BatchNorm2d(256, eps=1e-05, momentum=0.1, affine=True, track_running_stats=True)\n",
            "      )\n",
            "    )\n",
            "    (1): BasicBlock(\n",
            "      (conv1): Conv2d(256, 256, kernel_size=(3, 3), stride=(1, 1), padding=(1, 1), bias=False)\n",
            "      (bn1): BatchNorm2d(256, eps=1e-05, momentum=0.1, affine=True, track_running_stats=True)\n",
            "      (relu): ReLU(inplace=True)\n",
            "      (conv2): Conv2d(256, 256, kernel_size=(3, 3), stride=(1, 1), padding=(1, 1), bias=False)\n",
            "      (bn2): BatchNorm2d(256, eps=1e-05, momentum=0.1, affine=True, track_running_stats=True)\n",
            "    )\n",
            "  )\n",
            "  (layer4): Sequential(\n",
            "    (0): BasicBlock(\n",
            "      (conv1): Conv2d(256, 512, kernel_size=(3, 3), stride=(2, 2), padding=(1, 1), bias=False)\n",
            "      (bn1): BatchNorm2d(512, eps=1e-05, momentum=0.1, affine=True, track_running_stats=True)\n",
            "      (relu): ReLU(inplace=True)\n",
            "      (conv2): Conv2d(512, 512, kernel_size=(3, 3), stride=(1, 1), padding=(1, 1), bias=False)\n",
            "      (bn2): BatchNorm2d(512, eps=1e-05, momentum=0.1, affine=True, track_running_stats=True)\n",
            "      (downsample): Sequential(\n",
            "        (0): Conv2d(256, 512, kernel_size=(1, 1), stride=(2, 2), bias=False)\n",
            "        (1): BatchNorm2d(512, eps=1e-05, momentum=0.1, affine=True, track_running_stats=True)\n",
            "      )\n",
            "    )\n",
            "    (1): BasicBlock(\n",
            "      (conv1): Conv2d(512, 512, kernel_size=(3, 3), stride=(1, 1), padding=(1, 1), bias=False)\n",
            "      (bn1): BatchNorm2d(512, eps=1e-05, momentum=0.1, affine=True, track_running_stats=True)\n",
            "      (relu): ReLU(inplace=True)\n",
            "      (conv2): Conv2d(512, 512, kernel_size=(3, 3), stride=(1, 1), padding=(1, 1), bias=False)\n",
            "      (bn2): BatchNorm2d(512, eps=1e-05, momentum=0.1, affine=True, track_running_stats=True)\n",
            "    )\n",
            "  )\n",
            "  (avgpool): AdaptiveAvgPool2d(output_size=(1, 1))\n",
            "  (fc): Linear(in_features=512, out_features=1000, bias=True)\n",
            ")\n",
            "conv1 Conv2d(3, 64, kernel_size=(7, 7), stride=(2, 2), padding=(3, 3), bias=False)\n",
            "bn1 BatchNorm2d(64, eps=1e-05, momentum=0.1, affine=True, track_running_stats=True)\n",
            "relu ReLU(inplace=True)\n",
            "maxpool MaxPool2d(kernel_size=3, stride=2, padding=1, dilation=1, ceil_mode=False)\n",
            "layer1 Sequential(\n",
            "  (0): BasicBlock(\n",
            "    (conv1): Conv2d(64, 64, kernel_size=(3, 3), stride=(1, 1), padding=(1, 1), bias=False)\n",
            "    (bn1): BatchNorm2d(64, eps=1e-05, momentum=0.1, affine=True, track_running_stats=True)\n",
            "    (relu): ReLU(inplace=True)\n",
            "    (conv2): Conv2d(64, 64, kernel_size=(3, 3), stride=(1, 1), padding=(1, 1), bias=False)\n",
            "    (bn2): BatchNorm2d(64, eps=1e-05, momentum=0.1, affine=True, track_running_stats=True)\n",
            "  )\n",
            "  (1): BasicBlock(\n",
            "    (conv1): Conv2d(64, 64, kernel_size=(3, 3), stride=(1, 1), padding=(1, 1), bias=False)\n",
            "    (bn1): BatchNorm2d(64, eps=1e-05, momentum=0.1, affine=True, track_running_stats=True)\n",
            "    (relu): ReLU(inplace=True)\n",
            "    (conv2): Conv2d(64, 64, kernel_size=(3, 3), stride=(1, 1), padding=(1, 1), bias=False)\n",
            "    (bn2): BatchNorm2d(64, eps=1e-05, momentum=0.1, affine=True, track_running_stats=True)\n",
            "  )\n",
            ")\n",
            "layer1.0 BasicBlock(\n",
            "  (conv1): Conv2d(64, 64, kernel_size=(3, 3), stride=(1, 1), padding=(1, 1), bias=False)\n",
            "  (bn1): BatchNorm2d(64, eps=1e-05, momentum=0.1, affine=True, track_running_stats=True)\n",
            "  (relu): ReLU(inplace=True)\n",
            "  (conv2): Conv2d(64, 64, kernel_size=(3, 3), stride=(1, 1), padding=(1, 1), bias=False)\n",
            "  (bn2): BatchNorm2d(64, eps=1e-05, momentum=0.1, affine=True, track_running_stats=True)\n",
            ")\n",
            "layer1.0.conv1 Conv2d(64, 64, kernel_size=(3, 3), stride=(1, 1), padding=(1, 1), bias=False)\n",
            "layer1.0.bn1 BatchNorm2d(64, eps=1e-05, momentum=0.1, affine=True, track_running_stats=True)\n",
            "layer1.0.relu ReLU(inplace=True)\n",
            "layer1.0.conv2 Conv2d(64, 64, kernel_size=(3, 3), stride=(1, 1), padding=(1, 1), bias=False)\n",
            "layer1.0.bn2 BatchNorm2d(64, eps=1e-05, momentum=0.1, affine=True, track_running_stats=True)\n",
            "layer1.1 BasicBlock(\n",
            "  (conv1): Conv2d(64, 64, kernel_size=(3, 3), stride=(1, 1), padding=(1, 1), bias=False)\n",
            "  (bn1): BatchNorm2d(64, eps=1e-05, momentum=0.1, affine=True, track_running_stats=True)\n",
            "  (relu): ReLU(inplace=True)\n",
            "  (conv2): Conv2d(64, 64, kernel_size=(3, 3), stride=(1, 1), padding=(1, 1), bias=False)\n",
            "  (bn2): BatchNorm2d(64, eps=1e-05, momentum=0.1, affine=True, track_running_stats=True)\n",
            ")\n",
            "layer1.1.conv1 Conv2d(64, 64, kernel_size=(3, 3), stride=(1, 1), padding=(1, 1), bias=False)\n",
            "layer1.1.bn1 BatchNorm2d(64, eps=1e-05, momentum=0.1, affine=True, track_running_stats=True)\n",
            "layer1.1.relu ReLU(inplace=True)\n",
            "layer1.1.conv2 Conv2d(64, 64, kernel_size=(3, 3), stride=(1, 1), padding=(1, 1), bias=False)\n",
            "layer1.1.bn2 BatchNorm2d(64, eps=1e-05, momentum=0.1, affine=True, track_running_stats=True)\n",
            "layer2 Sequential(\n",
            "  (0): BasicBlock(\n",
            "    (conv1): Conv2d(64, 128, kernel_size=(3, 3), stride=(2, 2), padding=(1, 1), bias=False)\n",
            "    (bn1): BatchNorm2d(128, eps=1e-05, momentum=0.1, affine=True, track_running_stats=True)\n",
            "    (relu): ReLU(inplace=True)\n",
            "    (conv2): Conv2d(128, 128, kernel_size=(3, 3), stride=(1, 1), padding=(1, 1), bias=False)\n",
            "    (bn2): BatchNorm2d(128, eps=1e-05, momentum=0.1, affine=True, track_running_stats=True)\n",
            "    (downsample): Sequential(\n",
            "      (0): Conv2d(64, 128, kernel_size=(1, 1), stride=(2, 2), bias=False)\n",
            "      (1): BatchNorm2d(128, eps=1e-05, momentum=0.1, affine=True, track_running_stats=True)\n",
            "    )\n",
            "  )\n",
            "  (1): BasicBlock(\n",
            "    (conv1): Conv2d(128, 128, kernel_size=(3, 3), stride=(1, 1), padding=(1, 1), bias=False)\n",
            "    (bn1): BatchNorm2d(128, eps=1e-05, momentum=0.1, affine=True, track_running_stats=True)\n",
            "    (relu): ReLU(inplace=True)\n",
            "    (conv2): Conv2d(128, 128, kernel_size=(3, 3), stride=(1, 1), padding=(1, 1), bias=False)\n",
            "    (bn2): BatchNorm2d(128, eps=1e-05, momentum=0.1, affine=True, track_running_stats=True)\n",
            "  )\n",
            ")\n",
            "layer2.0 BasicBlock(\n",
            "  (conv1): Conv2d(64, 128, kernel_size=(3, 3), stride=(2, 2), padding=(1, 1), bias=False)\n",
            "  (bn1): BatchNorm2d(128, eps=1e-05, momentum=0.1, affine=True, track_running_stats=True)\n",
            "  (relu): ReLU(inplace=True)\n",
            "  (conv2): Conv2d(128, 128, kernel_size=(3, 3), stride=(1, 1), padding=(1, 1), bias=False)\n",
            "  (bn2): BatchNorm2d(128, eps=1e-05, momentum=0.1, affine=True, track_running_stats=True)\n",
            "  (downsample): Sequential(\n",
            "    (0): Conv2d(64, 128, kernel_size=(1, 1), stride=(2, 2), bias=False)\n",
            "    (1): BatchNorm2d(128, eps=1e-05, momentum=0.1, affine=True, track_running_stats=True)\n",
            "  )\n",
            ")\n",
            "layer2.0.conv1 Conv2d(64, 128, kernel_size=(3, 3), stride=(2, 2), padding=(1, 1), bias=False)\n",
            "layer2.0.bn1 BatchNorm2d(128, eps=1e-05, momentum=0.1, affine=True, track_running_stats=True)\n",
            "layer2.0.relu ReLU(inplace=True)\n",
            "layer2.0.conv2 Conv2d(128, 128, kernel_size=(3, 3), stride=(1, 1), padding=(1, 1), bias=False)\n",
            "layer2.0.bn2 BatchNorm2d(128, eps=1e-05, momentum=0.1, affine=True, track_running_stats=True)\n",
            "layer2.0.downsample Sequential(\n",
            "  (0): Conv2d(64, 128, kernel_size=(1, 1), stride=(2, 2), bias=False)\n",
            "  (1): BatchNorm2d(128, eps=1e-05, momentum=0.1, affine=True, track_running_stats=True)\n",
            ")\n",
            "layer2.0.downsample.0 Conv2d(64, 128, kernel_size=(1, 1), stride=(2, 2), bias=False)\n",
            "layer2.0.downsample.1 BatchNorm2d(128, eps=1e-05, momentum=0.1, affine=True, track_running_stats=True)\n",
            "layer2.1 BasicBlock(\n",
            "  (conv1): Conv2d(128, 128, kernel_size=(3, 3), stride=(1, 1), padding=(1, 1), bias=False)\n",
            "  (bn1): BatchNorm2d(128, eps=1e-05, momentum=0.1, affine=True, track_running_stats=True)\n",
            "  (relu): ReLU(inplace=True)\n",
            "  (conv2): Conv2d(128, 128, kernel_size=(3, 3), stride=(1, 1), padding=(1, 1), bias=False)\n",
            "  (bn2): BatchNorm2d(128, eps=1e-05, momentum=0.1, affine=True, track_running_stats=True)\n",
            ")\n",
            "layer2.1.conv1 Conv2d(128, 128, kernel_size=(3, 3), stride=(1, 1), padding=(1, 1), bias=False)\n",
            "layer2.1.bn1 BatchNorm2d(128, eps=1e-05, momentum=0.1, affine=True, track_running_stats=True)\n",
            "layer2.1.relu ReLU(inplace=True)\n",
            "layer2.1.conv2 Conv2d(128, 128, kernel_size=(3, 3), stride=(1, 1), padding=(1, 1), bias=False)\n",
            "layer2.1.bn2 BatchNorm2d(128, eps=1e-05, momentum=0.1, affine=True, track_running_stats=True)\n",
            "layer3 Sequential(\n",
            "  (0): BasicBlock(\n",
            "    (conv1): Conv2d(128, 256, kernel_size=(3, 3), stride=(2, 2), padding=(1, 1), bias=False)\n",
            "    (bn1): BatchNorm2d(256, eps=1e-05, momentum=0.1, affine=True, track_running_stats=True)\n",
            "    (relu): ReLU(inplace=True)\n",
            "    (conv2): Conv2d(256, 256, kernel_size=(3, 3), stride=(1, 1), padding=(1, 1), bias=False)\n",
            "    (bn2): BatchNorm2d(256, eps=1e-05, momentum=0.1, affine=True, track_running_stats=True)\n",
            "    (downsample): Sequential(\n",
            "      (0): Conv2d(128, 256, kernel_size=(1, 1), stride=(2, 2), bias=False)\n",
            "      (1): BatchNorm2d(256, eps=1e-05, momentum=0.1, affine=True, track_running_stats=True)\n",
            "    )\n",
            "  )\n",
            "  (1): BasicBlock(\n",
            "    (conv1): Conv2d(256, 256, kernel_size=(3, 3), stride=(1, 1), padding=(1, 1), bias=False)\n",
            "    (bn1): BatchNorm2d(256, eps=1e-05, momentum=0.1, affine=True, track_running_stats=True)\n",
            "    (relu): ReLU(inplace=True)\n",
            "    (conv2): Conv2d(256, 256, kernel_size=(3, 3), stride=(1, 1), padding=(1, 1), bias=False)\n",
            "    (bn2): BatchNorm2d(256, eps=1e-05, momentum=0.1, affine=True, track_running_stats=True)\n",
            "  )\n",
            ")\n",
            "layer3.0 BasicBlock(\n",
            "  (conv1): Conv2d(128, 256, kernel_size=(3, 3), stride=(2, 2), padding=(1, 1), bias=False)\n",
            "  (bn1): BatchNorm2d(256, eps=1e-05, momentum=0.1, affine=True, track_running_stats=True)\n",
            "  (relu): ReLU(inplace=True)\n",
            "  (conv2): Conv2d(256, 256, kernel_size=(3, 3), stride=(1, 1), padding=(1, 1), bias=False)\n",
            "  (bn2): BatchNorm2d(256, eps=1e-05, momentum=0.1, affine=True, track_running_stats=True)\n",
            "  (downsample): Sequential(\n",
            "    (0): Conv2d(128, 256, kernel_size=(1, 1), stride=(2, 2), bias=False)\n",
            "    (1): BatchNorm2d(256, eps=1e-05, momentum=0.1, affine=True, track_running_stats=True)\n",
            "  )\n",
            ")\n",
            "layer3.0.conv1 Conv2d(128, 256, kernel_size=(3, 3), stride=(2, 2), padding=(1, 1), bias=False)\n",
            "layer3.0.bn1 BatchNorm2d(256, eps=1e-05, momentum=0.1, affine=True, track_running_stats=True)\n",
            "layer3.0.relu ReLU(inplace=True)\n",
            "layer3.0.conv2 Conv2d(256, 256, kernel_size=(3, 3), stride=(1, 1), padding=(1, 1), bias=False)\n",
            "layer3.0.bn2 BatchNorm2d(256, eps=1e-05, momentum=0.1, affine=True, track_running_stats=True)\n",
            "layer3.0.downsample Sequential(\n",
            "  (0): Conv2d(128, 256, kernel_size=(1, 1), stride=(2, 2), bias=False)\n",
            "  (1): BatchNorm2d(256, eps=1e-05, momentum=0.1, affine=True, track_running_stats=True)\n",
            ")\n",
            "layer3.0.downsample.0 Conv2d(128, 256, kernel_size=(1, 1), stride=(2, 2), bias=False)\n",
            "layer3.0.downsample.1 BatchNorm2d(256, eps=1e-05, momentum=0.1, affine=True, track_running_stats=True)\n",
            "layer3.1 BasicBlock(\n",
            "  (conv1): Conv2d(256, 256, kernel_size=(3, 3), stride=(1, 1), padding=(1, 1), bias=False)\n",
            "  (bn1): BatchNorm2d(256, eps=1e-05, momentum=0.1, affine=True, track_running_stats=True)\n",
            "  (relu): ReLU(inplace=True)\n",
            "  (conv2): Conv2d(256, 256, kernel_size=(3, 3), stride=(1, 1), padding=(1, 1), bias=False)\n",
            "  (bn2): BatchNorm2d(256, eps=1e-05, momentum=0.1, affine=True, track_running_stats=True)\n",
            ")\n",
            "layer3.1.conv1 Conv2d(256, 256, kernel_size=(3, 3), stride=(1, 1), padding=(1, 1), bias=False)\n",
            "layer3.1.bn1 BatchNorm2d(256, eps=1e-05, momentum=0.1, affine=True, track_running_stats=True)\n",
            "layer3.1.relu ReLU(inplace=True)\n",
            "layer3.1.conv2 Conv2d(256, 256, kernel_size=(3, 3), stride=(1, 1), padding=(1, 1), bias=False)\n",
            "layer3.1.bn2 BatchNorm2d(256, eps=1e-05, momentum=0.1, affine=True, track_running_stats=True)\n",
            "layer4 Sequential(\n",
            "  (0): BasicBlock(\n",
            "    (conv1): Conv2d(256, 512, kernel_size=(3, 3), stride=(2, 2), padding=(1, 1), bias=False)\n",
            "    (bn1): BatchNorm2d(512, eps=1e-05, momentum=0.1, affine=True, track_running_stats=True)\n",
            "    (relu): ReLU(inplace=True)\n",
            "    (conv2): Conv2d(512, 512, kernel_size=(3, 3), stride=(1, 1), padding=(1, 1), bias=False)\n",
            "    (bn2): BatchNorm2d(512, eps=1e-05, momentum=0.1, affine=True, track_running_stats=True)\n",
            "    (downsample): Sequential(\n",
            "      (0): Conv2d(256, 512, kernel_size=(1, 1), stride=(2, 2), bias=False)\n",
            "      (1): BatchNorm2d(512, eps=1e-05, momentum=0.1, affine=True, track_running_stats=True)\n",
            "    )\n",
            "  )\n",
            "  (1): BasicBlock(\n",
            "    (conv1): Conv2d(512, 512, kernel_size=(3, 3), stride=(1, 1), padding=(1, 1), bias=False)\n",
            "    (bn1): BatchNorm2d(512, eps=1e-05, momentum=0.1, affine=True, track_running_stats=True)\n",
            "    (relu): ReLU(inplace=True)\n",
            "    (conv2): Conv2d(512, 512, kernel_size=(3, 3), stride=(1, 1), padding=(1, 1), bias=False)\n",
            "    (bn2): BatchNorm2d(512, eps=1e-05, momentum=0.1, affine=True, track_running_stats=True)\n",
            "  )\n",
            ")\n",
            "layer4.0 BasicBlock(\n",
            "  (conv1): Conv2d(256, 512, kernel_size=(3, 3), stride=(2, 2), padding=(1, 1), bias=False)\n",
            "  (bn1): BatchNorm2d(512, eps=1e-05, momentum=0.1, affine=True, track_running_stats=True)\n",
            "  (relu): ReLU(inplace=True)\n",
            "  (conv2): Conv2d(512, 512, kernel_size=(3, 3), stride=(1, 1), padding=(1, 1), bias=False)\n",
            "  (bn2): BatchNorm2d(512, eps=1e-05, momentum=0.1, affine=True, track_running_stats=True)\n",
            "  (downsample): Sequential(\n",
            "    (0): Conv2d(256, 512, kernel_size=(1, 1), stride=(2, 2), bias=False)\n",
            "    (1): BatchNorm2d(512, eps=1e-05, momentum=0.1, affine=True, track_running_stats=True)\n",
            "  )\n",
            ")\n",
            "layer4.0.conv1 Conv2d(256, 512, kernel_size=(3, 3), stride=(2, 2), padding=(1, 1), bias=False)\n",
            "layer4.0.bn1 BatchNorm2d(512, eps=1e-05, momentum=0.1, affine=True, track_running_stats=True)\n",
            "layer4.0.relu ReLU(inplace=True)\n",
            "layer4.0.conv2 Conv2d(512, 512, kernel_size=(3, 3), stride=(1, 1), padding=(1, 1), bias=False)\n",
            "layer4.0.bn2 BatchNorm2d(512, eps=1e-05, momentum=0.1, affine=True, track_running_stats=True)\n",
            "layer4.0.downsample Sequential(\n",
            "  (0): Conv2d(256, 512, kernel_size=(1, 1), stride=(2, 2), bias=False)\n",
            "  (1): BatchNorm2d(512, eps=1e-05, momentum=0.1, affine=True, track_running_stats=True)\n",
            ")\n",
            "layer4.0.downsample.0 Conv2d(256, 512, kernel_size=(1, 1), stride=(2, 2), bias=False)\n",
            "layer4.0.downsample.1 BatchNorm2d(512, eps=1e-05, momentum=0.1, affine=True, track_running_stats=True)\n",
            "layer4.1 BasicBlock(\n",
            "  (conv1): Conv2d(512, 512, kernel_size=(3, 3), stride=(1, 1), padding=(1, 1), bias=False)\n",
            "  (bn1): BatchNorm2d(512, eps=1e-05, momentum=0.1, affine=True, track_running_stats=True)\n",
            "  (relu): ReLU(inplace=True)\n",
            "  (conv2): Conv2d(512, 512, kernel_size=(3, 3), stride=(1, 1), padding=(1, 1), bias=False)\n",
            "  (bn2): BatchNorm2d(512, eps=1e-05, momentum=0.1, affine=True, track_running_stats=True)\n",
            ")\n",
            "layer4.1.conv1 Conv2d(512, 512, kernel_size=(3, 3), stride=(1, 1), padding=(1, 1), bias=False)\n",
            "layer4.1.bn1 BatchNorm2d(512, eps=1e-05, momentum=0.1, affine=True, track_running_stats=True)\n",
            "layer4.1.relu ReLU(inplace=True)\n",
            "layer4.1.conv2 Conv2d(512, 512, kernel_size=(3, 3), stride=(1, 1), padding=(1, 1), bias=False)\n",
            "layer4.1.bn2 BatchNorm2d(512, eps=1e-05, momentum=0.1, affine=True, track_running_stats=True)\n",
            "avgpool AdaptiveAvgPool2d(output_size=(1, 1))\n",
            "fc Linear(in_features=512, out_features=1000, bias=True)\n"
          ]
        }
      ],
      "source": [
        "for name, layer in model_ft.named_modules():\n",
        "    print(name,layer)"
      ]
    },
    {
      "cell_type": "code",
      "execution_count": 14,
      "metadata": {
        "id": "sPmxkhHtz_zm"
      },
      "outputs": [],
      "source": [
        "# Number of classes in your dataset\n",
        "num_classes = len(class_names)\n",
        "\n",
        "# Get the number of input features for the last layer\n",
        "num_ftrs = model_ft.fc.in_features\n",
        "\n",
        "# Redefine the last fully connected layer\n",
        "model_ft.fc = nn.Linear(num_ftrs, num_classes)\n",
        "\n",
        "# Transfer the model to the GPU if available\n",
        "device = torch.device('cuda' if torch.cuda.is_available() else 'cpu')\n",
        "model_ft = model_ft.to(device)\n"
      ]
    },
    {
      "cell_type": "markdown",
      "metadata": {
        "id": "DwucrYZybObc"
      },
      "source": [
        "# Training\n",
        "\n",
        "* We are going to fine-tune by training all the layers.\n",
        "\n",
        "* We can also freeze the old layers, and only update the last layers that we added. (This is not implemented below.)"
      ]
    },
    {
      "cell_type": "code",
      "execution_count": 15,
      "metadata": {
        "id": "S-QsYuBCMAgN"
      },
      "outputs": [],
      "source": [
        "def train_model(model, criterion, optimizer, scheduler, num_epochs=25):\n",
        "    since = time.time()\n",
        "\n",
        "    best_model_wts = copy.deepcopy(model.state_dict())\n",
        "    best_acc = 0.0\n",
        "\n",
        "    for epoch in range(num_epochs):\n",
        "        print('Epoch {}/{}'.format(epoch, num_epochs - 1))\n",
        "        print('-' * 10)\n",
        "\n",
        "        # Each epoch has a training and validation phase\n",
        "        for phase in ['train', 'test']:\n",
        "            if phase == 'train':\n",
        "                model.train()  # Set model to training mode\n",
        "            else:\n",
        "                model.eval()   # Set model to evaluate mode\n",
        "\n",
        "            running_loss = 0.0\n",
        "            running_corrects = 0\n",
        "\n",
        "            # Iterate over data.\n",
        "            for inputs, labels in dataloaders[phase]:\n",
        "                inputs = inputs.to(device)\n",
        "                labels = labels.to(device)\n",
        "\n",
        "                # zero the parameter gradients\n",
        "                optimizer.zero_grad()\n",
        "\n",
        "                # forward\n",
        "                # track history if only in train\n",
        "                with torch.set_grad_enabled(phase == 'train'):\n",
        "                    outputs = model(inputs)\n",
        "                    _, preds = torch.max(outputs, 1)\n",
        "                    loss = criterion(outputs, labels)\n",
        "\n",
        "                    # backward + optimize only if in training phase\n",
        "                    if phase == 'train':\n",
        "                        loss.backward()\n",
        "                        optimizer.step()\n",
        "\n",
        "                # statistics\n",
        "                running_loss += loss.item() * inputs.size(0)\n",
        "                running_corrects += torch.sum(preds == labels.data)\n",
        "            if phase == 'train':\n",
        "                scheduler.step() # updates the learning rate\n",
        "\n",
        "            epoch_loss = running_loss / dataset_sizes[phase]\n",
        "            epoch_acc = running_corrects.double() / dataset_sizes[phase]\n",
        "\n",
        "            print('{} Loss: {:.4f} Acc: {:.4f}'.format(\n",
        "                phase, epoch_loss, epoch_acc))\n",
        "\n",
        "            # deep copy the model\n",
        "            if phase == 'test' and epoch_acc > best_acc:\n",
        "                best_acc = epoch_acc\n",
        "                best_model_wts = copy.deepcopy(model.state_dict())\n",
        "\n",
        "        print()\n",
        "\n",
        "    time_elapsed = time.time() - since\n",
        "    print('Training complete in {:.0f}m {:.0f}s'.format(\n",
        "        time_elapsed // 60, time_elapsed % 60))\n",
        "    print('Best test Acc: {:4f}'.format(best_acc))\n",
        "\n",
        "    # load best model weights\n",
        "    model.load_state_dict(best_model_wts)\n",
        "    return model"
      ]
    },
    {
      "cell_type": "markdown",
      "metadata": {
        "id": "A1I3mmjqdGoT"
      },
      "source": [
        "# Parameters of the optimization\n",
        "\n",
        "# Problem 4 (Optional)\n",
        "Explore choosing different learning rates or optimizers to see how things go."
      ]
    },
    {
      "cell_type": "code",
      "execution_count": 16,
      "metadata": {
        "id": "VDSsV8q6RbNN"
      },
      "outputs": [],
      "source": [
        "# We need to set the loss function, the optimizer, and the learning rate scheduler\n",
        "criterion = nn.CrossEntropyLoss()\n",
        "# though we're fine tuning, we're updating all parameters\n",
        "optimizer_ft = optim.SGD(model_ft.parameters(), lr=0.001, momentum=0.9)\n",
        "# the scheduler decreases the learning rate by a factor of 0.1 every 7 epochs\n",
        "exp_lr_scheduler = lr_scheduler.StepLR(optimizer_ft, step_size=7, gamma=0.1)"
      ]
    },
    {
      "cell_type": "markdown",
      "metadata": {
        "id": "mM56-XrFdMy2"
      },
      "source": [
        "# Train"
      ]
    },
    {
      "cell_type": "code",
      "execution_count": 17,
      "metadata": {
        "colab": {
          "base_uri": "https://localhost:8080/"
        },
        "id": "qxFpXJsTS4i_",
        "outputId": "42b75eb6-7e45-4332-8ff3-4e59f74d24da"
      },
      "outputs": [
        {
          "output_type": "stream",
          "name": "stdout",
          "text": [
            "Epoch 0/24\n",
            "----------\n"
          ]
        },
        {
          "output_type": "stream",
          "name": "stderr",
          "text": [
            "/usr/local/lib/python3.10/dist-packages/PIL/Image.py:996: UserWarning: Palette images with Transparency expressed in bytes should be converted to RGBA images\n",
            "  warnings.warn(\n"
          ]
        },
        {
          "output_type": "stream",
          "name": "stdout",
          "text": [
            "train Loss: 0.5091 Acc: 0.7969\n",
            "test Loss: 0.0163 Acc: 1.0000\n",
            "\n",
            "Epoch 1/24\n",
            "----------\n"
          ]
        },
        {
          "output_type": "stream",
          "name": "stderr",
          "text": [
            "/usr/local/lib/python3.10/dist-packages/PIL/Image.py:996: UserWarning: Palette images with Transparency expressed in bytes should be converted to RGBA images\n",
            "  warnings.warn(\n"
          ]
        },
        {
          "output_type": "stream",
          "name": "stdout",
          "text": [
            "train Loss: 0.2785 Acc: 0.8996\n",
            "test Loss: 0.0089 Acc: 1.0000\n",
            "\n",
            "Epoch 2/24\n",
            "----------\n"
          ]
        },
        {
          "output_type": "stream",
          "name": "stderr",
          "text": [
            "/usr/local/lib/python3.10/dist-packages/PIL/Image.py:996: UserWarning: Palette images with Transparency expressed in bytes should be converted to RGBA images\n",
            "  warnings.warn(\n"
          ]
        },
        {
          "output_type": "stream",
          "name": "stdout",
          "text": [
            "train Loss: 0.2654 Acc: 0.8973\n",
            "test Loss: 0.0230 Acc: 0.9933\n",
            "\n",
            "Epoch 3/24\n",
            "----------\n"
          ]
        },
        {
          "output_type": "stream",
          "name": "stderr",
          "text": [
            "/usr/local/lib/python3.10/dist-packages/PIL/Image.py:996: UserWarning: Palette images with Transparency expressed in bytes should be converted to RGBA images\n",
            "  warnings.warn(\n"
          ]
        },
        {
          "output_type": "stream",
          "name": "stdout",
          "text": [
            "train Loss: 0.2104 Acc: 0.9241\n",
            "test Loss: 0.0113 Acc: 0.9933\n",
            "\n",
            "Epoch 4/24\n",
            "----------\n"
          ]
        },
        {
          "output_type": "stream",
          "name": "stderr",
          "text": [
            "/usr/local/lib/python3.10/dist-packages/PIL/Image.py:996: UserWarning: Palette images with Transparency expressed in bytes should be converted to RGBA images\n",
            "  warnings.warn(\n"
          ]
        },
        {
          "output_type": "stream",
          "name": "stdout",
          "text": [
            "train Loss: 0.3747 Acc: 0.8951\n",
            "test Loss: 0.0029 Acc: 1.0000\n",
            "\n",
            "Epoch 5/24\n",
            "----------\n"
          ]
        },
        {
          "output_type": "stream",
          "name": "stderr",
          "text": [
            "/usr/local/lib/python3.10/dist-packages/PIL/Image.py:996: UserWarning: Palette images with Transparency expressed in bytes should be converted to RGBA images\n",
            "  warnings.warn(\n"
          ]
        },
        {
          "output_type": "stream",
          "name": "stdout",
          "text": [
            "train Loss: 0.2914 Acc: 0.9040\n",
            "test Loss: 0.0035 Acc: 1.0000\n",
            "\n",
            "Epoch 6/24\n",
            "----------\n"
          ]
        },
        {
          "output_type": "stream",
          "name": "stderr",
          "text": [
            "/usr/local/lib/python3.10/dist-packages/PIL/Image.py:996: UserWarning: Palette images with Transparency expressed in bytes should be converted to RGBA images\n",
            "  warnings.warn(\n"
          ]
        },
        {
          "output_type": "stream",
          "name": "stdout",
          "text": [
            "train Loss: 0.2217 Acc: 0.9308\n",
            "test Loss: 0.0020 Acc: 1.0000\n",
            "\n",
            "Epoch 7/24\n",
            "----------\n"
          ]
        },
        {
          "output_type": "stream",
          "name": "stderr",
          "text": [
            "/usr/local/lib/python3.10/dist-packages/PIL/Image.py:996: UserWarning: Palette images with Transparency expressed in bytes should be converted to RGBA images\n",
            "  warnings.warn(\n"
          ]
        },
        {
          "output_type": "stream",
          "name": "stdout",
          "text": [
            "train Loss: 0.1782 Acc: 0.9487\n",
            "test Loss: 0.0011 Acc: 1.0000\n",
            "\n",
            "Epoch 8/24\n",
            "----------\n"
          ]
        },
        {
          "output_type": "stream",
          "name": "stderr",
          "text": [
            "/usr/local/lib/python3.10/dist-packages/PIL/Image.py:996: UserWarning: Palette images with Transparency expressed in bytes should be converted to RGBA images\n",
            "  warnings.warn(\n"
          ]
        },
        {
          "output_type": "stream",
          "name": "stdout",
          "text": [
            "train Loss: 0.1493 Acc: 0.9531\n",
            "test Loss: 0.0006 Acc: 1.0000\n",
            "\n",
            "Epoch 9/24\n",
            "----------\n"
          ]
        },
        {
          "output_type": "stream",
          "name": "stderr",
          "text": [
            "/usr/local/lib/python3.10/dist-packages/PIL/Image.py:996: UserWarning: Palette images with Transparency expressed in bytes should be converted to RGBA images\n",
            "  warnings.warn(\n"
          ]
        },
        {
          "output_type": "stream",
          "name": "stdout",
          "text": [
            "train Loss: 0.1587 Acc: 0.9598\n",
            "test Loss: 0.0013 Acc: 1.0000\n",
            "\n",
            "Epoch 10/24\n",
            "----------\n"
          ]
        },
        {
          "output_type": "stream",
          "name": "stderr",
          "text": [
            "/usr/local/lib/python3.10/dist-packages/PIL/Image.py:996: UserWarning: Palette images with Transparency expressed in bytes should be converted to RGBA images\n",
            "  warnings.warn(\n"
          ]
        },
        {
          "output_type": "stream",
          "name": "stdout",
          "text": [
            "train Loss: 0.1585 Acc: 0.9621\n",
            "test Loss: 0.0021 Acc: 1.0000\n",
            "\n",
            "Epoch 11/24\n",
            "----------\n"
          ]
        },
        {
          "output_type": "stream",
          "name": "stderr",
          "text": [
            "/usr/local/lib/python3.10/dist-packages/PIL/Image.py:996: UserWarning: Palette images with Transparency expressed in bytes should be converted to RGBA images\n",
            "  warnings.warn(\n"
          ]
        },
        {
          "output_type": "stream",
          "name": "stdout",
          "text": [
            "train Loss: 0.1621 Acc: 0.9487\n",
            "test Loss: 0.0005 Acc: 1.0000\n",
            "\n",
            "Epoch 12/24\n",
            "----------\n"
          ]
        },
        {
          "output_type": "stream",
          "name": "stderr",
          "text": [
            "/usr/local/lib/python3.10/dist-packages/PIL/Image.py:996: UserWarning: Palette images with Transparency expressed in bytes should be converted to RGBA images\n",
            "  warnings.warn(\n"
          ]
        },
        {
          "output_type": "stream",
          "name": "stdout",
          "text": [
            "train Loss: 0.1252 Acc: 0.9598\n",
            "test Loss: 0.0007 Acc: 1.0000\n",
            "\n",
            "Epoch 13/24\n",
            "----------\n"
          ]
        },
        {
          "output_type": "stream",
          "name": "stderr",
          "text": [
            "/usr/local/lib/python3.10/dist-packages/PIL/Image.py:996: UserWarning: Palette images with Transparency expressed in bytes should be converted to RGBA images\n",
            "  warnings.warn(\n"
          ]
        },
        {
          "output_type": "stream",
          "name": "stdout",
          "text": [
            "train Loss: 0.1329 Acc: 0.9554\n",
            "test Loss: 0.0012 Acc: 1.0000\n",
            "\n",
            "Epoch 14/24\n",
            "----------\n"
          ]
        },
        {
          "output_type": "stream",
          "name": "stderr",
          "text": [
            "/usr/local/lib/python3.10/dist-packages/PIL/Image.py:996: UserWarning: Palette images with Transparency expressed in bytes should be converted to RGBA images\n",
            "  warnings.warn(\n"
          ]
        },
        {
          "output_type": "stream",
          "name": "stdout",
          "text": [
            "train Loss: 0.1337 Acc: 0.9554\n",
            "test Loss: 0.0006 Acc: 1.0000\n",
            "\n",
            "Epoch 15/24\n",
            "----------\n"
          ]
        },
        {
          "output_type": "stream",
          "name": "stderr",
          "text": [
            "/usr/local/lib/python3.10/dist-packages/PIL/Image.py:996: UserWarning: Palette images with Transparency expressed in bytes should be converted to RGBA images\n",
            "  warnings.warn(\n"
          ]
        },
        {
          "output_type": "stream",
          "name": "stdout",
          "text": [
            "train Loss: 0.1494 Acc: 0.9576\n",
            "test Loss: 0.0006 Acc: 1.0000\n",
            "\n",
            "Epoch 16/24\n",
            "----------\n"
          ]
        },
        {
          "output_type": "stream",
          "name": "stderr",
          "text": [
            "/usr/local/lib/python3.10/dist-packages/PIL/Image.py:996: UserWarning: Palette images with Transparency expressed in bytes should be converted to RGBA images\n",
            "  warnings.warn(\n"
          ]
        },
        {
          "output_type": "stream",
          "name": "stdout",
          "text": [
            "train Loss: 0.1351 Acc: 0.9621\n",
            "test Loss: 0.0007 Acc: 1.0000\n",
            "\n",
            "Epoch 17/24\n",
            "----------\n"
          ]
        },
        {
          "output_type": "stream",
          "name": "stderr",
          "text": [
            "/usr/local/lib/python3.10/dist-packages/PIL/Image.py:996: UserWarning: Palette images with Transparency expressed in bytes should be converted to RGBA images\n",
            "  warnings.warn(\n"
          ]
        },
        {
          "output_type": "stream",
          "name": "stdout",
          "text": [
            "train Loss: 0.1757 Acc: 0.9487\n",
            "test Loss: 0.0004 Acc: 1.0000\n",
            "\n",
            "Epoch 18/24\n",
            "----------\n"
          ]
        },
        {
          "output_type": "stream",
          "name": "stderr",
          "text": [
            "/usr/local/lib/python3.10/dist-packages/PIL/Image.py:996: UserWarning: Palette images with Transparency expressed in bytes should be converted to RGBA images\n",
            "  warnings.warn(\n"
          ]
        },
        {
          "output_type": "stream",
          "name": "stdout",
          "text": [
            "train Loss: 0.0758 Acc: 0.9710\n",
            "test Loss: 0.0007 Acc: 1.0000\n",
            "\n",
            "Epoch 19/24\n",
            "----------\n"
          ]
        },
        {
          "output_type": "stream",
          "name": "stderr",
          "text": [
            "/usr/local/lib/python3.10/dist-packages/PIL/Image.py:996: UserWarning: Palette images with Transparency expressed in bytes should be converted to RGBA images\n",
            "  warnings.warn(\n"
          ]
        },
        {
          "output_type": "stream",
          "name": "stdout",
          "text": [
            "train Loss: 0.1560 Acc: 0.9531\n",
            "test Loss: 0.0006 Acc: 1.0000\n",
            "\n",
            "Epoch 20/24\n",
            "----------\n"
          ]
        },
        {
          "output_type": "stream",
          "name": "stderr",
          "text": [
            "/usr/local/lib/python3.10/dist-packages/PIL/Image.py:996: UserWarning: Palette images with Transparency expressed in bytes should be converted to RGBA images\n",
            "  warnings.warn(\n"
          ]
        },
        {
          "output_type": "stream",
          "name": "stdout",
          "text": [
            "train Loss: 0.1705 Acc: 0.9397\n",
            "test Loss: 0.0007 Acc: 1.0000\n",
            "\n",
            "Epoch 21/24\n",
            "----------\n"
          ]
        },
        {
          "output_type": "stream",
          "name": "stderr",
          "text": [
            "/usr/local/lib/python3.10/dist-packages/PIL/Image.py:996: UserWarning: Palette images with Transparency expressed in bytes should be converted to RGBA images\n",
            "  warnings.warn(\n"
          ]
        },
        {
          "output_type": "stream",
          "name": "stdout",
          "text": [
            "train Loss: 0.0618 Acc: 0.9844\n",
            "test Loss: 0.0004 Acc: 1.0000\n",
            "\n",
            "Epoch 22/24\n",
            "----------\n"
          ]
        },
        {
          "output_type": "stream",
          "name": "stderr",
          "text": [
            "/usr/local/lib/python3.10/dist-packages/PIL/Image.py:996: UserWarning: Palette images with Transparency expressed in bytes should be converted to RGBA images\n",
            "  warnings.warn(\n"
          ]
        },
        {
          "output_type": "stream",
          "name": "stdout",
          "text": [
            "train Loss: 0.1735 Acc: 0.9509\n",
            "test Loss: 0.0006 Acc: 1.0000\n",
            "\n",
            "Epoch 23/24\n",
            "----------\n"
          ]
        },
        {
          "output_type": "stream",
          "name": "stderr",
          "text": [
            "/usr/local/lib/python3.10/dist-packages/PIL/Image.py:996: UserWarning: Palette images with Transparency expressed in bytes should be converted to RGBA images\n",
            "  warnings.warn(\n"
          ]
        },
        {
          "output_type": "stream",
          "name": "stdout",
          "text": [
            "train Loss: 0.0542 Acc: 0.9866\n",
            "test Loss: 0.0009 Acc: 1.0000\n",
            "\n",
            "Epoch 24/24\n",
            "----------\n"
          ]
        },
        {
          "output_type": "stream",
          "name": "stderr",
          "text": [
            "/usr/local/lib/python3.10/dist-packages/PIL/Image.py:996: UserWarning: Palette images with Transparency expressed in bytes should be converted to RGBA images\n",
            "  warnings.warn(\n"
          ]
        },
        {
          "output_type": "stream",
          "name": "stdout",
          "text": [
            "train Loss: 0.1969 Acc: 0.9442\n",
            "test Loss: 0.0005 Acc: 1.0000\n",
            "\n",
            "Training complete in 10m 1s\n",
            "Best test Acc: 1.000000\n"
          ]
        }
      ],
      "source": [
        "# Now we train\n",
        "model_ft = train_model(model_ft, criterion, optimizer_ft, exp_lr_scheduler,num_epochs=25)"
      ]
    },
    {
      "cell_type": "markdown",
      "metadata": {
        "id": "y0nNjs-8ulBx"
      },
      "source": [
        "# Problem 5\n",
        "\n",
        "Report your accuracy on the testing set. You should compute this explicitly by running all your testing examples through the model and checking them against their true labels."
      ]
    },
    {
      "cell_type": "code",
      "execution_count": 18,
      "metadata": {
        "id": "2MbqT3B74H85",
        "colab": {
          "base_uri": "https://localhost:8080/"
        },
        "outputId": "a5f915cb-e47a-46d0-b514-061ac17bd3ff"
      },
      "outputs": [
        {
          "output_type": "stream",
          "name": "stdout",
          "text": [
            "Accuracy of the network on the validation dataset: 100.0 %\n"
          ]
        }
      ],
      "source": [
        "correct = 0\n",
        "total = 0\n",
        "# since we're not training, we don't need to calculate the gradients for our outputs\n",
        "with torch.no_grad():\n",
        "    for data in dataloaders['test']:\n",
        "        images, labels = data\n",
        "        images, labels = images.to(device), labels.to(device)\n",
        "        # calculate outputs by running images through the network\n",
        "        outputs = model_ft(images)\n",
        "        # the class with the highest energy is what we choose as prediction\n",
        "        _, predicted = torch.max(outputs.data, 1)\n",
        "        total += labels.size(0)\n",
        "        correct += (predicted == labels).sum().item()\n",
        "\n",
        "print(f'Accuracy of the network on the validation dataset: {100 * correct / total} %')"
      ]
    },
    {
      "cell_type": "markdown",
      "metadata": {
        "id": "YmgRXICurg58"
      },
      "source": [
        "# Now let's visualize to see how well we did"
      ]
    },
    {
      "cell_type": "markdown",
      "metadata": {
        "id": "PB4a07eUuzze"
      },
      "source": [
        "# Problem 6\n",
        "\n",
        "Print out images from the test set, reporting the predicted labels and the true labels."
      ]
    },
    {
      "cell_type": "code",
      "execution_count": 19,
      "metadata": {
        "id": "Whs6aaaD4spG",
        "colab": {
          "base_uri": "https://localhost:8080/",
          "height": 224
        },
        "outputId": "3fabb606-29be-465c-de89-457f4a8f061b"
      },
      "outputs": [
        {
          "output_type": "display_data",
          "data": {
            "text/plain": [
              "<Figure size 640x480 with 1 Axes>"
            ],
            "image/png": "[encoded data removed]"
          },
          "metadata": {}
        },
        {
          "output_type": "stream",
          "name": "stdout",
          "text": [
            "GroundTruth:  ferrari ferrari iphone taj mahal\n",
            "Predicted:  ferrari ferrari iphone taj mahal\n"
          ]
        }
      ],
      "source": [
        "# Let's see how well this trained model performs on a couple data points.\n",
        "dataiter = iter(dataloaders['test'])\n",
        "images, labels = next(dataiter)\n",
        "\n",
        "# Print images\n",
        "imshow(torchvision.utils.make_grid(images))\n",
        "print('GroundTruth: ', ' '.join('%5s' % class_names[labels[j]] for j in range(4)))\n",
        "\n",
        "device = torch.device(\"cuda\" if torch.cuda.is_available() else \"cpu\")\n",
        "images, labels = images.to(device), labels.to(device)\n",
        "\n",
        "# Forward pass to get predictions\n",
        "outputs = model_ft(images)\n",
        "_, predicted = torch.max(outputs, 1)\n",
        "\n",
        "print('Predicted: ', ' '.join('%5s' % class_names[predicted[j]] for j in range(4)))\n"
      ]
    },
    {
      "cell_type": "markdown",
      "metadata": {
        "id": "Ens6LEm3vCZ3"
      },
      "source": [
        "# Problem 7 (Optional)\n",
        "\n",
        "Experiment with some/all of the following:\n",
        "\n",
        "* Play with different pre-trained models\n",
        "* Experiment with different pre-processing of the data (e.g., turn data augmentation on or off).\n",
        "* Experiment with adding more/fewer layers, and/or layers of different size.\n",
        "* Fine tune by training everything or only the last (new) layer -- this requires figuring out how to only update some of the layers.\n",
        "* Try to reduce the number of images you use for training. How few can you use and still get good accuracy? Remember that you were all able to learn what a Goblin shark is with only one single example."
      ]
    },
    {
      "cell_type": "code",
      "execution_count": null,
      "metadata": {
        "id": "IfTNwQmb5cic"
      },
      "outputs": [],
      "source": []
    }
  ],
  "metadata": {
    "accelerator": "GPU",
    "colab": {
      "provenance": [],
      "include_colab_link": true
    },
    "kernelspec": {
      "display_name": "Python 3",
      "name": "python3"
    },
    "language_info": {
      "name": "python"
    }
  },
  "nbformat": 4,
  "nbformat_minor": 0
}