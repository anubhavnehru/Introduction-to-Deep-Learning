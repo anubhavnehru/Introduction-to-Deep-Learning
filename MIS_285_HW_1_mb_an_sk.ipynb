{
  "nbformat": 4,
  "nbformat_minor": 0,
  "metadata": {
    "colab": {
      "provenance": [],
      "include_colab_link": true
    },
    "kernelspec": {
      "name": "python3",
      "display_name": "Python 3"
    },
    "language_info": {
      "name": "python"
    },
    "widgets": {
      "application/vnd.jupyter.widget-state+json": {
        "0c6f42f2808246f0a062e0d235dbf98c": {
          "model_module": "@jupyter-widgets/controls",
          "model_name": "HBoxModel",
          "model_module_version": "1.5.0",
          "state": {
            "_dom_classes": [],
            "_model_module": "@jupyter-widgets/controls",
            "_model_module_version": "1.5.0",
            "_model_name": "HBoxModel",
            "_view_count": null,
            "_view_module": "@jupyter-widgets/controls",
            "_view_module_version": "1.5.0",
            "_view_name": "HBoxView",
            "box_style": "",
            "children": [
              "IPY_MODEL_6fc3ae8b26cd41f2bd8a531ffb4d084b",
              "IPY_MODEL_402c68c469d34d1ba8a3a6a628cd61a9",
              "IPY_MODEL_5b4eaae57de64066ac95bcce86e5d5b9"
            ],
            "layout": "IPY_MODEL_7c003a1b700f41db9d14106a726ce2a2"
          }
        },
        "6fc3ae8b26cd41f2bd8a531ffb4d084b": {
          "model_module": "@jupyter-widgets/controls",
          "model_name": "HTMLModel",
          "model_module_version": "1.5.0",
          "state": {
            "_dom_classes": [],
            "_model_module": "@jupyter-widgets/controls",
            "_model_module_version": "1.5.0",
            "_model_name": "HTMLModel",
            "_view_count": null,
            "_view_module": "@jupyter-widgets/controls",
            "_view_module_version": "1.5.0",
            "_view_name": "HTMLView",
            "description": "",
            "description_tooltip": null,
            "layout": "IPY_MODEL_fc8070a2b5c5443884909a104368e0c3",
            "placeholder": "​",
            "style": "IPY_MODEL_06278ec2960d4c7999bf2cb37108b4a5",
            "value": "100%"
          }
        },
        "402c68c469d34d1ba8a3a6a628cd61a9": {
          "model_module": "@jupyter-widgets/controls",
          "model_name": "FloatProgressModel",
          "model_module_version": "1.5.0",
          "state": {
            "_dom_classes": [],
            "_model_module": "@jupyter-widgets/controls",
            "_model_module_version": "1.5.0",
            "_model_name": "FloatProgressModel",
            "_view_count": null,
            "_view_module": "@jupyter-widgets/controls",
            "_view_module_version": "1.5.0",
            "_view_name": "ProgressView",
            "bar_style": "success",
            "description": "",
            "description_tooltip": null,
            "layout": "IPY_MODEL_6605fefc29bd4a06a230a5a4c58d4aee",
            "max": 5000,
            "min": 0,
            "orientation": "horizontal",
            "style": "IPY_MODEL_de5e43088c514a3e88db62a4551276a6",
            "value": 5000
          }
        },
        "5b4eaae57de64066ac95bcce86e5d5b9": {
          "model_module": "@jupyter-widgets/controls",
          "model_name": "HTMLModel",
          "model_module_version": "1.5.0",
          "state": {
            "_dom_classes": [],
            "_model_module": "@jupyter-widgets/controls",
            "_model_module_version": "1.5.0",
            "_model_name": "HTMLModel",
            "_view_count": null,
            "_view_module": "@jupyter-widgets/controls",
            "_view_module_version": "1.5.0",
            "_view_name": "HTMLView",
            "description": "",
            "description_tooltip": null,
            "layout": "IPY_MODEL_6bbb883309364bb080954ef6a156229a",
            "placeholder": "​",
            "style": "IPY_MODEL_2f5aed40ce8143418698e12415e1eddd",
            "value": " 5000/5000 [01:12&lt;00:00, 72.01it/s]"
          }
        },
        "7c003a1b700f41db9d14106a726ce2a2": {
          "model_module": "@jupyter-widgets/base",
          "model_name": "LayoutModel",
          "model_module_version": "1.2.0",
          "state": {
            "_model_module": "@jupyter-widgets/base",
            "_model_module_version": "1.2.0",
            "_model_name": "LayoutModel",
            "_view_count": null,
            "_view_module": "@jupyter-widgets/base",
            "_view_module_version": "1.2.0",
            "_view_name": "LayoutView",
            "align_content": null,
            "align_items": null,
            "align_self": null,
            "border": null,
            "bottom": null,
            "display": null,
            "flex": null,
            "flex_flow": null,
            "grid_area": null,
            "grid_auto_columns": null,
            "grid_auto_flow": null,
            "grid_auto_rows": null,
            "grid_column": null,
            "grid_gap": null,
            "grid_row": null,
            "grid_template_areas": null,
            "grid_template_columns": null,
            "grid_template_rows": null,
            "height": null,
            "justify_content": null,
            "justify_items": null,
            "left": null,
            "margin": null,
            "max_height": null,
            "max_width": null,
            "min_height": null,
            "min_width": null,
            "object_fit": null,
            "object_position": null,
            "order": null,
            "overflow": null,
            "overflow_x": null,
            "overflow_y": null,
            "padding": null,
            "right": null,
            "top": null,
            "visibility": null,
            "width": null
          }
        },
        "fc8070a2b5c5443884909a104368e0c3": {
          "model_module": "@jupyter-widgets/base",
          "model_name": "LayoutModel",
          "model_module_version": "1.2.0",
          "state": {
            "_model_module": "@jupyter-widgets/base",
            "_model_module_version": "1.2.0",
            "_model_name": "LayoutModel",
            "_view_count": null,
            "_view_module": "@jupyter-widgets/base",
            "_view_module_version": "1.2.0",
            "_view_name": "LayoutView",
            "align_content": null,
            "align_items": null,
            "align_self": null,
            "border": null,
            "bottom": null,
            "display": null,
            "flex": null,
            "flex_flow": null,
            "grid_area": null,
            "grid_auto_columns": null,
            "grid_auto_flow": null,
            "grid_auto_rows": null,
            "grid_column": null,
            "grid_gap": null,
            "grid_row": null,
            "grid_template_areas": null,
            "grid_template_columns": null,
            "grid_template_rows": null,
            "height": null,
            "justify_content": null,
            "justify_items": null,
            "left": null,
            "margin": null,
            "max_height": null,
            "max_width": null,
            "min_height": null,
            "min_width": null,
            "object_fit": null,
            "object_position": null,
            "order": null,
            "overflow": null,
            "overflow_x": null,
            "overflow_y": null,
            "padding": null,
            "right": null,
            "top": null,
            "visibility": null,
            "width": null
          }
        },
        "06278ec2960d4c7999bf2cb37108b4a5": {
          "model_module": "@jupyter-widgets/controls",
          "model_name": "DescriptionStyleModel",
          "model_module_version": "1.5.0",
          "state": {
            "_model_module": "@jupyter-widgets/controls",
            "_model_module_version": "1.5.0",
            "_model_name": "DescriptionStyleModel",
            "_view_count": null,
            "_view_module": "@jupyter-widgets/base",
            "_view_module_version": "1.2.0",
            "_view_name": "StyleView",
            "description_width": ""
          }
        },
        "6605fefc29bd4a06a230a5a4c58d4aee": {
          "model_module": "@jupyter-widgets/base",
          "model_name": "LayoutModel",
          "model_module_version": "1.2.0",
          "state": {
            "_model_module": "@jupyter-widgets/base",
            "_model_module_version": "1.2.0",
            "_model_name": "LayoutModel",
            "_view_count": null,
            "_view_module": "@jupyter-widgets/base",
            "_view_module_version": "1.2.0",
            "_view_name": "LayoutView",
            "align_content": null,
            "align_items": null,
            "align_self": null,
            "border": null,
            "bottom": null,
            "display": null,
            "flex": null,
            "flex_flow": null,
            "grid_area": null,
            "grid_auto_columns": null,
            "grid_auto_flow": null,
            "grid_auto_rows": null,
            "grid_column": null,
            "grid_gap": null,
            "grid_row": null,
            "grid_template_areas": null,
            "grid_template_columns": null,
            "grid_template_rows": null,
            "height": null,
            "justify_content": null,
            "justify_items": null,
            "left": null,
            "margin": null,
            "max_height": null,
            "max_width": null,
            "min_height": null,
            "min_width": null,
            "object_fit": null,
            "object_position": null,
            "order": null,
            "overflow": null,
            "overflow_x": null,
            "overflow_y": null,
            "padding": null,
            "right": null,
            "top": null,
            "visibility": null,
            "width": null
          }
        },
        "de5e43088c514a3e88db62a4551276a6": {
          "model_module": "@jupyter-widgets/controls",
          "model_name": "ProgressStyleModel",
          "model_module_version": "1.5.0",
          "state": {
            "_model_module": "@jupyter-widgets/controls",
            "_model_module_version": "1.5.0",
            "_model_name": "ProgressStyleModel",
            "_view_count": null,
            "_view_module": "@jupyter-widgets/base",
            "_view_module_version": "1.2.0",
            "_view_name": "StyleView",
            "bar_color": null,
            "description_width": ""
          }
        },
        "6bbb883309364bb080954ef6a156229a": {
          "model_module": "@jupyter-widgets/base",
          "model_name": "LayoutModel",
          "model_module_version": "1.2.0",
          "state": {
            "_model_module": "@jupyter-widgets/base",
            "_model_module_version": "1.2.0",
            "_model_name": "LayoutModel",
            "_view_count": null,
            "_view_module": "@jupyter-widgets/base",
            "_view_module_version": "1.2.0",
            "_view_name": "LayoutView",
            "align_content": null,
            "align_items": null,
            "align_self": null,
            "border": null,
            "bottom": null,
            "display": null,
            "flex": null,
            "flex_flow": null,
            "grid_area": null,
            "grid_auto_columns": null,
            "grid_auto_flow": null,
            "grid_auto_rows": null,
            "grid_column": null,
            "grid_gap": null,
            "grid_row": null,
            "grid_template_areas": null,
            "grid_template_columns": null,
            "grid_template_rows": null,
            "height": null,
            "justify_content": null,
            "justify_items": null,
            "left": null,
            "margin": null,
            "max_height": null,
            "max_width": null,
            "min_height": null,
            "min_width": null,
            "object_fit": null,
            "object_position": null,
            "order": null,
            "overflow": null,
            "overflow_x": null,
            "overflow_y": null,
            "padding": null,
            "right": null,
            "top": null,
            "visibility": null,
            "width": null
          }
        },
        "2f5aed40ce8143418698e12415e1eddd": {
          "model_module": "@jupyter-widgets/controls",
          "model_name": "DescriptionStyleModel",
          "model_module_version": "1.5.0",
          "state": {
            "_model_module": "@jupyter-widgets/controls",
            "_model_module_version": "1.5.0",
            "_model_name": "DescriptionStyleModel",
            "_view_count": null,
            "_view_module": "@jupyter-widgets/base",
            "_view_module_version": "1.2.0",
            "_view_name": "StyleView",
            "description_width": ""
          }
        },
        "21e9db161f4340b4817fc69dac1e78a3": {
          "model_module": "@jupyter-widgets/controls",
          "model_name": "HBoxModel",
          "model_module_version": "1.5.0",
          "state": {
            "_dom_classes": [],
            "_model_module": "@jupyter-widgets/controls",
            "_model_module_version": "1.5.0",
            "_model_name": "HBoxModel",
            "_view_count": null,
            "_view_module": "@jupyter-widgets/controls",
            "_view_module_version": "1.5.0",
            "_view_name": "HBoxView",
            "box_style": "",
            "children": [
              "IPY_MODEL_25435d855585401e95bf4f17a2120a7a",
              "IPY_MODEL_ce2ed6fb48234b6f9dece798c8e8e827",
              "IPY_MODEL_542d4bca951c428fa4f2dcde199deff8"
            ],
            "layout": "IPY_MODEL_fec0c669742b4184a32fe8d40d8b0436"
          }
        },
        "25435d855585401e95bf4f17a2120a7a": {
          "model_module": "@jupyter-widgets/controls",
          "model_name": "HTMLModel",
          "model_module_version": "1.5.0",
          "state": {
            "_dom_classes": [],
            "_model_module": "@jupyter-widgets/controls",
            "_model_module_version": "1.5.0",
            "_model_name": "HTMLModel",
            "_view_count": null,
            "_view_module": "@jupyter-widgets/controls",
            "_view_module_version": "1.5.0",
            "_view_name": "HTMLView",
            "description": "",
            "description_tooltip": null,
            "layout": "IPY_MODEL_8d9c96138a874afc801612c68582122b",
            "placeholder": "​",
            "style": "IPY_MODEL_e106c0edfe6243b7ad04598250eaed22",
            "value": "100%"
          }
        },
        "ce2ed6fb48234b6f9dece798c8e8e827": {
          "model_module": "@jupyter-widgets/controls",
          "model_name": "FloatProgressModel",
          "model_module_version": "1.5.0",
          "state": {
            "_dom_classes": [],
            "_model_module": "@jupyter-widgets/controls",
            "_model_module_version": "1.5.0",
            "_model_name": "FloatProgressModel",
            "_view_count": null,
            "_view_module": "@jupyter-widgets/controls",
            "_view_module_version": "1.5.0",
            "_view_name": "ProgressView",
            "bar_style": "success",
            "description": "",
            "description_tooltip": null,
            "layout": "IPY_MODEL_319fe1da90584106a17c2e2e3a325c3a",
            "max": 5000,
            "min": 0,
            "orientation": "horizontal",
            "style": "IPY_MODEL_f58c1bef4aa64d929265a10eb2ea15c0",
            "value": 5000
          }
        },
        "542d4bca951c428fa4f2dcde199deff8": {
          "model_module": "@jupyter-widgets/controls",
          "model_name": "HTMLModel",
          "model_module_version": "1.5.0",
          "state": {
            "_dom_classes": [],
            "_model_module": "@jupyter-widgets/controls",
            "_model_module_version": "1.5.0",
            "_model_name": "HTMLModel",
            "_view_count": null,
            "_view_module": "@jupyter-widgets/controls",
            "_view_module_version": "1.5.0",
            "_view_name": "HTMLView",
            "description": "",
            "description_tooltip": null,
            "layout": "IPY_MODEL_1d7fb07f26ca4f82a5a666c42d298fce",
            "placeholder": "​",
            "style": "IPY_MODEL_5e2947f704b947cb82a552945c2c257d",
            "value": " 5000/5000 [01:32&lt;00:00, 41.91it/s]"
          }
        },
        "fec0c669742b4184a32fe8d40d8b0436": {
          "model_module": "@jupyter-widgets/base",
          "model_name": "LayoutModel",
          "model_module_version": "1.2.0",
          "state": {
            "_model_module": "@jupyter-widgets/base",
            "_model_module_version": "1.2.0",
            "_model_name": "LayoutModel",
            "_view_count": null,
            "_view_module": "@jupyter-widgets/base",
            "_view_module_version": "1.2.0",
            "_view_name": "LayoutView",
            "align_content": null,
            "align_items": null,
            "align_self": null,
            "border": null,
            "bottom": null,
            "display": null,
            "flex": null,
            "flex_flow": null,
            "grid_area": null,
            "grid_auto_columns": null,
            "grid_auto_flow": null,
            "grid_auto_rows": null,
            "grid_column": null,
            "grid_gap": null,
            "grid_row": null,
            "grid_template_areas": null,
            "grid_template_columns": null,
            "grid_template_rows": null,
            "height": null,
            "justify_content": null,
            "justify_items": null,
            "left": null,
            "margin": null,
            "max_height": null,
            "max_width": null,
            "min_height": null,
            "min_width": null,
            "object_fit": null,
            "object_position": null,
            "order": null,
            "overflow": null,
            "overflow_x": null,
            "overflow_y": null,
            "padding": null,
            "right": null,
            "top": null,
            "visibility": null,
            "width": null
          }
        },
        "8d9c96138a874afc801612c68582122b": {
          "model_module": "@jupyter-widgets/base",
          "model_name": "LayoutModel",
          "model_module_version": "1.2.0",
          "state": {
            "_model_module": "@jupyter-widgets/base",
            "_model_module_version": "1.2.0",
            "_model_name": "LayoutModel",
            "_view_count": null,
            "_view_module": "@jupyter-widgets/base",
            "_view_module_version": "1.2.0",
            "_view_name": "LayoutView",
            "align_content": null,
            "align_items": null,
            "align_self": null,
            "border": null,
            "bottom": null,
            "display": null,
            "flex": null,
            "flex_flow": null,
            "grid_area": null,
            "grid_auto_columns": null,
            "grid_auto_flow": null,
            "grid_auto_rows": null,
            "grid_column": null,
            "grid_gap": null,
            "grid_row": null,
            "grid_template_areas": null,
            "grid_template_columns": null,
            "grid_template_rows": null,
            "height": null,
            "justify_content": null,
            "justify_items": null,
            "left": null,
            "margin": null,
            "max_height": null,
            "max_width": null,
            "min_height": null,
            "min_width": null,
            "object_fit": null,
            "object_position": null,
            "order": null,
            "overflow": null,
            "overflow_x": null,
            "overflow_y": null,
            "padding": null,
            "right": null,
            "top": null,
            "visibility": null,
            "width": null
          }
        },
        "e106c0edfe6243b7ad04598250eaed22": {
          "model_module": "@jupyter-widgets/controls",
          "model_name": "DescriptionStyleModel",
          "model_module_version": "1.5.0",
          "state": {
            "_model_module": "@jupyter-widgets/controls",
            "_model_module_version": "1.5.0",
            "_model_name": "DescriptionStyleModel",
            "_view_count": null,
            "_view_module": "@jupyter-widgets/base",
            "_view_module_version": "1.2.0",
            "_view_name": "StyleView",
            "description_width": ""
          }
        },
        "319fe1da90584106a17c2e2e3a325c3a": {
          "model_module": "@jupyter-widgets/base",
          "model_name": "LayoutModel",
          "model_module_version": "1.2.0",
          "state": {
            "_model_module": "@jupyter-widgets/base",
            "_model_module_version": "1.2.0",
            "_model_name": "LayoutModel",
            "_view_count": null,
            "_view_module": "@jupyter-widgets/base",
            "_view_module_version": "1.2.0",
            "_view_name": "LayoutView",
            "align_content": null,
            "align_items": null,
            "align_self": null,
            "border": null,
            "bottom": null,
            "display": null,
            "flex": null,
            "flex_flow": null,
            "grid_area": null,
            "grid_auto_columns": null,
            "grid_auto_flow": null,
            "grid_auto_rows": null,
            "grid_column": null,
            "grid_gap": null,
            "grid_row": null,
            "grid_template_areas": null,
            "grid_template_columns": null,
            "grid_template_rows": null,
            "height": null,
            "justify_content": null,
            "justify_items": null,
            "left": null,
            "margin": null,
            "max_height": null,
            "max_width": null,
            "min_height": null,
            "min_width": null,
            "object_fit": null,
            "object_position": null,
            "order": null,
            "overflow": null,
            "overflow_x": null,
            "overflow_y": null,
            "padding": null,
            "right": null,
            "top": null,
            "visibility": null,
            "width": null
          }
        },
        "f58c1bef4aa64d929265a10eb2ea15c0": {
          "model_module": "@jupyter-widgets/controls",
          "model_name": "ProgressStyleModel",
          "model_module_version": "1.5.0",
          "state": {
            "_model_module": "@jupyter-widgets/controls",
            "_model_module_version": "1.5.0",
            "_model_name": "ProgressStyleModel",
            "_view_count": null,
            "_view_module": "@jupyter-widgets/base",
            "_view_module_version": "1.2.0",
            "_view_name": "StyleView",
            "bar_color": null,
            "description_width": ""
          }
        },
        "1d7fb07f26ca4f82a5a666c42d298fce": {
          "model_module": "@jupyter-widgets/base",
          "model_name": "LayoutModel",
          "model_module_version": "1.2.0",
          "state": {
            "_model_module": "@jupyter-widgets/base",
            "_model_module_version": "1.2.0",
            "_model_name": "LayoutModel",
            "_view_count": null,
            "_view_module": "@jupyter-widgets/base",
            "_view_module_version": "1.2.0",
            "_view_name": "LayoutView",
            "align_content": null,
            "align_items": null,
            "align_self": null,
            "border": null,
            "bottom": null,
            "display": null,
            "flex": null,
            "flex_flow": null,
            "grid_area": null,
            "grid_auto_columns": null,
            "grid_auto_flow": null,
            "grid_auto_rows": null,
            "grid_column": null,
            "grid_gap": null,
            "grid_row": null,
            "grid_template_areas": null,
            "grid_template_columns": null,
            "grid_template_rows": null,
            "height": null,
            "justify_content": null,
            "justify_items": null,
            "left": null,
            "margin": null,
            "max_height": null,
            "max_width": null,
            "min_height": null,
            "min_width": null,
            "object_fit": null,
            "object_position": null,
            "order": null,
            "overflow": null,
            "overflow_x": null,
            "overflow_y": null,
            "padding": null,
            "right": null,
            "top": null,
            "visibility": null,
            "width": null
          }
        },
        "5e2947f704b947cb82a552945c2c257d": {
          "model_module": "@jupyter-widgets/controls",
          "model_name": "DescriptionStyleModel",
          "model_module_version": "1.5.0",
          "state": {
            "_model_module": "@jupyter-widgets/controls",
            "_model_module_version": "1.5.0",
            "_model_name": "DescriptionStyleModel",
            "_view_count": null,
            "_view_module": "@jupyter-widgets/base",
            "_view_module_version": "1.2.0",
            "_view_name": "StyleView",
            "description_width": ""
          }
        },
        "091ef482d96546ada07f4be2e02226fe": {
          "model_module": "@jupyter-widgets/controls",
          "model_name": "HBoxModel",
          "model_module_version": "1.5.0",
          "state": {
            "_dom_classes": [],
            "_model_module": "@jupyter-widgets/controls",
            "_model_module_version": "1.5.0",
            "_model_name": "HBoxModel",
            "_view_count": null,
            "_view_module": "@jupyter-widgets/controls",
            "_view_module_version": "1.5.0",
            "_view_name": "HBoxView",
            "box_style": "",
            "children": [
              "IPY_MODEL_00a8b82e675c425baa37867e9e73feac",
              "IPY_MODEL_95e687c192b340b5bd738ddf050e3acf",
              "IPY_MODEL_4315c069eb7c437da43c0b7db0feabca"
            ],
            "layout": "IPY_MODEL_e2c62c963a654220b231978728b2f6ca"
          }
        },
        "00a8b82e675c425baa37867e9e73feac": {
          "model_module": "@jupyter-widgets/controls",
          "model_name": "HTMLModel",
          "model_module_version": "1.5.0",
          "state": {
            "_dom_classes": [],
            "_model_module": "@jupyter-widgets/controls",
            "_model_module_version": "1.5.0",
            "_model_name": "HTMLModel",
            "_view_count": null,
            "_view_module": "@jupyter-widgets/controls",
            "_view_module_version": "1.5.0",
            "_view_name": "HTMLView",
            "description": "",
            "description_tooltip": null,
            "layout": "IPY_MODEL_a46cf4951b8c48b6a9d48092cd05b2a1",
            "placeholder": "​",
            "style": "IPY_MODEL_b15f0b62751d4755a443412a638d2578",
            "value": "100%"
          }
        },
        "95e687c192b340b5bd738ddf050e3acf": {
          "model_module": "@jupyter-widgets/controls",
          "model_name": "FloatProgressModel",
          "model_module_version": "1.5.0",
          "state": {
            "_dom_classes": [],
            "_model_module": "@jupyter-widgets/controls",
            "_model_module_version": "1.5.0",
            "_model_name": "FloatProgressModel",
            "_view_count": null,
            "_view_module": "@jupyter-widgets/controls",
            "_view_module_version": "1.5.0",
            "_view_name": "ProgressView",
            "bar_style": "success",
            "description": "",
            "description_tooltip": null,
            "layout": "IPY_MODEL_5ba1f65e70b342a3a02b052eecbeee36",
            "max": 5000,
            "min": 0,
            "orientation": "horizontal",
            "style": "IPY_MODEL_4b8e162d377b49f4b4711b33089d20ab",
            "value": 5000
          }
        },
        "4315c069eb7c437da43c0b7db0feabca": {
          "model_module": "@jupyter-widgets/controls",
          "model_name": "HTMLModel",
          "model_module_version": "1.5.0",
          "state": {
            "_dom_classes": [],
            "_model_module": "@jupyter-widgets/controls",
            "_model_module_version": "1.5.0",
            "_model_name": "HTMLModel",
            "_view_count": null,
            "_view_module": "@jupyter-widgets/controls",
            "_view_module_version": "1.5.0",
            "_view_name": "HTMLView",
            "description": "",
            "description_tooltip": null,
            "layout": "IPY_MODEL_badb1af7e7fb4239b23152d7515235ca",
            "placeholder": "​",
            "style": "IPY_MODEL_ceadfcec80ff483d8e5dc845d73aff64",
            "value": " 5000/5000 [00:25&lt;00:00, 200.09it/s]"
          }
        },
        "e2c62c963a654220b231978728b2f6ca": {
          "model_module": "@jupyter-widgets/base",
          "model_name": "LayoutModel",
          "model_module_version": "1.2.0",
          "state": {
            "_model_module": "@jupyter-widgets/base",
            "_model_module_version": "1.2.0",
            "_model_name": "LayoutModel",
            "_view_count": null,
            "_view_module": "@jupyter-widgets/base",
            "_view_module_version": "1.2.0",
            "_view_name": "LayoutView",
            "align_content": null,
            "align_items": null,
            "align_self": null,
            "border": null,
            "bottom": null,
            "display": null,
            "flex": null,
            "flex_flow": null,
            "grid_area": null,
            "grid_auto_columns": null,
            "grid_auto_flow": null,
            "grid_auto_rows": null,
            "grid_column": null,
            "grid_gap": null,
            "grid_row": null,
            "grid_template_areas": null,
            "grid_template_columns": null,
            "grid_template_rows": null,
            "height": null,
            "justify_content": null,
            "justify_items": null,
            "left": null,
            "margin": null,
            "max_height": null,
            "max_width": null,
            "min_height": null,
            "min_width": null,
            "object_fit": null,
            "object_position": null,
            "order": null,
            "overflow": null,
            "overflow_x": null,
            "overflow_y": null,
            "padding": null,
            "right": null,
            "top": null,
            "visibility": null,
            "width": null
          }
        },
        "a46cf4951b8c48b6a9d48092cd05b2a1": {
          "model_module": "@jupyter-widgets/base",
          "model_name": "LayoutModel",
          "model_module_version": "1.2.0",
          "state": {
            "_model_module": "@jupyter-widgets/base",
            "_model_module_version": "1.2.0",
            "_model_name": "LayoutModel",
            "_view_count": null,
            "_view_module": "@jupyter-widgets/base",
            "_view_module_version": "1.2.0",
            "_view_name": "LayoutView",
            "align_content": null,
            "align_items": null,
            "align_self": null,
            "border": null,
            "bottom": null,
            "display": null,
            "flex": null,
            "flex_flow": null,
            "grid_area": null,
            "grid_auto_columns": null,
            "grid_auto_flow": null,
            "grid_auto_rows": null,
            "grid_column": null,
            "grid_gap": null,
            "grid_row": null,
            "grid_template_areas": null,
            "grid_template_columns": null,
            "grid_template_rows": null,
            "height": null,
            "justify_content": null,
            "justify_items": null,
            "left": null,
            "margin": null,
            "max_height": null,
            "max_width": null,
            "min_height": null,
            "min_width": null,
            "object_fit": null,
            "object_position": null,
            "order": null,
            "overflow": null,
            "overflow_x": null,
            "overflow_y": null,
            "padding": null,
            "right": null,
            "top": null,
            "visibility": null,
            "width": null
          }
        },
        "b15f0b62751d4755a443412a638d2578": {
          "model_module": "@jupyter-widgets/controls",
          "model_name": "DescriptionStyleModel",
          "model_module_version": "1.5.0",
          "state": {
            "_model_module": "@jupyter-widgets/controls",
            "_model_module_version": "1.5.0",
            "_model_name": "DescriptionStyleModel",
            "_view_count": null,
            "_view_module": "@jupyter-widgets/base",
            "_view_module_version": "1.2.0",
            "_view_name": "StyleView",
            "description_width": ""
          }
        },
        "5ba1f65e70b342a3a02b052eecbeee36": {
          "model_module": "@jupyter-widgets/base",
          "model_name": "LayoutModel",
          "model_module_version": "1.2.0",
          "state": {
            "_model_module": "@jupyter-widgets/base",
            "_model_module_version": "1.2.0",
            "_model_name": "LayoutModel",
            "_view_count": null,
            "_view_module": "@jupyter-widgets/base",
            "_view_module_version": "1.2.0",
            "_view_name": "LayoutView",
            "align_content": null,
            "align_items": null,
            "align_self": null,
            "border": null,
            "bottom": null,
            "display": null,
            "flex": null,
            "flex_flow": null,
            "grid_area": null,
            "grid_auto_columns": null,
            "grid_auto_flow": null,
            "grid_auto_rows": null,
            "grid_column": null,
            "grid_gap": null,
            "grid_row": null,
            "grid_template_areas": null,
            "grid_template_columns": null,
            "grid_template_rows": null,
            "height": null,
            "justify_content": null,
            "justify_items": null,
            "left": null,
            "margin": null,
            "max_height": null,
            "max_width": null,
            "min_height": null,
            "min_width": null,
            "object_fit": null,
            "object_position": null,
            "order": null,
            "overflow": null,
            "overflow_x": null,
            "overflow_y": null,
            "padding": null,
            "right": null,
            "top": null,
            "visibility": null,
            "width": null
          }
        },
        "4b8e162d377b49f4b4711b33089d20ab": {
          "model_module": "@jupyter-widgets/controls",
          "model_name": "ProgressStyleModel",
          "model_module_version": "1.5.0",
          "state": {
            "_model_module": "@jupyter-widgets/controls",
            "_model_module_version": "1.5.0",
            "_model_name": "ProgressStyleModel",
            "_view_count": null,
            "_view_module": "@jupyter-widgets/base",
            "_view_module_version": "1.2.0",
            "_view_name": "StyleView",
            "bar_color": null,
            "description_width": ""
          }
        },
        "badb1af7e7fb4239b23152d7515235ca": {
          "model_module": "@jupyter-widgets/base",
          "model_name": "LayoutModel",
          "model_module_version": "1.2.0",
          "state": {
            "_model_module": "@jupyter-widgets/base",
            "_model_module_version": "1.2.0",
            "_model_name": "LayoutModel",
            "_view_count": null,
            "_view_module": "@jupyter-widgets/base",
            "_view_module_version": "1.2.0",
            "_view_name": "LayoutView",
            "align_content": null,
            "align_items": null,
            "align_self": null,
            "border": null,
            "bottom": null,
            "display": null,
            "flex": null,
            "flex_flow": null,
            "grid_area": null,
            "grid_auto_columns": null,
            "grid_auto_flow": null,
            "grid_auto_rows": null,
            "grid_column": null,
            "grid_gap": null,
            "grid_row": null,
            "grid_template_areas": null,
            "grid_template_columns": null,
            "grid_template_rows": null,
            "height": null,
            "justify_content": null,
            "justify_items": null,
            "left": null,
            "margin": null,
            "max_height": null,
            "max_width": null,
            "min_height": null,
            "min_width": null,
            "object_fit": null,
            "object_position": null,
            "order": null,
            "overflow": null,
            "overflow_x": null,
            "overflow_y": null,
            "padding": null,
            "right": null,
            "top": null,
            "visibility": null,
            "width": null
          }
        },
        "ceadfcec80ff483d8e5dc845d73aff64": {
          "model_module": "@jupyter-widgets/controls",
          "model_name": "DescriptionStyleModel",
          "model_module_version": "1.5.0",
          "state": {
            "_model_module": "@jupyter-widgets/controls",
            "_model_module_version": "1.5.0",
            "_model_name": "DescriptionStyleModel",
            "_view_count": null,
            "_view_module": "@jupyter-widgets/base",
            "_view_module_version": "1.2.0",
            "_view_name": "StyleView",
            "description_width": ""
          }
        },
        "f7132a7ead36463cbabfdc9f58770e58": {
          "model_module": "@jupyter-widgets/controls",
          "model_name": "HBoxModel",
          "model_module_version": "1.5.0",
          "state": {
            "_dom_classes": [],
            "_model_module": "@jupyter-widgets/controls",
            "_model_module_version": "1.5.0",
            "_model_name": "HBoxModel",
            "_view_count": null,
            "_view_module": "@jupyter-widgets/controls",
            "_view_module_version": "1.5.0",
            "_view_name": "HBoxView",
            "box_style": "",
            "children": [
              "IPY_MODEL_cd9563656e59437fbbf8abbeadde3934",
              "IPY_MODEL_5524ddeba9584f698af31519bb5231a5",
              "IPY_MODEL_63cb7d31d5ae4760a1f7b553c283cf49"
            ],
            "layout": "IPY_MODEL_5c7c67b8bb1f41f5ad880f02cb00793f"
          }
        },
        "cd9563656e59437fbbf8abbeadde3934": {
          "model_module": "@jupyter-widgets/controls",
          "model_name": "HTMLModel",
          "model_module_version": "1.5.0",
          "state": {
            "_dom_classes": [],
            "_model_module": "@jupyter-widgets/controls",
            "_model_module_version": "1.5.0",
            "_model_name": "HTMLModel",
            "_view_count": null,
            "_view_module": "@jupyter-widgets/controls",
            "_view_module_version": "1.5.0",
            "_view_name": "HTMLView",
            "description": "",
            "description_tooltip": null,
            "layout": "IPY_MODEL_e1fe471fd979463c898a21ad6e2ce260",
            "placeholder": "​",
            "style": "IPY_MODEL_5e30d806be164c24a25f3e8a00b25832",
            "value": "100%"
          }
        },
        "5524ddeba9584f698af31519bb5231a5": {
          "model_module": "@jupyter-widgets/controls",
          "model_name": "FloatProgressModel",
          "model_module_version": "1.5.0",
          "state": {
            "_dom_classes": [],
            "_model_module": "@jupyter-widgets/controls",
            "_model_module_version": "1.5.0",
            "_model_name": "FloatProgressModel",
            "_view_count": null,
            "_view_module": "@jupyter-widgets/controls",
            "_view_module_version": "1.5.0",
            "_view_name": "ProgressView",
            "bar_style": "success",
            "description": "",
            "description_tooltip": null,
            "layout": "IPY_MODEL_7713bcbdb33d48629430013f4ca3f713",
            "max": 5000,
            "min": 0,
            "orientation": "horizontal",
            "style": "IPY_MODEL_a0d57a98cd6242b6b453f90e0cfd7066",
            "value": 5000
          }
        },
        "63cb7d31d5ae4760a1f7b553c283cf49": {
          "model_module": "@jupyter-widgets/controls",
          "model_name": "HTMLModel",
          "model_module_version": "1.5.0",
          "state": {
            "_dom_classes": [],
            "_model_module": "@jupyter-widgets/controls",
            "_model_module_version": "1.5.0",
            "_model_name": "HTMLModel",
            "_view_count": null,
            "_view_module": "@jupyter-widgets/controls",
            "_view_module_version": "1.5.0",
            "_view_name": "HTMLView",
            "description": "",
            "description_tooltip": null,
            "layout": "IPY_MODEL_b8a0d48bc5b142b9aac52211c81cff7c",
            "placeholder": "​",
            "style": "IPY_MODEL_973e61a511a141b6b07db5a374f30145",
            "value": " 5000/5000 [00:31&lt;00:00, 201.34it/s]"
          }
        },
        "5c7c67b8bb1f41f5ad880f02cb00793f": {
          "model_module": "@jupyter-widgets/base",
          "model_name": "LayoutModel",
          "model_module_version": "1.2.0",
          "state": {
            "_model_module": "@jupyter-widgets/base",
            "_model_module_version": "1.2.0",
            "_model_name": "LayoutModel",
            "_view_count": null,
            "_view_module": "@jupyter-widgets/base",
            "_view_module_version": "1.2.0",
            "_view_name": "LayoutView",
            "align_content": null,
            "align_items": null,
            "align_self": null,
            "border": null,
            "bottom": null,
            "display": null,
            "flex": null,
            "flex_flow": null,
            "grid_area": null,
            "grid_auto_columns": null,
            "grid_auto_flow": null,
            "grid_auto_rows": null,
            "grid_column": null,
            "grid_gap": null,
            "grid_row": null,
            "grid_template_areas": null,
            "grid_template_columns": null,
            "grid_template_rows": null,
            "height": null,
            "justify_content": null,
            "justify_items": null,
            "left": null,
            "margin": null,
            "max_height": null,
            "max_width": null,
            "min_height": null,
            "min_width": null,
            "object_fit": null,
            "object_position": null,
            "order": null,
            "overflow": null,
            "overflow_x": null,
            "overflow_y": null,
            "padding": null,
            "right": null,
            "top": null,
            "visibility": null,
            "width": null
          }
        },
        "e1fe471fd979463c898a21ad6e2ce260": {
          "model_module": "@jupyter-widgets/base",
          "model_name": "LayoutModel",
          "model_module_version": "1.2.0",
          "state": {
            "_model_module": "@jupyter-widgets/base",
            "_model_module_version": "1.2.0",
            "_model_name": "LayoutModel",
            "_view_count": null,
            "_view_module": "@jupyter-widgets/base",
            "_view_module_version": "1.2.0",
            "_view_name": "LayoutView",
            "align_content": null,
            "align_items": null,
            "align_self": null,
            "border": null,
            "bottom": null,
            "display": null,
            "flex": null,
            "flex_flow": null,
            "grid_area": null,
            "grid_auto_columns": null,
            "grid_auto_flow": null,
            "grid_auto_rows": null,
            "grid_column": null,
            "grid_gap": null,
            "grid_row": null,
            "grid_template_areas": null,
            "grid_template_columns": null,
            "grid_template_rows": null,
            "height": null,
            "justify_content": null,
            "justify_items": null,
            "left": null,
            "margin": null,
            "max_height": null,
            "max_width": null,
            "min_height": null,
            "min_width": null,
            "object_fit": null,
            "object_position": null,
            "order": null,
            "overflow": null,
            "overflow_x": null,
            "overflow_y": null,
            "padding": null,
            "right": null,
            "top": null,
            "visibility": null,
            "width": null
          }
        },
        "5e30d806be164c24a25f3e8a00b25832": {
          "model_module": "@jupyter-widgets/controls",
          "model_name": "DescriptionStyleModel",
          "model_module_version": "1.5.0",
          "state": {
            "_model_module": "@jupyter-widgets/controls",
            "_model_module_version": "1.5.0",
            "_model_name": "DescriptionStyleModel",
            "_view_count": null,
            "_view_module": "@jupyter-widgets/base",
            "_view_module_version": "1.2.0",
            "_view_name": "StyleView",
            "description_width": ""
          }
        },
        "7713bcbdb33d48629430013f4ca3f713": {
          "model_module": "@jupyter-widgets/base",
          "model_name": "LayoutModel",
          "model_module_version": "1.2.0",
          "state": {
            "_model_module": "@jupyter-widgets/base",
            "_model_module_version": "1.2.0",
            "_model_name": "LayoutModel",
            "_view_count": null,
            "_view_module": "@jupyter-widgets/base",
            "_view_module_version": "1.2.0",
            "_view_name": "LayoutView",
            "align_content": null,
            "align_items": null,
            "align_self": null,
            "border": null,
            "bottom": null,
            "display": null,
            "flex": null,
            "flex_flow": null,
            "grid_area": null,
            "grid_auto_columns": null,
            "grid_auto_flow": null,
            "grid_auto_rows": null,
            "grid_column": null,
            "grid_gap": null,
            "grid_row": null,
            "grid_template_areas": null,
            "grid_template_columns": null,
            "grid_template_rows": null,
            "height": null,
            "justify_content": null,
            "justify_items": null,
            "left": null,
            "margin": null,
            "max_height": null,
            "max_width": null,
            "min_height": null,
            "min_width": null,
            "object_fit": null,
            "object_position": null,
            "order": null,
            "overflow": null,
            "overflow_x": null,
            "overflow_y": null,
            "padding": null,
            "right": null,
            "top": null,
            "visibility": null,
            "width": null
          }
        },
        "a0d57a98cd6242b6b453f90e0cfd7066": {
          "model_module": "@jupyter-widgets/controls",
          "model_name": "ProgressStyleModel",
          "model_module_version": "1.5.0",
          "state": {
            "_model_module": "@jupyter-widgets/controls",
            "_model_module_version": "1.5.0",
            "_model_name": "ProgressStyleModel",
            "_view_count": null,
            "_view_module": "@jupyter-widgets/base",
            "_view_module_version": "1.2.0",
            "_view_name": "StyleView",
            "bar_color": null,
            "description_width": ""
          }
        },
        "b8a0d48bc5b142b9aac52211c81cff7c": {
          "model_module": "@jupyter-widgets/base",
          "model_name": "LayoutModel",
          "model_module_version": "1.2.0",
          "state": {
            "_model_module": "@jupyter-widgets/base",
            "_model_module_version": "1.2.0",
            "_model_name": "LayoutModel",
            "_view_count": null,
            "_view_module": "@jupyter-widgets/base",
            "_view_module_version": "1.2.0",
            "_view_name": "LayoutView",
            "align_content": null,
            "align_items": null,
            "align_self": null,
            "border": null,
            "bottom": null,
            "display": null,
            "flex": null,
            "flex_flow": null,
            "grid_area": null,
            "grid_auto_columns": null,
            "grid_auto_flow": null,
            "grid_auto_rows": null,
            "grid_column": null,
            "grid_gap": null,
            "grid_row": null,
            "grid_template_areas": null,
            "grid_template_columns": null,
            "grid_template_rows": null,
            "height": null,
            "justify_content": null,
            "justify_items": null,
            "left": null,
            "margin": null,
            "max_height": null,
            "max_width": null,
            "min_height": null,
            "min_width": null,
            "object_fit": null,
            "object_position": null,
            "order": null,
            "overflow": null,
            "overflow_x": null,
            "overflow_y": null,
            "padding": null,
            "right": null,
            "top": null,
            "visibility": null,
            "width": null
          }
        },
        "973e61a511a141b6b07db5a374f30145": {
          "model_module": "@jupyter-widgets/controls",
          "model_name": "DescriptionStyleModel",
          "model_module_version": "1.5.0",
          "state": {
            "_model_module": "@jupyter-widgets/controls",
            "_model_module_version": "1.5.0",
            "_model_name": "DescriptionStyleModel",
            "_view_count": null,
            "_view_module": "@jupyter-widgets/base",
            "_view_module_version": "1.2.0",
            "_view_name": "StyleView",
            "description_width": ""
          }
        },
        "7606eb07831145e7aa2bd39016a72a46": {
          "model_module": "@jupyter-widgets/controls",
          "model_name": "HBoxModel",
          "model_module_version": "1.5.0",
          "state": {
            "_dom_classes": [],
            "_model_module": "@jupyter-widgets/controls",
            "_model_module_version": "1.5.0",
            "_model_name": "HBoxModel",
            "_view_count": null,
            "_view_module": "@jupyter-widgets/controls",
            "_view_module_version": "1.5.0",
            "_view_name": "HBoxView",
            "box_style": "",
            "children": [
              "IPY_MODEL_0025c79bdeb0418e90d020b7c0c3d789",
              "IPY_MODEL_9b1d22e61a0949db96a6baefcae20862",
              "IPY_MODEL_ee75f4044c0a481883c6e122fcb6a6d8"
            ],
            "layout": "IPY_MODEL_30223a78e017412fa91f6061dd00eb70"
          }
        },
        "0025c79bdeb0418e90d020b7c0c3d789": {
          "model_module": "@jupyter-widgets/controls",
          "model_name": "HTMLModel",
          "model_module_version": "1.5.0",
          "state": {
            "_dom_classes": [],
            "_model_module": "@jupyter-widgets/controls",
            "_model_module_version": "1.5.0",
            "_model_name": "HTMLModel",
            "_view_count": null,
            "_view_module": "@jupyter-widgets/controls",
            "_view_module_version": "1.5.0",
            "_view_name": "HTMLView",
            "description": "",
            "description_tooltip": null,
            "layout": "IPY_MODEL_fc3cfc13eefe4ae490b86919b41cc9d5",
            "placeholder": "​",
            "style": "IPY_MODEL_e7fc3d64bc8e4828b24708a8749b8be0",
            "value": "100%"
          }
        },
        "9b1d22e61a0949db96a6baefcae20862": {
          "model_module": "@jupyter-widgets/controls",
          "model_name": "FloatProgressModel",
          "model_module_version": "1.5.0",
          "state": {
            "_dom_classes": [],
            "_model_module": "@jupyter-widgets/controls",
            "_model_module_version": "1.5.0",
            "_model_name": "FloatProgressModel",
            "_view_count": null,
            "_view_module": "@jupyter-widgets/controls",
            "_view_module_version": "1.5.0",
            "_view_name": "ProgressView",
            "bar_style": "success",
            "description": "",
            "description_tooltip": null,
            "layout": "IPY_MODEL_a4f4e7e784684d7abe61448094b44118",
            "max": 5000,
            "min": 0,
            "orientation": "horizontal",
            "style": "IPY_MODEL_302a9d068e7a4865bbb7f38cb0cdfa3c",
            "value": 5000
          }
        },
        "ee75f4044c0a481883c6e122fcb6a6d8": {
          "model_module": "@jupyter-widgets/controls",
          "model_name": "HTMLModel",
          "model_module_version": "1.5.0",
          "state": {
            "_dom_classes": [],
            "_model_module": "@jupyter-widgets/controls",
            "_model_module_version": "1.5.0",
            "_model_name": "HTMLModel",
            "_view_count": null,
            "_view_module": "@jupyter-widgets/controls",
            "_view_module_version": "1.5.0",
            "_view_name": "HTMLView",
            "description": "",
            "description_tooltip": null,
            "layout": "IPY_MODEL_f026f1e73a384675a8410ea2c3b36857",
            "placeholder": "​",
            "style": "IPY_MODEL_20b1f424a7784108bd0983f94218a629",
            "value": " 5000/5000 [00:28&lt;00:00, 193.08it/s]"
          }
        },
        "30223a78e017412fa91f6061dd00eb70": {
          "model_module": "@jupyter-widgets/base",
          "model_name": "LayoutModel",
          "model_module_version": "1.2.0",
          "state": {
            "_model_module": "@jupyter-widgets/base",
            "_model_module_version": "1.2.0",
            "_model_name": "LayoutModel",
            "_view_count": null,
            "_view_module": "@jupyter-widgets/base",
            "_view_module_version": "1.2.0",
            "_view_name": "LayoutView",
            "align_content": null,
            "align_items": null,
            "align_self": null,
            "border": null,
            "bottom": null,
            "display": null,
            "flex": null,
            "flex_flow": null,
            "grid_area": null,
            "grid_auto_columns": null,
            "grid_auto_flow": null,
            "grid_auto_rows": null,
            "grid_column": null,
            "grid_gap": null,
            "grid_row": null,
            "grid_template_areas": null,
            "grid_template_columns": null,
            "grid_template_rows": null,
            "height": null,
            "justify_content": null,
            "justify_items": null,
            "left": null,
            "margin": null,
            "max_height": null,
            "max_width": null,
            "min_height": null,
            "min_width": null,
            "object_fit": null,
            "object_position": null,
            "order": null,
            "overflow": null,
            "overflow_x": null,
            "overflow_y": null,
            "padding": null,
            "right": null,
            "top": null,
            "visibility": null,
            "width": null
          }
        },
        "fc3cfc13eefe4ae490b86919b41cc9d5": {
          "model_module": "@jupyter-widgets/base",
          "model_name": "LayoutModel",
          "model_module_version": "1.2.0",
          "state": {
            "_model_module": "@jupyter-widgets/base",
            "_model_module_version": "1.2.0",
            "_model_name": "LayoutModel",
            "_view_count": null,
            "_view_module": "@jupyter-widgets/base",
            "_view_module_version": "1.2.0",
            "_view_name": "LayoutView",
            "align_content": null,
            "align_items": null,
            "align_self": null,
            "border": null,
            "bottom": null,
            "display": null,
            "flex": null,
            "flex_flow": null,
            "grid_area": null,
            "grid_auto_columns": null,
            "grid_auto_flow": null,
            "grid_auto_rows": null,
            "grid_column": null,
            "grid_gap": null,
            "grid_row": null,
            "grid_template_areas": null,
            "grid_template_columns": null,
            "grid_template_rows": null,
            "height": null,
            "justify_content": null,
            "justify_items": null,
            "left": null,
            "margin": null,
            "max_height": null,
            "max_width": null,
            "min_height": null,
            "min_width": null,
            "object_fit": null,
            "object_position": null,
            "order": null,
            "overflow": null,
            "overflow_x": null,
            "overflow_y": null,
            "padding": null,
            "right": null,
            "top": null,
            "visibility": null,
            "width": null
          }
        },
        "e7fc3d64bc8e4828b24708a8749b8be0": {
          "model_module": "@jupyter-widgets/controls",
          "model_name": "DescriptionStyleModel",
          "model_module_version": "1.5.0",
          "state": {
            "_model_module": "@jupyter-widgets/controls",
            "_model_module_version": "1.5.0",
            "_model_name": "DescriptionStyleModel",
            "_view_count": null,
            "_view_module": "@jupyter-widgets/base",
            "_view_module_version": "1.2.0",
            "_view_name": "StyleView",
            "description_width": ""
          }
        },
        "a4f4e7e784684d7abe61448094b44118": {
          "model_module": "@jupyter-widgets/base",
          "model_name": "LayoutModel",
          "model_module_version": "1.2.0",
          "state": {
            "_model_module": "@jupyter-widgets/base",
            "_model_module_version": "1.2.0",
            "_model_name": "LayoutModel",
            "_view_count": null,
            "_view_module": "@jupyter-widgets/base",
            "_view_module_version": "1.2.0",
            "_view_name": "LayoutView",
            "align_content": null,
            "align_items": null,
            "align_self": null,
            "border": null,
            "bottom": null,
            "display": null,
            "flex": null,
            "flex_flow": null,
            "grid_area": null,
            "grid_auto_columns": null,
            "grid_auto_flow": null,
            "grid_auto_rows": null,
            "grid_column": null,
            "grid_gap": null,
            "grid_row": null,
            "grid_template_areas": null,
            "grid_template_columns": null,
            "grid_template_rows": null,
            "height": null,
            "justify_content": null,
            "justify_items": null,
            "left": null,
            "margin": null,
            "max_height": null,
            "max_width": null,
            "min_height": null,
            "min_width": null,
            "object_fit": null,
            "object_position": null,
            "order": null,
            "overflow": null,
            "overflow_x": null,
            "overflow_y": null,
            "padding": null,
            "right": null,
            "top": null,
            "visibility": null,
            "width": null
          }
        },
        "302a9d068e7a4865bbb7f38cb0cdfa3c": {
          "model_module": "@jupyter-widgets/controls",
          "model_name": "ProgressStyleModel",
          "model_module_version": "1.5.0",
          "state": {
            "_model_module": "@jupyter-widgets/controls",
            "_model_module_version": "1.5.0",
            "_model_name": "ProgressStyleModel",
            "_view_count": null,
            "_view_module": "@jupyter-widgets/base",
            "_view_module_version": "1.2.0",
            "_view_name": "StyleView",
            "bar_color": null,
            "description_width": ""
          }
        },
        "f026f1e73a384675a8410ea2c3b36857": {
          "model_module": "@jupyter-widgets/base",
          "model_name": "LayoutModel",
          "model_module_version": "1.2.0",
          "state": {
            "_model_module": "@jupyter-widgets/base",
            "_model_module_version": "1.2.0",
            "_model_name": "LayoutModel",
            "_view_count": null,
            "_view_module": "@jupyter-widgets/base",
            "_view_module_version": "1.2.0",
            "_view_name": "LayoutView",
            "align_content": null,
            "align_items": null,
            "align_self": null,
            "border": null,
            "bottom": null,
            "display": null,
            "flex": null,
            "flex_flow": null,
            "grid_area": null,
            "grid_auto_columns": null,
            "grid_auto_flow": null,
            "grid_auto_rows": null,
            "grid_column": null,
            "grid_gap": null,
            "grid_row": null,
            "grid_template_areas": null,
            "grid_template_columns": null,
            "grid_template_rows": null,
            "height": null,
            "justify_content": null,
            "justify_items": null,
            "left": null,
            "margin": null,
            "max_height": null,
            "max_width": null,
            "min_height": null,
            "min_width": null,
            "object_fit": null,
            "object_position": null,
            "order": null,
            "overflow": null,
            "overflow_x": null,
            "overflow_y": null,
            "padding": null,
            "right": null,
            "top": null,
            "visibility": null,
            "width": null
          }
        },
        "20b1f424a7784108bd0983f94218a629": {
          "model_module": "@jupyter-widgets/controls",
          "model_name": "DescriptionStyleModel",
          "model_module_version": "1.5.0",
          "state": {
            "_model_module": "@jupyter-widgets/controls",
            "_model_module_version": "1.5.0",
            "_model_name": "DescriptionStyleModel",
            "_view_count": null,
            "_view_module": "@jupyter-widgets/base",
            "_view_module_version": "1.2.0",
            "_view_name": "StyleView",
            "description_width": ""
          }
        }
      }
    }
  },
  "cells": [
    {
      "cell_type": "markdown",
      "metadata": {
        "id": "view-in-github",
        "colab_type": "text"
      },
      "source": [
        "<a href=\"https://colab.research.google.com/github/anubhavnehru/Introduction-to-Deep-Learning/blob/main/MIS_285_HW_1_mb_an_sk.ipynb\" target=\"_parent\"><img src=\"https://colab.research.google.com/assets/colab-badge.svg\" alt=\"Open In Colab\"/></a>"
      ]
    },
    {
      "cell_type": "markdown",
      "source": [
        "# MIS 285N: Homework 1\n",
        "\n",
        "## MILIND BHATIA (mb67324)\n",
        "## ANUBHAV NEHRU (an33868)\n",
        "## SIMRAN KAUR (sk57859)\n",
        "\n",
        "Notebook Link - https://colab.research.google.com/drive/1Eo-jZN9w9fVwsPC5MO8cTJZ9z7Rl_K4E?usp=sharing\n",
        "\n",
        "Submit:\n",
        "\n",
        "A pdf of your notebook with solutions.\n",
        "A link to your colab notebook or also upload your .ipynb if not working on colab.\n",
        "\n",
        "# Goals of this Lab\n",
        "\n",
        "**Fully Connected Models and XOR**\n",
        "\n",
        "\n",
        "1. How to create data objects that pytorch can use\n",
        "2. How to create a dataloader\n",
        "3. How to define a basic fully connected single layer model\n",
        "4. How to define a multi-layer fully connected model\n",
        "5. How to add non-linear activation functions.\n",
        "6. How to add layers in two different ways\n",
        "\n",
        "We also see the importance of nonlinear activation functions directly, by experimenting with the simple 4-data-point XOR example that we saw in class.\n"
      ],
      "metadata": {
        "id": "vMQXDZXXN8q2"
      }
    },
    {
      "cell_type": "code",
      "execution_count": null,
      "metadata": {
        "id": "T6k-hagH8H0l"
      },
      "outputs": [],
      "source": [
        "import torch\n",
        "import numpy as np\n",
        "import time\n",
        "from tqdm.notebook import tqdm"
      ]
    },
    {
      "cell_type": "markdown",
      "source": [
        "# First we define a linear regressor.\n",
        "This is the same as a fully connected layer. It will be a building block in making deeper neural networks with fully connected layers."
      ],
      "metadata": {
        "id": "-LLf1qGBkNx4"
      }
    },
    {
      "cell_type": "code",
      "source": [
        "# We define our first class: LinearRegressor\n",
        "#\n",
        "class LinearRegressor(torch.nn.Module):\n",
        "    def __init__(self, input_dim, output_dim):\n",
        "        \"\"\"\n",
        "        Define the layer(s) needed for the linear model.\n",
        "        \"\"\"\n",
        "        super().__init__()\n",
        "        self.linear = torch.nn.Linear(input_dim, output_dim, bias = True) # just linear\n",
        "\n",
        "    def forward(self, x):\n",
        "        \"\"\"\n",
        "        Calculate the regression score (MSE).\n",
        "\n",
        "        Input:\n",
        "            x (float tensor N x d): input rows\n",
        "        Output:\n",
        "            y (float tensor N x 1): regression output\n",
        "        \"\"\"\n",
        "        x = self.linear(x)\n",
        "        return torch.flatten(x)\n",
        "\n",
        "\n",
        "    # defining a separate predict function is useful for multi-class\n",
        "    # classification as we will see later. Here it is\n",
        "    # unnecessary.\n",
        "\n",
        "    def predict(self, x):\n",
        "        \"\"\"\n",
        "        Predict the regression label of the input vector.\n",
        "\n",
        "        Input:\n",
        "            x (float tensor N X d): input images\n",
        "        Output:\n",
        "            y (float tensor N x 1): regression output\n",
        "        \"\"\"\n",
        "        x = self.linear(x)\n",
        "        return torch.flatten(x)\n",
        "\n",
        "\n"
      ],
      "metadata": {
        "id": "5ikI4E7WXrCQ"
      },
      "execution_count": null,
      "outputs": []
    },
    {
      "cell_type": "markdown",
      "source": [
        "## Problem 1:\n",
        "\n",
        "Now you will use torch.nn.Sequential (see https://pytorch.org/docs/stable/generated/torch.nn.Sequential.html) to construct a two layer neural network, with two fully connected layers (no non-linearity yet). Thus, you will combine torch.nn.Sequential with torch.nn.Linear that you saw above.\n",
        "\n",
        "\n",
        "Design your network so that the first layer has as many neurons as the input.\n",
        "\n",
        "Note: you have only one line to fill in here."
      ],
      "metadata": {
        "id": "36zhuTCUkZXT"
      }
    },
    {
      "cell_type": "code",
      "source": [
        "class TwoLayerLinearRegressor(torch.nn.Module):\n",
        "    def __init__(self, input_dim, output_dim):\n",
        "        \"\"\"\n",
        "        Define a model that stacks two linear fully connected layers.\n",
        "        \"\"\"\n",
        "        super().__init__()\n",
        "        self.TLL = torch.nn.Sequential(\n",
        "            torch.nn.Linear(input_dim, input_dim, bias = True),\n",
        "            torch.nn.Linear(input_dim, output_dim, bias = True)\n",
        "        ) # TO DO: complete this equality, using torch.nn.Sequential\n",
        "\n",
        "    def forward(self, x):\n",
        "        \"\"\"\n",
        "        Calculate the regression score (MSE).\n",
        "\n",
        "        Input:\n",
        "            x (float tensor N x d): input rows\n",
        "        Output:\n",
        "            y (float tensor N x 1): regression output\n",
        "        \"\"\"\n",
        "        x = self.TLL(x)\n",
        "        return torch.flatten(x)\n",
        "\n",
        "    def predict(self, x):\n",
        "        \"\"\"\n",
        "        Predict the regression label of the input vector.\n",
        "\n",
        "        Input:\n",
        "            x (float tensor N X d): input images\n",
        "        Output:\n",
        "            y (float tensor N x 1): regression output\n",
        "        \"\"\"\n",
        "        x = self.TLL(x)\n",
        "        return torch.flatten(x)\n",
        "\n"
      ],
      "metadata": {
        "id": "0LpZdyIOjlr4"
      },
      "execution_count": null,
      "outputs": []
    },
    {
      "cell_type": "markdown",
      "source": [
        "## Problem 2\n",
        "\n",
        "Now you will create the same network, but using different syntax: you will not use torch.nn.Sequential. You need to fill in the two lines as noted by the comments."
      ],
      "metadata": {
        "id": "A9JRe7K3lQx7"
      }
    },
    {
      "cell_type": "code",
      "source": [
        "class TwoLayerLinearRegressor2(torch.nn.Module):\n",
        "    def __init__(self, input_dim, output_dim):\n",
        "        \"\"\"\n",
        "        Define a model that stacks two linear fully connected layers.\n",
        "        \"\"\"\n",
        "        super().__init__()\n",
        "        self.fc1 = torch.nn.Linear(input_dim, input_dim, bias = True)\n",
        "        self.fc2 = torch.nn.Linear(input_dim, output_dim, bias = True)\n",
        "\n",
        "    def forward(self, x):\n",
        "        \"\"\"\n",
        "        Calculate the regression score (MSE).\n",
        "\n",
        "        Input:\n",
        "            x (float tensor N x d): input rows\n",
        "        Output:\n",
        "            y (float tensor N x 1): regression output\n",
        "        \"\"\"\n",
        "\n",
        "        x = self.fc1(x)\n",
        "        x = self.fc2(x)\n",
        "        return torch.flatten(x)\n",
        "\n",
        "    def predict(self, x):\n",
        "        \"\"\"\n",
        "        Predict the regression label of the input vector.\n",
        "\n",
        "        Input:\n",
        "            x (float tensor N X d): input images\n",
        "        Output:\n",
        "            y (float tensor N x 1): regression output\n",
        "        \"\"\"\n",
        "        x = self.fc1(x)\n",
        "        x = self.fc2(x)\n",
        "        return torch.flatten(x)\n"
      ],
      "metadata": {
        "id": "vZSpFBJdj-Da"
      },
      "execution_count": null,
      "outputs": []
    },
    {
      "cell_type": "markdown",
      "source": [
        "## Problem 3\n",
        "\n",
        "Now you will define a 2 layer neural network with ReLU activation at the first layer. In other words:\n",
        "\n",
        "Let $x$ be the input.\n",
        "Then writing $z = Wx + c$, $h=$ReLU$(z)$ is the first layer's neurons. Then the output is $y = w\\cdot z+d$.\n",
        "\n",
        "Create this neural network using the torch.nn.Sequential command. Conceptually, it may help to realize that this neural network is: a fully connected layer followed by a ReLU, followed by a fully connected layer.\n",
        "\n",
        "Also see: https://pytorch.org/docs/stable/generated/torch.nn.ReLU.html\n",
        "\n",
        "Note: You have only one line to fill in here."
      ],
      "metadata": {
        "id": "pTKDb01ilnks"
      }
    },
    {
      "cell_type": "code",
      "source": [
        "class TwoLayerNonLinearRegressor(torch.nn.Module):\n",
        "    def __init__(self, input_dim, output_dim):\n",
        "        \"\"\"\n",
        "        Define a model that has a linear layer, a ReLU layer and another linear layer.\n",
        "        \"\"\"\n",
        "        super().__init__()\n",
        "        self.linear = torch.nn.Sequential(\n",
        "            torch.nn.Linear(input_dim,input_dim),\n",
        "            torch.nn.ReLU(),\n",
        "            torch.nn.Linear(input_dim,output_dim)\n",
        "        )\n",
        "\n",
        "    def forward(self, x):\n",
        "        \"\"\"\n",
        "        Calculate the regression score (MSE).\n",
        "\n",
        "        Input:\n",
        "            x (float tensor N x d): input rows\n",
        "        Output:\n",
        "            y (float tensor N x 1): regression output\n",
        "        \"\"\"\n",
        "        x = self.linear(x)\n",
        "        return torch.flatten(x)\n",
        "\n",
        "    def predict(self, x):\n",
        "        \"\"\"\n",
        "        Predict the regression label of the input vector.\n",
        "\n",
        "        Input:\n",
        "            x (float tensor N X d): input images\n",
        "        Output:\n",
        "            y (float tensor N x 1): regression output\n",
        "        \"\"\"\n",
        "        x = self.linear(x)\n",
        "        return torch.flatten(x)\n",
        "\n"
      ],
      "metadata": {
        "id": "031WUqCajrJ_"
      },
      "execution_count": null,
      "outputs": []
    },
    {
      "cell_type": "markdown",
      "source": [
        "## Problem 4\n",
        "\n",
        "Do this one more time, but now without torch.nn.Sequential.\n",
        "\n",
        "You have three lines to fill in here."
      ],
      "metadata": {
        "id": "ApkXVRwfmaXj"
      }
    },
    {
      "cell_type": "code",
      "source": [
        "# We now do this again, without using nn.sequential\n",
        "# in order to illustrate different syntax.\n",
        "\n",
        "class TwoLayerNonLinearRegressor2(torch.nn.Module):\n",
        "    def __init__(self, input_dim, output_dim):\n",
        "        \"\"\"\n",
        "        Define a model that has a linear layer, a ReLU layer and another linear layer.\n",
        "        \"\"\"\n",
        "        super().__init__()\n",
        "        self.fc1 = torch.nn.Linear(input_dim,input_dim)\n",
        "        self.relu = torch.nn.ReLU()\n",
        "        self.fc2 = torch.nn.Linear(input_dim,output_dim)\n",
        "\n",
        "    def forward(self, x):\n",
        "        \"\"\"\n",
        "        Calculate the regression score (MSE).\n",
        "\n",
        "        Input:\n",
        "            x (float tensor N x d): input rows\n",
        "        Output:\n",
        "            y (float tensor N x 1): regression output\n",
        "        \"\"\"\n",
        "\n",
        "        x = self.fc1(x)\n",
        "        x = self.relu(x)\n",
        "        x = self.fc2(x)\n",
        "        return torch.flatten(x)\n",
        "\n",
        "    def predict(self, x):\n",
        "        \"\"\"\n",
        "        Predict the regression label of the input vector.\n",
        "\n",
        "        Input:\n",
        "            x (float tensor N X d): input images\n",
        "        Output:\n",
        "            y (float tensor N x 1): regression output\n",
        "        \"\"\"\n",
        "        x = self.fc1(x)\n",
        "        x = self.relu(x)\n",
        "        x = self.fc2(x)\n",
        "        return torch.flatten(x)"
      ],
      "metadata": {
        "id": "W7CrOFr8jtdp"
      },
      "execution_count": null,
      "outputs": []
    },
    {
      "cell_type": "markdown",
      "source": [
        "## Problem 5 (Nothing to turn in)\n",
        "\n",
        "Read the documentation https://pytorch.org/docs/stable/optim.html to see what are the options pytorch provides for an optimizer, and what the parameters are."
      ],
      "metadata": {
        "id": "7-7v8qRLmk3b"
      }
    },
    {
      "cell_type": "code",
      "source": [
        "# Now we define a function for training\n",
        "# Note each of the arguments that it takes\n",
        "\n",
        "def train(model, data_train, data_val, device, lr=0.01, epochs=5000):\n",
        "    \"\"\"\n",
        "    Train the model.\n",
        "\n",
        "    Input:\n",
        "      model (torch.nn.Module): the model to train\n",
        "      data_train (torch.utils.data.Dataloader): yields batches of data\n",
        "      data_val (torch.utils.data.Dataloader): use this to validate your model\n",
        "      device (torch.device): which device to use to perform computation\n",
        "\n",
        "      (optional) lr: learning rate hyperparameter\n",
        "      (optional) epochs: number of passes over dataloader\n",
        "    \"\"\"\n",
        "\n",
        "    # Setup the loss function to use: mean squared error\n",
        "    loss_function = torch.nn.MSELoss(reduction = 'sum')\n",
        "\n",
        "    # Setup the optimizer -- just generic ADAM\n",
        "    optimizer = torch.optim.Adam(model.parameters(), lr=lr)\n",
        "\n",
        "    # Wrap in a progress bar.\n",
        "    for epoch in tqdm(range(epochs)):\n",
        "        # Set the model to training mode.\n",
        "        model.train()\n",
        "\n",
        "        for x, y in data_train:\n",
        "            x = x.to(device)\n",
        "            y = y.to(device)\n",
        "\n",
        "            # Forward pass through the network\n",
        "            output = model(x)\n",
        "\n",
        "            # Compute loss\n",
        "            loss = loss_function(output, y)\n",
        "\n",
        "            # update model weights.\n",
        "            optimizer.zero_grad()\n",
        "            loss.backward()\n",
        "            optimizer.step()\n",
        "\n",
        "        # Set the model to eval mode and compute accuracy.\n",
        "        model.eval()\n",
        "\n",
        "        accuracys_val = list()\n",
        "\n",
        "        for x, y in data_val:\n",
        "            x = x.to(device)\n",
        "            y = y.to(device)\n",
        "\n",
        "            y_pred = model.predict(x)"
      ],
      "metadata": {
        "id": "-gYODAFizPe-"
      },
      "execution_count": null,
      "outputs": []
    },
    {
      "cell_type": "code",
      "source": [
        "# We write a function that takes a model, evaluate on the validation\n",
        "# data set and returns the predictions\n",
        "\n",
        "def evaluate_model(model,data_val,device):\n",
        "  model.eval()\n",
        "  output_vals = list()\n",
        "  accuracys_val = list()\n",
        "  for x, y in data_val:\n",
        "            x = x.to(device)\n",
        "            y = y.to(device)\n",
        "\n",
        "            y_pred = model.predict(x)\n",
        "            output_vals.append(y_pred)\n",
        "            # accuracy_val = (y_pred == y).float().mean().item()\n",
        "            # accuracys_val.append(accuracy_val)\n",
        "\n",
        "  # accuracy = torch.FloatTensor(accuracys_val).mean().item()\n",
        "  return output_vals"
      ],
      "metadata": {
        "id": "FObDOykPz16p"
      },
      "execution_count": null,
      "outputs": []
    },
    {
      "cell_type": "markdown",
      "source": [
        "## Problem 6 (Nothing to turn in)\n",
        "\n",
        "Read the documentation and try to understand what a dataloader is. You can start here https://pytorch.org/docs/stable/data.html but there are many tutorials out there as well."
      ],
      "metadata": {
        "id": "JtZYmSP5m7rT"
      }
    },
    {
      "cell_type": "code",
      "source": [
        "# Creating the data: Linear Regression on Linear Data\n",
        "from torch.utils.data import TensorDataset, DataLoader\n",
        "N = 15\n",
        "X = np.random.randn(N,3)\n",
        "beta = np.array([1,-1,2])\n",
        "Y = np.dot(X,beta)\n",
        "tensor_x = torch.Tensor(X) # transform to torch tensor\n",
        "tensor_y = torch.Tensor(Y)\n",
        "print('These are the labels:\\n',Y)\n",
        "print('These are the features:\\n',X)\n",
        "\n",
        "m = 1 # Batch size\n",
        "data = TensorDataset(tensor_x,tensor_y) # create your datset\n",
        "data_train = DataLoader(data,batch_size = m, shuffle = True) # create your dataloader with training data\n",
        "data_val = DataLoader(data) # create your dataloader with validation data, here same as training"
      ],
      "metadata": {
        "id": "qtVUvfryzIJC",
        "colab": {
          "base_uri": "https://localhost:8080/"
        },
        "outputId": "65ed793c-284c-43fd-9732-ad7df157ca7b"
      },
      "execution_count": null,
      "outputs": [
        {
          "output_type": "stream",
          "name": "stdout",
          "text": [
            "These are the labels:\n",
            " [ 2.94451539 -6.01519953  1.86325675 -3.50054881  4.73611888  1.81922633\n",
            " -3.0807429   0.78386675 -2.14018128  0.62410988 -0.00616214  4.14772477\n",
            " -0.39741991 -0.12186736 -2.07648857]\n",
            "These are the features:\n",
            " [[ 1.23626088  0.90309427  1.30567439]\n",
            " [-1.4939367   1.11104876 -1.70510704]\n",
            " [-0.55963983 -0.71322217  0.8548372 ]\n",
            " [-2.94231823 -0.37759722 -0.4679139 ]\n",
            " [-0.47015706  0.06098962  2.63363278]\n",
            " [ 0.4912426   0.11128615  0.71963494]\n",
            " [-1.88036003 -0.8554229  -1.02790288]\n",
            " [ 1.18258821  0.63165285  0.1164657 ]\n",
            " [-1.44849599  0.56370274 -0.06399127]\n",
            " [ 0.54301413 -1.87544609 -0.89717517]\n",
            " [-1.07138504  1.70313117  1.38417703]\n",
            " [ 1.11067033  0.96408514  2.00056979]\n",
            " [-0.35340182 -1.13834485 -0.59118147]\n",
            " [-0.46149269  0.83876366  0.5891945 ]\n",
            " [ 0.32807821  0.48753635 -0.95851522]]\n"
          ]
        }
      ]
    },
    {
      "cell_type": "markdown",
      "source": [
        "## Now we train and evaluate the linear model."
      ],
      "metadata": {
        "id": "aFTIV3OcnKS8"
      }
    },
    {
      "cell_type": "code",
      "source": [
        "# Define the model we wish to use, and train it.\n",
        "device = torch.device('cuda' if torch.cuda.is_available() else 'cpu')\n",
        "\n",
        "model = LinearRegressor(3, 1)\n",
        "model.to(device)\n",
        "\n",
        "train(model, data_train, data_val, device)"
      ],
      "metadata": {
        "id": "BdXFWEN41NBt",
        "colab": {
          "base_uri": "https://localhost:8080/",
          "height": 49,
          "referenced_widgets": [
            "0c6f42f2808246f0a062e0d235dbf98c",
            "6fc3ae8b26cd41f2bd8a531ffb4d084b",
            "402c68c469d34d1ba8a3a6a628cd61a9",
            "5b4eaae57de64066ac95bcce86e5d5b9",
            "7c003a1b700f41db9d14106a726ce2a2",
            "fc8070a2b5c5443884909a104368e0c3",
            "06278ec2960d4c7999bf2cb37108b4a5",
            "6605fefc29bd4a06a230a5a4c58d4aee",
            "de5e43088c514a3e88db62a4551276a6",
            "6bbb883309364bb080954ef6a156229a",
            "2f5aed40ce8143418698e12415e1eddd"
          ]
        },
        "outputId": "d7a6b62d-a22b-4d12-f0e5-e28c053285ab"
      },
      "execution_count": null,
      "outputs": [
        {
          "output_type": "display_data",
          "data": {
            "text/plain": [
              "  0%|          | 0/5000 [00:00<?, ?it/s]"
            ],
            "application/vnd.jupyter.widget-view+json": {
              "version_major": 2,
              "version_minor": 0,
              "model_id": "0c6f42f2808246f0a062e0d235dbf98c"
            }
          },
          "metadata": {}
        }
      ]
    },
    {
      "cell_type": "markdown",
      "source": [
        "## Here is some code for getting the parameters of the model."
      ],
      "metadata": {
        "id": "sw--ClBtnYHV"
      }
    },
    {
      "cell_type": "code",
      "source": [
        "# Now let's get the model parameters.\n",
        "# We can see that we have succeeded in learning beta: [1,-1,2]\n",
        "for name, param in model.named_parameters():\n",
        "  print (name, param.data)\n",
        "\n",
        "# If we wanted to, we could also only print the ones that we update (may be useful for more complex models)\n",
        "\"\"\"\n",
        "for name, param in model.named_parameters():\n",
        "    if param.requires_grad:\n",
        "        print (name, param.data)\n",
        "\"\"\""
      ],
      "metadata": {
        "id": "5hfTNlIjTNCV",
        "colab": {
          "base_uri": "https://localhost:8080/",
          "height": 71
        },
        "outputId": "5a8cad0f-2ab8-41df-f24f-1b26bf0a76a3"
      },
      "execution_count": null,
      "outputs": [
        {
          "output_type": "stream",
          "name": "stdout",
          "text": [
            "linear.weight tensor([[ 1.0035, -0.9996,  2.0000]])\n",
            "linear.bias tensor([-3.1372e-05])\n"
          ]
        },
        {
          "output_type": "execute_result",
          "data": {
            "text/plain": [
              "'\\nfor name, param in model.named_parameters():\\n    if param.requires_grad:\\n        print (name, param.data)\\n'"
            ],
            "application/vnd.google.colaboratory.intrinsic+json": {
              "type": "string"
            }
          },
          "metadata": {},
          "execution_count": 11
        }
      ]
    },
    {
      "cell_type": "code",
      "source": [
        "# Now let's move to our second model: the two layer linear regressor.\n",
        "# We again define the model using the class we created.\n",
        "# Then we train the model, as above.\n",
        "\n",
        "device = torch.device('cuda' if torch.cuda.is_available() else 'cpu')\n",
        "\n",
        "model2 = TwoLayerLinearRegressor(3, 1)\n",
        "model2.to(device)\n",
        "\n",
        "train(model2, data_train, data_val, device)"
      ],
      "metadata": {
        "id": "DwrvHtgIFbfl",
        "colab": {
          "base_uri": "https://localhost:8080/",
          "height": 49,
          "referenced_widgets": [
            "21e9db161f4340b4817fc69dac1e78a3",
            "25435d855585401e95bf4f17a2120a7a",
            "ce2ed6fb48234b6f9dece798c8e8e827",
            "542d4bca951c428fa4f2dcde199deff8",
            "fec0c669742b4184a32fe8d40d8b0436",
            "8d9c96138a874afc801612c68582122b",
            "e106c0edfe6243b7ad04598250eaed22",
            "319fe1da90584106a17c2e2e3a325c3a",
            "f58c1bef4aa64d929265a10eb2ea15c0",
            "1d7fb07f26ca4f82a5a666c42d298fce",
            "5e2947f704b947cb82a552945c2c257d"
          ]
        },
        "outputId": "ed353a15-3693-4056-e98c-e0a384249677"
      },
      "execution_count": null,
      "outputs": [
        {
          "output_type": "display_data",
          "data": {
            "text/plain": [
              "  0%|          | 0/5000 [00:00<?, ?it/s]"
            ],
            "application/vnd.jupyter.widget-view+json": {
              "version_major": 2,
              "version_minor": 0,
              "model_id": "21e9db161f4340b4817fc69dac1e78a3"
            }
          },
          "metadata": {}
        }
      ]
    },
    {
      "cell_type": "code",
      "source": [
        "# Let's see how well this model agrees with the training data\n",
        "output_values = evaluate_model(model2,data_val,device)\n",
        "print('Ground Truth:\\n',Y)\n",
        "print('Model Output:\\n',output_values)"
      ],
      "metadata": {
        "id": "priZSqzc1wrW",
        "colab": {
          "base_uri": "https://localhost:8080/"
        },
        "outputId": "c1495a1b-a88d-41b2-d1fb-2df4dc42577a"
      },
      "execution_count": null,
      "outputs": [
        {
          "output_type": "stream",
          "name": "stdout",
          "text": [
            "Ground Truth:\n",
            " [ 2.94451539 -6.01519953  1.86325675 -3.50054881  4.73611888  1.81922633\n",
            " -3.0807429   0.78386675 -2.14018128  0.62410988 -0.00616214  4.14772477\n",
            " -0.39741991 -0.12186736 -2.07648857]\n",
            "Model Output:\n",
            " [tensor([2.9449], grad_fn=<ViewBackward0>), tensor([-6.0153], grad_fn=<ViewBackward0>), tensor([1.8633], grad_fn=<ViewBackward0>), tensor([-3.5009], grad_fn=<ViewBackward0>), tensor([4.7363], grad_fn=<ViewBackward0>), tensor([1.8194], grad_fn=<ViewBackward0>), tensor([-3.0810], grad_fn=<ViewBackward0>), tensor([0.7841], grad_fn=<ViewBackward0>), tensor([-2.1402], grad_fn=<ViewBackward0>), tensor([0.6240], grad_fn=<ViewBackward0>), tensor([-0.0060], grad_fn=<ViewBackward0>), tensor([4.1481], grad_fn=<ViewBackward0>), tensor([-0.3975], grad_fn=<ViewBackward0>), tensor([-0.1218], grad_fn=<ViewBackward0>), tensor([-2.0764], grad_fn=<ViewBackward0>)]\n"
          ]
        }
      ]
    },
    {
      "cell_type": "markdown",
      "source": [
        "# The XOR Data Set\n",
        "We see that linear layers do not suffice."
      ],
      "metadata": {
        "id": "d-oOdWV8C8Nu"
      }
    },
    {
      "cell_type": "code",
      "source": [
        "\"\"\"\n",
        "Here we create the simple XOR data set an a numpy array.\n",
        "Then we make X and Y into tensor objects that torch uses,\n",
        "and we package it into a Dataset object called data.\n",
        "Then we create a DataLoader.\n",
        "\"\"\"\n",
        "\n",
        "Xxor = np.array([[0,0],[0,1],[1,0],[1,1]])\n",
        "Yxor = np.array([0,1,1,0])\n",
        "tensor_xxor = torch.Tensor(Xxor) # transform to torch tensor\n",
        "tensor_yxor = torch.Tensor(Yxor)\n",
        "print('These are the labels:\\n',Yxor)\n",
        "print('These are the features:\\n',Xxor)\n",
        "\n",
        "dataxor = TensorDataset(tensor_xxor,tensor_yxor) # create your datset\n",
        "dataxor_train = DataLoader(dataxor) # create your dataloader with training data\n",
        "dataxor_val = DataLoader(dataxor) # create your dataloader with validation data, here same as training"
      ],
      "metadata": {
        "id": "8Qk0d0DUzt1d",
        "colab": {
          "base_uri": "https://localhost:8080/"
        },
        "outputId": "28512f3f-138a-4f8f-8a07-f8f9e6fdb8bd"
      },
      "execution_count": null,
      "outputs": [
        {
          "output_type": "stream",
          "name": "stdout",
          "text": [
            "These are the labels:\n",
            " [0 1 1 0]\n",
            "These are the features:\n",
            " [[0 0]\n",
            " [0 1]\n",
            " [1 0]\n",
            " [1 1]]\n"
          ]
        }
      ]
    },
    {
      "cell_type": "markdown",
      "source": [
        "## Problem 7\n",
        "\n",
        "Train your linear regressor on these data. Now see how well you do, by evaluating your solution on the training data. Remember the values we got in class.\n",
        "\n",
        "Your output here should be predicted values for each of the 4 points in our XOR data set."
      ],
      "metadata": {
        "id": "CZngJgatnmr2"
      }
    },
    {
      "cell_type": "code",
      "source": [
        "# Now we train a linear classifier on these data.\n",
        "# We know (and can verify) that this will fail because no linear classifier can succeed\n",
        "\n",
        "device = torch.device('cuda' if torch.cuda.is_available() else 'cpu')\n",
        "\n",
        "model3 = TwoLayerLinearRegressor(2,1) # TO DO\n",
        "model3.to(device)\n",
        "\n",
        "train(model3, dataxor_train, dataxor_val, device) # TO DO -- give a command to train your model\n",
        "output_values3 = evaluate_model(model3,dataxor_val,device) # TO DO -- give a command to evaluate your model\n",
        "print('Ground Truth:\\n',Yxor) # TO DO -- print the ground truth, and then also print what your model predicts for the 4 points in the training set.\n",
        "print('Model Output:\\n',output_values3)"
      ],
      "metadata": {
        "id": "8KJ5-QW8-q1I",
        "colab": {
          "base_uri": "https://localhost:8080/",
          "height": 140,
          "referenced_widgets": [
            "091ef482d96546ada07f4be2e02226fe",
            "00a8b82e675c425baa37867e9e73feac",
            "95e687c192b340b5bd738ddf050e3acf",
            "4315c069eb7c437da43c0b7db0feabca",
            "e2c62c963a654220b231978728b2f6ca",
            "a46cf4951b8c48b6a9d48092cd05b2a1",
            "b15f0b62751d4755a443412a638d2578",
            "5ba1f65e70b342a3a02b052eecbeee36",
            "4b8e162d377b49f4b4711b33089d20ab",
            "badb1af7e7fb4239b23152d7515235ca",
            "ceadfcec80ff483d8e5dc845d73aff64"
          ]
        },
        "outputId": "5678cd7e-0a93-4dd4-edd4-96b7872f0703"
      },
      "execution_count": null,
      "outputs": [
        {
          "output_type": "display_data",
          "data": {
            "text/plain": [
              "  0%|          | 0/5000 [00:00<?, ?it/s]"
            ],
            "application/vnd.jupyter.widget-view+json": {
              "version_major": 2,
              "version_minor": 0,
              "model_id": "091ef482d96546ada07f4be2e02226fe"
            }
          },
          "metadata": {}
        },
        {
          "output_type": "stream",
          "name": "stdout",
          "text": [
            "Ground Truth:\n",
            " [0 1 1 0]\n",
            "Model Output:\n",
            " [tensor([0.5011], grad_fn=<ViewBackward0>), tensor([0.5007], grad_fn=<ViewBackward0>), tensor([0.5006], grad_fn=<ViewBackward0>), tensor([0.5002], grad_fn=<ViewBackward0>)]\n"
          ]
        }
      ]
    },
    {
      "cell_type": "markdown",
      "source": [
        "## Problem 8\n",
        "\n",
        "Now repeat this, but using both versions of your non-linear two-layer model. Thus: train both versions of your non-linear two layer models, and evaluate them on the data.  \n",
        "\n",
        "If you did this correctly, the values you compute should equal (approximately) the values of the XOR function."
      ],
      "metadata": {
        "id": "mE5JK2I9n9qC"
      }
    },
    {
      "cell_type": "code",
      "source": [
        "device = torch.device('cuda' if torch.cuda.is_available() else 'cpu')\n",
        "\n",
        "model4 = TwoLayerNonLinearRegressor(2,1) # TO DO\n",
        "model4.to(device)\n",
        "\n",
        "train(model4, dataxor_train, dataxor_val, device) # TO DO -- give a command to train your model\n",
        "output_values4 = evaluate_model(model4,dataxor_val,device) # TO DO -- give a command to evaluate your model\n",
        "print('Ground Truth:\\n',Yxor) # TO DO -- print the ground truth, and then also print what your model predicts for the 4 points in the training set.\n",
        "print('Model Output:\\n',output_values4)"
      ],
      "metadata": {
        "colab": {
          "base_uri": "https://localhost:8080/",
          "height": 140,
          "referenced_widgets": [
            "f7132a7ead36463cbabfdc9f58770e58",
            "cd9563656e59437fbbf8abbeadde3934",
            "5524ddeba9584f698af31519bb5231a5",
            "63cb7d31d5ae4760a1f7b553c283cf49",
            "5c7c67b8bb1f41f5ad880f02cb00793f",
            "e1fe471fd979463c898a21ad6e2ce260",
            "5e30d806be164c24a25f3e8a00b25832",
            "7713bcbdb33d48629430013f4ca3f713",
            "a0d57a98cd6242b6b453f90e0cfd7066",
            "b8a0d48bc5b142b9aac52211c81cff7c",
            "973e61a511a141b6b07db5a374f30145"
          ]
        },
        "id": "lmrtqfsAgq8Z",
        "outputId": "51251d3a-d9aa-4665-c13d-5838164aed67"
      },
      "execution_count": null,
      "outputs": [
        {
          "output_type": "display_data",
          "data": {
            "text/plain": [
              "  0%|          | 0/5000 [00:00<?, ?it/s]"
            ],
            "application/vnd.jupyter.widget-view+json": {
              "version_major": 2,
              "version_minor": 0,
              "model_id": "f7132a7ead36463cbabfdc9f58770e58"
            }
          },
          "metadata": {}
        },
        {
          "output_type": "stream",
          "name": "stdout",
          "text": [
            "Ground Truth:\n",
            " [0 1 1 0]\n",
            "Model Output:\n",
            " [tensor([1.5517e-08], grad_fn=<ViewBackward0>), tensor([1.0000], grad_fn=<ViewBackward0>), tensor([1.0000], grad_fn=<ViewBackward0>), tensor([1.5517e-08], grad_fn=<ViewBackward0>)]\n"
          ]
        }
      ]
    },
    {
      "cell_type": "code",
      "source": [
        "device = torch.device('cuda' if torch.cuda.is_available() else 'cpu')\n",
        "\n",
        "model5 = TwoLayerNonLinearRegressor2(2,1) # TO DO\n",
        "model5.to(device)\n",
        "\n",
        "train(model5, dataxor_train, dataxor_val, device) # TO DO -- give a command to train your model\n",
        "output_values5 = evaluate_model(model5,dataxor_val,device) # TO DO -- give a command to evaluate your model\n",
        "print('Ground Truth:\\n',Yxor) # TO DO -- print the ground truth, and then also print what your model predicts for the 4 points in the training set.\n",
        "print('Model Output:\\n',output_values5)"
      ],
      "metadata": {
        "colab": {
          "base_uri": "https://localhost:8080/",
          "height": 140,
          "referenced_widgets": [
            "7606eb07831145e7aa2bd39016a72a46",
            "0025c79bdeb0418e90d020b7c0c3d789",
            "9b1d22e61a0949db96a6baefcae20862",
            "ee75f4044c0a481883c6e122fcb6a6d8",
            "30223a78e017412fa91f6061dd00eb70",
            "fc3cfc13eefe4ae490b86919b41cc9d5",
            "e7fc3d64bc8e4828b24708a8749b8be0",
            "a4f4e7e784684d7abe61448094b44118",
            "302a9d068e7a4865bbb7f38cb0cdfa3c",
            "f026f1e73a384675a8410ea2c3b36857",
            "20b1f424a7784108bd0983f94218a629"
          ]
        },
        "id": "InlRr1gKgrIb",
        "outputId": "9080978c-f530-4dde-85d0-70aab1f1b2be"
      },
      "execution_count": null,
      "outputs": [
        {
          "output_type": "display_data",
          "data": {
            "text/plain": [
              "  0%|          | 0/5000 [00:00<?, ?it/s]"
            ],
            "application/vnd.jupyter.widget-view+json": {
              "version_major": 2,
              "version_minor": 0,
              "model_id": "7606eb07831145e7aa2bd39016a72a46"
            }
          },
          "metadata": {}
        },
        {
          "output_type": "stream",
          "name": "stdout",
          "text": [
            "Ground Truth:\n",
            " [0 1 1 0]\n",
            "Model Output:\n",
            " [tensor([2.9802e-08], grad_fn=<ViewBackward0>), tensor([1.], grad_fn=<ViewBackward0>), tensor([1.], grad_fn=<ViewBackward0>), tensor([-2.9802e-08], grad_fn=<ViewBackward0>)]\n"
          ]
        }
      ]
    },
    {
      "cell_type": "markdown",
      "source": [
        "## Problem 9\n",
        "\n",
        "Print the parameters of one of your non-linear models. Thus, you should print: 4 weights plus 2 bias values for the first layer, and then 2 weights plus 1 bias value for the second: 9 parameters in total."
      ],
      "metadata": {
        "id": "NPRZcvQbpL6K"
      }
    },
    {
      "cell_type": "code",
      "source": [
        "for name, param in model4.named_parameters():\n",
        "  print (name, param.data)"
      ],
      "metadata": {
        "colab": {
          "base_uri": "https://localhost:8080/"
        },
        "id": "TKs3tLv1hoFW",
        "outputId": "8e68a089-eaf9-4fd1-99fd-7b315eb838cd"
      },
      "execution_count": null,
      "outputs": [
        {
          "output_type": "stream",
          "name": "stdout",
          "text": [
            "linear.0.weight tensor([[1.1824, 1.1824],\n",
            "        [0.9883, 1.0987]])\n",
            "linear.0.bias tensor([-4.8206e-05, -1.0989e+00])\n",
            "linear.2.weight tensor([[ 0.8458, -2.0242]])\n",
            "linear.2.bias tensor([1.5517e-08])\n"
          ]
        }
      ]
    }
  ]
}